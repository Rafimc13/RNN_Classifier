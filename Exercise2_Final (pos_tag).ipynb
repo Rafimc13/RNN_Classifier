{
 "cells": [
  {
   "cell_type": "markdown",
   "metadata": {},
   "source": [
    "# EXERCISE 2 - POS TAGGING TASK WITH RNN CLASSIFIER (LSTM LAYERS)"
   ]
  },
  {
   "cell_type": "markdown",
   "metadata": {},
   "source": [
    "Lets download our data from [source](https://github.com/UniversalDependencies/UD_English-EWT.git)"
   ]
  },
  {
   "cell_type": "code",
   "execution_count": 1,
   "metadata": {
    "colab": {
     "base_uri": "https://localhost:8080/"
    },
    "id": "DpZ0t7bl83FH",
    "outputId": "badbae10-07c0-4f14-a6f1-cbbca17845d1"
   },
   "outputs": [
    {
     "name": "stderr",
     "output_type": "stream",
     "text": [
      "fatal: destination path 'UD_English-EWT' already exists and is not an empty directory.\n"
     ]
    }
   ],
   "source": [
    "# Clone the repository\n",
    "!git clone --depth 2 --single-branch --branch dev https://github.com/UniversalDependencies/UD_English-EWT.git"
   ]
  },
  {
   "cell_type": "code",
   "execution_count": 2,
   "metadata": {
    "colab": {
     "base_uri": "https://localhost:8080/"
    },
    "id": "c1iVSJtX9C0N",
    "outputId": "1e4cbbb1-bc32-4f93-bcb9-3ae6ea831e81"
   },
   "outputs": [
    {
     "name": "stdout",
     "output_type": "stream",
     "text": [
      "Requirement already satisfied: conllu in c:\\users\\dionysis\\anaconda3\\lib\\site-packages (4.5.3)\n",
      "UD_English-EWT/en_ewt-ud-train.conllu\n",
      "UD_English-EWT/en_ewt-ud-dev.conllu\n",
      "UD_English-EWT/en_ewt-ud-test.conllu\n"
     ]
    }
   ],
   "source": [
    "!pip install conllu\n",
    "import conllu\n",
    "import pandas as pd\n",
    "import numpy as np\n",
    "\n",
    "def read_conllu_file(file_path):\n",
    "    \"\"\"\n",
    "    Read a conllu file and read each sentences separated\n",
    "    :param file_path: String\n",
    "    :return: data in sentences specifically: <class 'conllu.models.SentenceList'>\n",
    "    \"\"\"\n",
    "    # Read the CoNLL-U file\n",
    "    with open(file_path, \"r\", encoding=\"utf-8\") as f:\n",
    "        # Parse the CoNLL-U formatted data\n",
    "        data = f.read()\n",
    "        sentences = conllu.parse(data)\n",
    "    return sentences\n",
    "\n",
    "\n",
    "# Function to extract tokens and UPOS tags from\n",
    "# SentenceList object and create a DataFrame\n",
    "def create_pos_df(sentences):\n",
    "    \"\"\"\n",
    "    Read the conllu sentences list and import them in a dataframe\n",
    "    including the information we need\n",
    "    :param sentences: conllu.models.SentenceList\n",
    "    :return: pd.DataFrame object\n",
    "    \"\"\"\n",
    "    id_list = []\n",
    "    tokens_list = []\n",
    "    upos_tags_list = []\n",
    "\n",
    "    for sentence in sentences:\n",
    "        for token in sentence:  # Extract token and UPOS tag\n",
    "            id = token['id']\n",
    "            token_text = token['form']\n",
    "            upos_tag = token['upos']\n",
    "\n",
    "            id_list.append(id)\n",
    "            tokens_list.append(token_text)\n",
    "            upos_tags_list.append(upos_tag)\n",
    "\n",
    "\n",
    "    # Create dataframe\n",
    "    dataframe = pd.DataFrame({'id': id_list, \"token\": tokens_list, \"UPOS\": upos_tags_list})\n",
    "    return dataframe\n",
    "\n",
    "# Initialize the file paths\n",
    "for split in ('train', 'dev', 'test'):\n",
    "    file_path = f'UD_English-EWT/en_ewt-ud-{split}.conllu'\n",
    "    print(file_path)\n",
    "    sentences = read_conllu_file(file_path)\n",
    "\n",
    "    # Create DataFrame for the current split\n",
    "    pos_df = create_pos_df(sentences)\n",
    "    # Assign DataFrame to variable with specific name\n",
    "    globals()[f\"{split}_pos\"] = pos_df"
   ]
  },
  {
   "cell_type": "code",
   "execution_count": 4,
   "metadata": {
    "colab": {
     "base_uri": "https://localhost:8080/"
    },
    "id": "oQFQvQxK9Gts",
    "outputId": "6ee34d66-abf4-412b-fad3-68e3affdd293"
   },
   "outputs": [
    {
     "name": "stdout",
     "output_type": "stream",
     "text": [
      "train_pos dataframe: 207229\n",
      "test_pos dataframe: 25450\n",
      "dev_pos dataframe: 25511\n"
     ]
    }
   ],
   "source": [
    "print(f\"train_pos dataframe: {len(train_pos)}\")\n",
    "print(f\"test_pos dataframe: {len(test_pos)}\")\n",
    "print(f\"dev_pos dataframe: {len(dev_pos)}\")\n",
    "\n",
    "# !rm -rf /content/UD_English-EWT # free up memory"
   ]
  },
  {
   "cell_type": "markdown",
   "metadata": {},
   "source": [
    "### CLEAN OUR DATA"
   ]
  },
  {
   "cell_type": "code",
   "execution_count": 5,
   "metadata": {
    "colab": {
     "base_uri": "https://localhost:8080/"
    },
    "id": "rIuPJUKN9N-K",
    "outputId": "6d97ded3-9dd9-4959-a9b5-79efe910c0c9"
   },
   "outputs": [
    {
     "data": {
      "text/plain": [
       "array(['PROPN', 'PUNCT', 'ADJ', 'NOUN', 'VERB', 'DET', 'ADP', 'AUX',\n",
       "       'PRON', 'PART', 'SCONJ', 'NUM', 'ADV', 'CCONJ', '_', 'INTJ', 'X',\n",
       "       'SYM'], dtype=object)"
      ]
     },
     "execution_count": 5,
     "metadata": {},
     "output_type": "execute_result"
    }
   ],
   "source": [
    "# Check the labels of our data\n",
    "train_pos.UPOS.unique()"
   ]
  },
  {
   "cell_type": "code",
   "execution_count": 6,
   "metadata": {
    "id": "iCh6vWWw9Vru"
   },
   "outputs": [],
   "source": [
    "# Drop rows that contain UPOS = '_'\n",
    "train_pos = train_pos[train_pos.UPOS != '_']\n",
    "test_pos = test_pos[test_pos.UPOS != '_']\n",
    "dev_pos = dev_pos[dev_pos.UPOS != '_']"
   ]
  },
  {
   "cell_type": "code",
   "execution_count": 7,
   "metadata": {
    "colab": {
     "base_uri": "https://localhost:8080/"
    },
    "id": "dYHeHZGG9YJI",
    "outputId": "65fd33a6-1371-49dc-f4e7-94b714e82218"
   },
   "outputs": [
    {
     "name": "stdout",
     "output_type": "stream",
     "text": [
      "Number of tags:  17\n"
     ]
    }
   ],
   "source": [
    "print(\"Number of tags: \",len(train_pos.UPOS.unique()))"
   ]
  },
  {
   "cell_type": "code",
   "execution_count": 11,
   "metadata": {
    "colab": {
     "base_uri": "https://localhost:8080/"
    },
    "id": "vNQE55P49cHF",
    "outputId": "acd6ff20-b58e-4684-bf44-1a35ab314ad5"
   },
   "outputs": [
    {
     "name": "stdout",
     "output_type": "stream",
     "text": [
      "The length of the training set before the preprocess: 204578\n",
      "After the preprocess: 204578\n"
     ]
    }
   ],
   "source": [
    "print(f'The length of the training set before the preprocess: {len(train_pos)}')\n",
    "\n",
    "# Remove duplicate words where their id is not integer but tuple\n",
    "train_pos = train_pos[train_pos.id.apply(lambda x: isinstance(x, int))]\n",
    "dev_pos = dev_pos[dev_pos.id.apply(lambda x: isinstance(x, int))]\n",
    "test_pos = test_pos[test_pos.id.apply(lambda x: isinstance(x, int))]\n",
    "\n",
    "# Reset the index of our dataframes because we dropped some rows\n",
    "train_pos = train_pos.reset_index()\n",
    "dev_pos = dev_pos.reset_index()\n",
    "test_pos = test_pos.reset_index()\n",
    "\n",
    "print(f'After the preprocess: {len(train_pos)}')"
   ]
  },
  {
   "cell_type": "code",
   "execution_count": 12,
   "metadata": {
    "colab": {
     "base_uri": "https://localhost:8080/",
     "height": 1000
    },
    "id": "qxNlHp_9-REp",
    "outputId": "2496419f-b446-4210-ae42-4e4706d2cb59"
   },
   "outputs": [
    {
     "data": {
      "text/html": [
       "<div>\n",
       "<style scoped>\n",
       "    .dataframe tbody tr th:only-of-type {\n",
       "        vertical-align: middle;\n",
       "    }\n",
       "\n",
       "    .dataframe tbody tr th {\n",
       "        vertical-align: top;\n",
       "    }\n",
       "\n",
       "    .dataframe thead th {\n",
       "        text-align: right;\n",
       "    }\n",
       "</style>\n",
       "<table border=\"1\" class=\"dataframe\">\n",
       "  <thead>\n",
       "    <tr style=\"text-align: right;\">\n",
       "      <th></th>\n",
       "      <th>level_0</th>\n",
       "      <th>index</th>\n",
       "      <th>id</th>\n",
       "      <th>token</th>\n",
       "      <th>UPOS</th>\n",
       "    </tr>\n",
       "  </thead>\n",
       "  <tbody>\n",
       "    <tr>\n",
       "      <th>0</th>\n",
       "      <td>0</td>\n",
       "      <td>0</td>\n",
       "      <td>1</td>\n",
       "      <td>Al</td>\n",
       "      <td>PROPN</td>\n",
       "    </tr>\n",
       "    <tr>\n",
       "      <th>1</th>\n",
       "      <td>1</td>\n",
       "      <td>1</td>\n",
       "      <td>2</td>\n",
       "      <td>-</td>\n",
       "      <td>PUNCT</td>\n",
       "    </tr>\n",
       "    <tr>\n",
       "      <th>2</th>\n",
       "      <td>2</td>\n",
       "      <td>2</td>\n",
       "      <td>3</td>\n",
       "      <td>Zaman</td>\n",
       "      <td>PROPN</td>\n",
       "    </tr>\n",
       "    <tr>\n",
       "      <th>3</th>\n",
       "      <td>3</td>\n",
       "      <td>3</td>\n",
       "      <td>4</td>\n",
       "      <td>:</td>\n",
       "      <td>PUNCT</td>\n",
       "    </tr>\n",
       "    <tr>\n",
       "      <th>4</th>\n",
       "      <td>4</td>\n",
       "      <td>4</td>\n",
       "      <td>5</td>\n",
       "      <td>American</td>\n",
       "      <td>ADJ</td>\n",
       "    </tr>\n",
       "  </tbody>\n",
       "</table>\n",
       "</div>"
      ],
      "text/plain": [
       "   level_0  index id     token   UPOS\n",
       "0        0      0  1        Al  PROPN\n",
       "1        1      1  2         -  PUNCT\n",
       "2        2      2  3     Zaman  PROPN\n",
       "3        3      3  4         :  PUNCT\n",
       "4        4      4  5  American    ADJ"
      ]
     },
     "execution_count": 12,
     "metadata": {},
     "output_type": "execute_result"
    }
   ],
   "source": [
    "train_pos.head(5)"
   ]
  },
  {
   "cell_type": "code",
   "execution_count": 13,
   "metadata": {
    "colab": {
     "base_uri": "https://localhost:8080/"
    },
    "id": "27zh47gcY9u3",
    "outputId": "43beae2e-233b-4973-8c2f-513165609ec3"
   },
   "outputs": [
    {
     "data": {
      "text/plain": [
       "UPOS\n",
       "NOUN     4137\n",
       "PUNCT    3096\n",
       "VERB     2605\n",
       "PRON     2161\n",
       "PROPN    2077\n",
       "ADP      2033\n",
       "DET      1897\n",
       "ADJ      1787\n",
       "AUX      1543\n",
       "ADV      1178\n",
       "CCONJ     737\n",
       "PART      649\n",
       "NUM       542\n",
       "SCONJ     384\n",
       "INTJ      120\n",
       "SYM       109\n",
       "X          39\n",
       "Name: count, dtype: int64"
      ]
     },
     "execution_count": 13,
     "metadata": {},
     "output_type": "execute_result"
    }
   ],
   "source": [
    "test_pos.UPOS.value_counts()"
   ]
  },
  {
   "cell_type": "markdown",
   "metadata": {
    "id": "GLEKcSCgAtx2"
   },
   "source": [
    "### BUILD OUR DATASET IN SENTENCES"
   ]
  },
  {
   "cell_type": "code",
   "execution_count": 14,
   "metadata": {
    "colab": {
     "base_uri": "https://localhost:8080/"
    },
    "id": "3rgBqoBD9ipk",
    "outputId": "510fda2c-860f-493d-d065-e24976f7ac3b"
   },
   "outputs": [
    {
     "name": "stderr",
     "output_type": "stream",
     "text": [
      "100%|███████████████████████████████████████████████████████████████████████| 204578/204578 [00:11<00:00, 18068.02it/s]\n"
     ]
    },
    {
     "name": "stdout",
     "output_type": "stream",
     "text": [
      "\n",
      "The total sentences of the training set is: 12544\n"
     ]
    },
    {
     "name": "stderr",
     "output_type": "stream",
     "text": [
      "100%|█████████████████████████████████████████████████████████████████████████| 25149/25149 [00:01<00:00, 18865.42it/s]\n"
     ]
    },
    {
     "name": "stdout",
     "output_type": "stream",
     "text": [
      "\n",
      "The total sentences of the development set is: 2001\n"
     ]
    },
    {
     "name": "stderr",
     "output_type": "stream",
     "text": [
      "100%|█████████████████████████████████████████████████████████████████████████| 25094/25094 [00:01<00:00, 17144.07it/s]"
     ]
    },
    {
     "name": "stdout",
     "output_type": "stream",
     "text": [
      "\n",
      "The total sentences of the test set is: 2077\n"
     ]
    },
    {
     "name": "stderr",
     "output_type": "stream",
     "text": [
      "\n"
     ]
    }
   ],
   "source": [
    "from tqdm import tqdm\n",
    "\n",
    "\n",
    "def make_sentences(dataframe):\n",
    "    \"\"\"\n",
    "    Make sentences from the train, development and test set in order\n",
    "    to create windows for each word\n",
    "    :param dataframe: pandas df\n",
    "    :return: array of sentences\n",
    "    :return: array of position of each word\n",
    "    :return: array of tags for each word\n",
    "    \"\"\"\n",
    "    all_sents = []\n",
    "    all_positions = []\n",
    "    all_tags = []\n",
    "    sentence = []\n",
    "    position = []\n",
    "    pos_tags = []\n",
    "    cnt = 0\n",
    "    with tqdm(total = len(dataframe)) as pbar:\n",
    "        for index, row in dataframe.iterrows():\n",
    "            id = row['id']\n",
    "            token= row['token']\n",
    "            upos = row['UPOS']\n",
    "            if id > cnt:\n",
    "                cnt = id\n",
    "                sentence.append(token)\n",
    "                position.append(index)\n",
    "                pos_tags.append(upos)\n",
    "            else:\n",
    "                all_sents.append(sentence)\n",
    "                all_positions.append(position)\n",
    "                all_tags.append(pos_tags)\n",
    "                sentence = []\n",
    "                sentence.append(token)\n",
    "                position= []\n",
    "                position.append(index)\n",
    "                pos_tags = []\n",
    "                pos_tags.append(upos)\n",
    "                cnt=id\n",
    "            pbar.update(1)  # Update the progress bar\n",
    "        all_sents.append(sentence)\n",
    "        all_positions.append(position)\n",
    "        all_tags.append(pos_tags)\n",
    "\n",
    "    return all_sents, all_positions, all_tags\n",
    "\n",
    "X_train, all_train_positions, y_train = make_sentences(train_pos)\n",
    "print(f'\\nThe total sentences of the training set is: {len(X_train)}')\n",
    "X_dev, all_dev_positions, y_dev = make_sentences(dev_pos)\n",
    "print(f'\\nThe total sentences of the development set is: {len(X_dev)}')\n",
    "X_test, all_test_positions, y_test = make_sentences(test_pos)\n",
    "print(f'\\nThe total sentences of the test set is: {len(X_test)}')"
   ]
  },
  {
   "cell_type": "code",
   "execution_count": 15,
   "metadata": {
    "colab": {
     "base_uri": "https://localhost:8080/"
    },
    "id": "mK1w7ub59uat",
    "outputId": "5ddbf2c0-5ae7-4c79-e42f-026a80da9df1"
   },
   "outputs": [
    {
     "name": "stdout",
     "output_type": "stream",
     "text": [
      "Size of train:  12544\n",
      "Size of dev:  2001\n",
      "Size of test:  2077\n"
     ]
    }
   ],
   "source": [
    "print(\"Size of train: \",len(X_train))\n",
    "print(\"Size of dev: \",len(X_dev))\n",
    "print(\"Size of test: \",len(X_test))"
   ]
  },
  {
   "cell_type": "markdown",
   "metadata": {},
   "source": [
    "### VECTORIZE OUR DATASET\n",
    "\n",
    "We are going to use keras vectorizer in order to build fixed length dataset for each sentence."
   ]
  },
  {
   "cell_type": "code",
   "execution_count": 16,
   "metadata": {},
   "outputs": [],
   "source": [
    "# Join the words into sentences in order to be added in the vectorizer\n",
    "X_train_final = [' '.join(tokens) for tokens in X_train]\n",
    "X_dev_final = [' '.join(tokens) for tokens in X_dev]\n",
    "X_test_final = [' '.join(tokens) for tokens in X_test]"
   ]
  },
  {
   "cell_type": "code",
   "execution_count": 17,
   "metadata": {},
   "outputs": [
    {
     "data": {
      "text/plain": [
       "['DPA : Iraqi authorities announced that they had busted up 3 terrorist cells operating in Baghdad .',\n",
       " 'Two of them were being run by 2 officials of the Ministry of the Interior !',\n",
       " 'The MoI in Iraq is equivalent to the US FBI , so this would be like having J. Edgar Hoover unwittingly employ at a high level members of the Weathermen bombers back in the 1960s .']"
      ]
     },
     "execution_count": 17,
     "metadata": {},
     "output_type": "execute_result"
    }
   ],
   "source": [
    "# Example of our dataset\n",
    "X_train_final[2:5]"
   ]
  },
  {
   "cell_type": "code",
   "execution_count": 18,
   "metadata": {},
   "outputs": [
    {
     "name": "stdout",
     "output_type": "stream",
     "text": [
      "WARNING:tensorflow:From C:\\Users\\dionysis\\anaconda3\\Lib\\site-packages\\keras\\src\\losses.py:2976: The name tf.losses.sparse_softmax_cross_entropy is deprecated. Please use tf.compat.v1.losses.sparse_softmax_cross_entropy instead.\n",
      "\n",
      "WARNING:tensorflow:From C:\\Users\\dionysis\\anaconda3\\Lib\\site-packages\\keras\\src\\backend.py:873: The name tf.get_default_graph is deprecated. Please use tf.compat.v1.get_default_graph instead.\n",
      "\n",
      "WARNING:tensorflow:From C:\\Users\\dionysis\\anaconda3\\Lib\\site-packages\\keras\\src\\utils\\tf_utils.py:492: The name tf.ragged.RaggedTensorValue is deprecated. Please use tf.compat.v1.ragged.RaggedTensorValue instead.\n",
      "\n"
     ]
    }
   ],
   "source": [
    "# !pip install tensorflow\n",
    "\n",
    "import tensorflow as tf\n",
    "import keras\n",
    "\n",
    "MAX_WORDS = 100000\n",
    "MAX_SEQUENCE_LENGTH = 96\n",
    "EMBEDDING_DIM = 300\n",
    "\n",
    "vectorizer = tf.keras.layers.TextVectorization(max_tokens=MAX_WORDS, standardize='lower', output_mode='int',\n",
    "                                               ngrams=1, output_sequence_length=MAX_SEQUENCE_LENGTH)\n",
    "\n",
    "vectorizer.adapt(X_train_final)"
   ]
  },
  {
   "cell_type": "code",
   "execution_count": 20,
   "metadata": {},
   "outputs": [
    {
     "data": {
      "text/plain": [
       "<tf.Tensor: shape=(2, 96), dtype=int64, numpy=\n",
       "array([[ 1272, 10615,     3,   534,     0,     0,     0,     0,     0,\n",
       "            0,     0,     0,     0,     0,     0,     0,     0,     0,\n",
       "            0,     0,     0,     0,     0,     0,     0,     0,     0,\n",
       "            0,     0,     0,     0,     0,     0,     0,     0,     0,\n",
       "            0,     0,     0,     0,     0,     0,     0,     0,     0,\n",
       "            0,     0,     0,     0,     0,     0,     0,     0,     0,\n",
       "            0,     0,     0,     0,     0,     0,     0,     0,     0,\n",
       "            0,     0,     0,     0,     0,     0,     0,     0,     0,\n",
       "            0,     0,     0,     0,     0,     0,     0,     0,     0,\n",
       "            0,     0,     0,     0,     0,     0,     0,     0,     0,\n",
       "            0,     0,     0,     0,     0,     0],\n",
       "       [  163,  4097,    21,     1,  1358,     0,     0,     0,     0,\n",
       "            0,     0,     0,     0,     0,     0,     0,     0,     0,\n",
       "            0,     0,     0,     0,     0,     0,     0,     0,     0,\n",
       "            0,     0,     0,     0,     0,     0,     0,     0,     0,\n",
       "            0,     0,     0,     0,     0,     0,     0,     0,     0,\n",
       "            0,     0,     0,     0,     0,     0,     0,     0,     0,\n",
       "            0,     0,     0,     0,     0,     0,     0,     0,     0,\n",
       "            0,     0,     0,     0,     0,     0,     0,     0,     0,\n",
       "            0,     0,     0,     0,     0,     0,     0,     0,     0,\n",
       "            0,     0,     0,     0,     0,     0,     0,     0,     0,\n",
       "            0,     0,     0,     0,     0,     0]], dtype=int64)>"
      ]
     },
     "execution_count": 20,
     "metadata": {},
     "output_type": "execute_result"
    }
   ],
   "source": [
    "# Example of a sentence how is vectorized based on the training set\n",
    "input_array = [[\"trouble respected . word\"], [\"another sentence with unfjfh words\"]]\n",
    "vectorizer.call(input_array)"
   ]
  },
  {
   "cell_type": "markdown",
   "metadata": {},
   "source": [
    "### TRANSFORM OUR WORDS OF THE DATASET INTO WORD EMBEDDINGS VIA FASTTEXT"
   ]
  },
  {
   "cell_type": "code",
   "execution_count": 21,
   "metadata": {},
   "outputs": [],
   "source": [
    "# !pip install fasttext-wheel\n",
    "# !pip install fasttext\n",
    "import fasttext\n",
    "import numpy as np\n",
    "import fasttext.util\n",
    "\n",
    "MAX_WORDS = 100000\n",
    "# fasttext_model = fasttext.load_model('C:/Users/dionysis/Downloads/model.bin')\n",
    "fasttext_model = fasttext.load_model('C:/Users/dionysis/Downloads/cc.en.300.bin')\n",
    "\n",
    "embedding_matrix = np.zeros(shape=(MAX_WORDS, 300))\n",
    "\n",
    "for w2idx, _word in enumerate(vectorizer.get_vocabulary()):\n",
    "    # Skip PAD and UNK tokens\n",
    "    if w2idx >= 2:\n",
    "      embedding_matrix[w2idx] = fasttext_model.get_word_vector(_word)"
   ]
  },
  {
   "cell_type": "markdown",
   "metadata": {},
   "source": [
    "### MAKE ENCODED VECTORS THE LABELS Y VIA VECTORIZER"
   ]
  },
  {
   "cell_type": "code",
   "execution_count": 22,
   "metadata": {
    "id": "pAelfGHbDWr4"
   },
   "outputs": [],
   "source": [
    "from keras.preprocessing.text import Tokenizer\n",
    "from tensorflow.keras.preprocessing.sequence import pad_sequences\n",
    "from keras.utils import to_categorical\n",
    "\n",
    "y_train_string = [' '.join(tokens) for tokens in y_train]\n",
    "y_dev_final = [' '.join(tokens) for tokens in y_dev]\n",
    "y_test_final = [' '.join(tokens) for tokens in y_test]\n",
    "\n",
    "tag_tokenizer = Tokenizer()\n",
    "tag_tokenizer.fit_on_texts(y_train)\n",
    "y_train_encoded = tag_tokenizer.texts_to_sequences(y_train)\n",
    "y_dev_encoded = tag_tokenizer.texts_to_sequences(y_dev)\n",
    "y_test_encoded = tag_tokenizer.texts_to_sequences(y_test)"
   ]
  },
  {
   "cell_type": "code",
   "execution_count": 23,
   "metadata": {},
   "outputs": [
    {
     "name": "stdout",
     "output_type": "stream",
     "text": [
      "[[9, 2, 7, 1, 3, 14, 4, 8, 3, 5, 13, 7, 1, 3, 5, 9, 2], [13, 5, 4, 8, 8, 3, 5, 13, 1, 5, 6, 9, 5, 6, 9, 2], [6, 9, 5, 9, 8, 7, 5, 6, 9, 9, 2, 10, 4, 8, 8, 14, 3, 9, 9, 9, 10, 3, 5, 6, 7, 1, 1, 5, 6, 9, 1, 10, 5, 6, 1, 2]]\n"
     ]
    }
   ],
   "source": [
    "# Example of y_train encoded\n",
    "print(y_train_encoded[2:5])"
   ]
  },
  {
   "cell_type": "code",
   "execution_count": 24,
   "metadata": {},
   "outputs": [
    {
     "name": "stdout",
     "output_type": "stream",
     "text": [
      "[[ 9  2  7  1  3 14  4  8  3  5 13  7  1  3  5  9  2  0  0  0  0  0  0  0\n",
      "   0  0  0  0  0  0  0  0  0  0  0  0  0  0  0  0  0  0  0  0  0  0  0  0\n",
      "   0  0  0  0  0  0  0  0  0  0  0  0  0  0  0  0  0  0  0  0  0  0  0  0\n",
      "   0  0  0  0  0  0  0  0  0  0  0  0  0  0  0  0  0  0  0  0  0  0  0  0]\n",
      " [13  5  4  8  8  3  5 13  1  5  6  9  5  6  9  2  0  0  0  0  0  0  0  0\n",
      "   0  0  0  0  0  0  0  0  0  0  0  0  0  0  0  0  0  0  0  0  0  0  0  0\n",
      "   0  0  0  0  0  0  0  0  0  0  0  0  0  0  0  0  0  0  0  0  0  0  0  0\n",
      "   0  0  0  0  0  0  0  0  0  0  0  0  0  0  0  0  0  0  0  0  0  0  0  0]\n",
      " [ 6  9  5  9  8  7  5  6  9  9  2 10  4  8  8 14  3  9  9  9 10  3  5  6\n",
      "   7  1  1  5  6  9  1 10  5  6  1  2  0  0  0  0  0  0  0  0  0  0  0  0\n",
      "   0  0  0  0  0  0  0  0  0  0  0  0  0  0  0  0  0  0  0  0  0  0  0  0\n",
      "   0  0  0  0  0  0  0  0  0  0  0  0  0  0  0  0  0  0  0  0  0  0  0  0]]\n"
     ]
    }
   ],
   "source": [
    "# PAD the labels of y_train, y_dev, y_test\n",
    "y_train_final = pad_sequences(y_train_encoded, maxlen=MAX_SEQUENCE_LENGTH, padding='post', truncating='post')\n",
    "y_dev_final = pad_sequences(y_dev_encoded, maxlen=MAX_SEQUENCE_LENGTH, padding='post', truncating='post')\n",
    "y_test_final = pad_sequences(y_test_encoded, maxlen=MAX_SEQUENCE_LENGTH, padding='post', truncating='post')\n",
    "\n",
    "# Example of padded y_train\n",
    "print(y_train_final[2:5])"
   ]
  },
  {
   "cell_type": "code",
   "execution_count": 25,
   "metadata": {},
   "outputs": [
    {
     "name": "stdout",
     "output_type": "stream",
     "text": [
      "17\n"
     ]
    }
   ],
   "source": [
    "print(len(np.unique(y_train_final)) -1)"
   ]
  },
  {
   "cell_type": "markdown",
   "metadata": {},
   "source": [
    "# BUILDING OUR MODEL (LSTM BASED)"
   ]
  },
  {
   "cell_type": "code",
   "execution_count": 26,
   "metadata": {
    "id": "rhyaypSha4-F"
   },
   "outputs": [],
   "source": [
    "import numpy as np\n",
    "import os\n",
    "import tensorflow as tf\n",
    "from sklearn.metrics import f1_score, recall_score, precision_score\n",
    "\n",
    "\n",
    "class Metrics(tf.keras.callbacks.Callback):\n",
    "    def __init__(self, valid_data):\n",
    "        super(Metrics, self).__init__()\n",
    "        self.validation_data = valid_data\n",
    "\n",
    "    def on_epoch_end(self, epoch, logs=None):\n",
    "        logs = logs or {}\n",
    "        val_predict = np.argmax(self.model.predict(self.validation_data[0]), -1)\n",
    "        val_targ = self.validation_data[1]\n",
    "\n",
    "        if len(val_targ.shape) == 2 and val_targ.shape[1] != 1:\n",
    "            val_targ = np.argmax(val_targ, -1)\n",
    "        val_targ = tf.cast(val_targ,dtype=tf.float32)\n",
    "\n",
    "        _val_f1 = f1_score(val_targ, val_predict, average=\"weighted\",\n",
    "                           zero_division=1)\n",
    "        _val_recall = recall_score(val_targ, val_predict, average=\"weighted\",\n",
    "                                   zero_division=1)\n",
    "        _val_precision = precision_score(val_targ, val_predict, average=\"weighted\",\n",
    "                                         zero_division=1)\n",
    "\n",
    "        logs['val_f1'] = _val_f1\n",
    "        logs['val_recall'] = _val_recall\n",
    "        logs['val_precision'] = _val_precision\n",
    "        print(\" — val_f1: %f — val_precision: %f — val_recall: %f\" % (_val_f1, _val_precision, _val_recall))\n",
    "        return"
   ]
  },
  {
   "cell_type": "code",
   "execution_count": 27,
   "metadata": {},
   "outputs": [],
   "source": [
    "class SelfAttention(tf.keras.layers.Layer):\n",
    "  def __init__(self, mlp_layers=0, units=0, dropout_rate=0, return_attention=False, **kwargs):\n",
    "    super(SelfAttention, self).__init__(**kwargs)\n",
    "    self.mlp_layers = mlp_layers\n",
    "    self.mlp_units = units\n",
    "    self.return_attention = return_attention\n",
    "    self.dropout_rate = dropout_rate\n",
    "    self.attention_mlp = self.build_mlp()\n",
    "\n",
    "  def build_mlp(self):\n",
    "    mlp = tf.keras.Sequential()\n",
    "    for i in range(self.mlp_layers):\n",
    "      mlp.add(tf.keras.layers.Dense(self.mlp_units, activation='relu'))\n",
    "      mlp.add(tf.keras.layers.Dropout(self.dropout_rate))\n",
    "    mlp.add(tf.keras.layers.Dense(1))\n",
    "    return mlp\n",
    "\n",
    "  def call(self, x, mask=None):\n",
    "    a = self.attention_mlp(x)\n",
    "    a = tf.squeeze(a, axis=-1)\n",
    "\n",
    "    if mask is not None:\n",
    "      mask = tf.keras.backend.cast(mask, tf.keras.backend.floatx())\n",
    "      a -= 100000.0 * (1.0 - mask)\n",
    "\n",
    "    a = tf.keras.backend.expand_dims(tf.keras.backend.softmax(a, axis=-1))\n",
    "    weighted_input = x * a\n",
    "    result = tf.keras.backend.sum(weighted_input, axis=1)\n",
    "\n",
    "    if self.return_attention:\n",
    "      return [result, a]\n",
    "    return result\n"
   ]
  },
  {
   "cell_type": "code",
   "execution_count": 28,
   "metadata": {
    "colab": {
     "base_uri": "https://localhost:8080/"
    },
    "id": "RV-SVMh1De9F",
    "outputId": "7489e3f6-966e-4430-baf7-1868e4fb70f3"
   },
   "outputs": [],
   "source": [
    "import tensorflow as tf\n",
    "import numpy as np\n",
    "from tensorflow.keras.callbacks import EarlyStopping, ModelCheckpoint\n",
    "from tensorflow.keras.layers import Bidirectional, LSTM, Dense, Dropout, LayerNormalization\n",
    "\n",
    "LSTM_SIZE = 300\n",
    "DENSE = 1000\n",
    "MAX_WORDS = 100000\n",
    "MAX_SEQUENCE_LENGTH = 96\n",
    "EMBEDDING_DIM = 300\n",
    "\n",
    "\n",
    "def LSTM_model (X_train, y_train, X_dev, y_dev, lr_rate=0.001, batch_size=256):\n",
    "\n",
    "    # Define input layer\n",
    "    inputs = tf.keras.layers.Input(shape=(1,), dtype=tf.string)\n",
    "    \n",
    "    # Add layers using functional API\n",
    "    x = vectorizer(inputs)\n",
    "    x = tf.keras.layers.Embedding(MAX_WORDS, EMBEDDING_DIM, weights=[embedding_matrix],\n",
    "                                  input_length=MAX_SEQUENCE_LENGTH, mask_zero=True, trainable=False)(x)\n",
    "    x = tf.keras.layers.Dropout(0.3)(x)\n",
    "    \n",
    "    # add a bidirectional lstm layer with 0.3 variational (recurrent) dropout\n",
    "    x = tf.keras.layers.Bidirectional(tf.keras.layers.LSTM(LSTM_SIZE, return_sequences=True, recurrent_dropout=0.3))(x)\n",
    "    x = LayerNormalization()(x)\n",
    "    x = tf.keras.layers.Dropout(0.3)(x)\n",
    "    # add a second bidirectional lstm layer with 0.3 variational (recurrent) dropout\n",
    "    x = tf.keras.layers.Bidirectional(tf.keras.layers.LSTM(LSTM_SIZE, return_sequences=True, recurrent_dropout=0.3))(x)\n",
    "    x = LayerNormalization()(x)\n",
    "    x = tf.keras.layers.Dropout(0.3)(x)\n",
    "    \n",
    "    # # Self Attention mechanism as input in the output of the LSTM layers\n",
    "    # x, attention_weights = SelfAttention(mlp_layers=0, return_attention=True)(x)\n",
    "    \n",
    "    x = tf.keras.layers.Dense(units=DENSE, activation='relu')(x)\n",
    "    x = tf.keras.layers.Dropout(0.3)(x)\n",
    "    outputs = tf.keras.layers.Dense(len(np.unique(y_train_final)), activation='softmax')(x)\n",
    "    \n",
    "    # Define the model\n",
    "    model = tf.keras.Model(inputs=inputs, outputs=outputs)\n",
    "    \n",
    "    # model_for_attention = tf.keras.Model(inputs=inputs, outputs=attention_weights)\n",
    "    \n",
    "    print(model.summary())\n",
    "    \n",
    "    model.compile(loss='sparse_categorical_crossentropy',\n",
    "                   optimizer=tf.keras.optimizers.Adam(learning_rate=lr_rate),\n",
    "                   metrics=[\"accuracy\"])\n",
    "    \n",
    "    # Add an early stopping callback to stop the epochs when we catch the best validation loss\n",
    "    early_stopping_callback = EarlyStopping(\n",
    "        monitor='val_loss',\n",
    "        patience=5,\n",
    "        restore_best_weights=True\n",
    "    )\n",
    "    # Callback to save the Keras model or model weights at some frequency.\n",
    "    LSTM_checkpoint = ModelCheckpoint(\n",
    "        'checkpoints/weights6',\n",
    "        monitor='val_loss',\n",
    "        mode='min',\n",
    "        verbose=2,\n",
    "        save_best_only=True,\n",
    "        save_weights_only=True,\n",
    "        save_format='tf'\n",
    "    )\n",
    "    \n",
    "    # Train the model\n",
    "    history = model.fit(np.array(X_train), np.array(y_train),\n",
    "                          validation_data=(np.array(X_dev), np.array(y_dev)),\n",
    "                          batch_size=batch_size,\n",
    "                          epochs=50,\n",
    "                          shuffle=True,\n",
    "                  callbacks=[early_stopping_callback,\n",
    "                            LSTM_checkpoint]\n",
    "                         )\n",
    "    \n",
    "    return history, model\n"
   ]
  },
  {
   "cell_type": "code",
   "execution_count": 29,
   "metadata": {
    "colab": {
     "base_uri": "https://localhost:8080/"
    },
    "id": "V93NB88bD48e",
    "outputId": "c8bf559b-5df9-46cf-935a-cd6cee60ad24",
    "scrolled": true
   },
   "outputs": [
    {
     "name": "stdout",
     "output_type": "stream",
     "text": [
      "WARNING:tensorflow:From C:\\Users\\dionysis\\anaconda3\\Lib\\site-packages\\keras\\src\\layers\\normalization\\layer_normalization.py:328: The name tf.nn.fused_batch_norm is deprecated. Please use tf.compat.v1.nn.fused_batch_norm instead.\n",
      "\n",
      "Model: \"model\"\n",
      "_________________________________________________________________\n",
      " Layer (type)                Output Shape              Param #   \n",
      "=================================================================\n",
      " input_1 (InputLayer)        [(None, 1)]               0         \n",
      "                                                                 \n",
      " text_vectorization (TextVe  (None, 96)                0         \n",
      " ctorization)                                                    \n",
      "                                                                 \n",
      " embedding (Embedding)       (None, 96, 300)           30000000  \n",
      "                                                                 \n",
      " dropout (Dropout)           (None, 96, 300)           0         \n",
      "                                                                 \n",
      " bidirectional (Bidirection  (None, 96, 600)           1442400   \n",
      " al)                                                             \n",
      "                                                                 \n",
      " layer_normalization (Layer  (None, 96, 600)           1200      \n",
      " Normalization)                                                  \n",
      "                                                                 \n",
      " dropout_1 (Dropout)         (None, 96, 600)           0         \n",
      "                                                                 \n",
      " bidirectional_1 (Bidirecti  (None, 96, 600)           2162400   \n",
      " onal)                                                           \n",
      "                                                                 \n",
      " layer_normalization_1 (Lay  (None, 96, 600)           1200      \n",
      " erNormalization)                                                \n",
      "                                                                 \n",
      " dropout_2 (Dropout)         (None, 96, 600)           0         \n",
      "                                                                 \n",
      " dense (Dense)               (None, 96, 1000)          601000    \n",
      "                                                                 \n",
      " dropout_3 (Dropout)         (None, 96, 1000)          0         \n",
      "                                                                 \n",
      " dense_1 (Dense)             (None, 96, 18)            18018     \n",
      "                                                                 \n",
      "=================================================================\n",
      "Total params: 34226218 (130.56 MB)\n",
      "Trainable params: 4226218 (16.12 MB)\n",
      "Non-trainable params: 30000000 (114.44 MB)\n",
      "_________________________________________________________________\n",
      "None\n",
      "Epoch 1/50\n",
      "WARNING:tensorflow:From C:\\Users\\dionysis\\anaconda3\\Lib\\site-packages\\keras\\src\\engine\\base_layer_utils.py:384: The name tf.executing_eagerly_outside_functions is deprecated. Please use tf.compat.v1.executing_eagerly_outside_functions instead.\n",
      "\n",
      "49/49 [==============================] - ETA: 0s - loss: 1.7272 - accuracy: 0.4803\n",
      "Epoch 1: val_loss improved from inf to 0.69548, saving model to checkpoints\\weights6\n",
      "49/49 [==============================] - 238s 5s/step - loss: 1.7272 - accuracy: 0.4803 - val_loss: 0.6955 - val_accuracy: 0.7774\n",
      "Epoch 2/50\n",
      "49/49 [==============================] - ETA: 0s - loss: 0.5970 - accuracy: 0.8079\n",
      "Epoch 2: val_loss improved from 0.69548 to 0.40660, saving model to checkpoints\\weights6\n",
      "49/49 [==============================] - 284s 6s/step - loss: 0.5970 - accuracy: 0.8079 - val_loss: 0.4066 - val_accuracy: 0.8735\n",
      "Epoch 3/50\n",
      "49/49 [==============================] - ETA: 0s - loss: 0.4019 - accuracy: 0.8707\n",
      "Epoch 3: val_loss improved from 0.40660 to 0.34173, saving model to checkpoints\\weights6\n",
      "49/49 [==============================] - 328s 7s/step - loss: 0.4019 - accuracy: 0.8707 - val_loss: 0.3417 - val_accuracy: 0.8929\n",
      "Epoch 4/50\n",
      "49/49 [==============================] - ETA: 0s - loss: 0.3311 - accuracy: 0.8930\n",
      "Epoch 4: val_loss improved from 0.34173 to 0.31041, saving model to checkpoints\\weights6\n",
      "49/49 [==============================] - 324s 7s/step - loss: 0.3311 - accuracy: 0.8930 - val_loss: 0.3104 - val_accuracy: 0.9011\n",
      "Epoch 5/50\n",
      "49/49 [==============================] - ETA: 0s - loss: 0.2901 - accuracy: 0.9051\n",
      "Epoch 5: val_loss improved from 0.31041 to 0.29459, saving model to checkpoints\\weights6\n",
      "49/49 [==============================] - 306s 6s/step - loss: 0.2901 - accuracy: 0.9051 - val_loss: 0.2946 - val_accuracy: 0.9035\n",
      "Epoch 6/50\n",
      "49/49 [==============================] - ETA: 0s - loss: 0.2591 - accuracy: 0.9153\n",
      "Epoch 6: val_loss improved from 0.29459 to 0.28780, saving model to checkpoints\\weights6\n",
      "49/49 [==============================] - 291s 6s/step - loss: 0.2591 - accuracy: 0.9153 - val_loss: 0.2878 - val_accuracy: 0.9070\n",
      "Epoch 7/50\n",
      "49/49 [==============================] - ETA: 0s - loss: 0.2354 - accuracy: 0.9223\n",
      "Epoch 7: val_loss improved from 0.28780 to 0.27675, saving model to checkpoints\\weights6\n",
      "49/49 [==============================] - 287s 6s/step - loss: 0.2354 - accuracy: 0.9223 - val_loss: 0.2767 - val_accuracy: 0.9109\n",
      "Epoch 8/50\n",
      "49/49 [==============================] - ETA: 0s - loss: 0.2171 - accuracy: 0.9285\n",
      "Epoch 8: val_loss improved from 0.27675 to 0.27037, saving model to checkpoints\\weights6\n",
      "49/49 [==============================] - 289s 6s/step - loss: 0.2171 - accuracy: 0.9285 - val_loss: 0.2704 - val_accuracy: 0.9160\n",
      "Epoch 9/50\n",
      "49/49 [==============================] - ETA: 0s - loss: 0.2027 - accuracy: 0.9331\n",
      "Epoch 9: val_loss improved from 0.27037 to 0.26635, saving model to checkpoints\\weights6\n",
      "49/49 [==============================] - 294s 6s/step - loss: 0.2027 - accuracy: 0.9331 - val_loss: 0.2663 - val_accuracy: 0.9190\n",
      "Epoch 10/50\n",
      "49/49 [==============================] - ETA: 0s - loss: 0.1901 - accuracy: 0.9372\n",
      "Epoch 10: val_loss improved from 0.26635 to 0.25082, saving model to checkpoints\\weights6\n",
      "49/49 [==============================] - 291s 6s/step - loss: 0.1901 - accuracy: 0.9372 - val_loss: 0.2508 - val_accuracy: 0.9215\n",
      "Epoch 11/50\n",
      "49/49 [==============================] - ETA: 0s - loss: 0.1778 - accuracy: 0.9409\n",
      "Epoch 11: val_loss did not improve from 0.25082\n",
      "49/49 [==============================] - 291s 6s/step - loss: 0.1778 - accuracy: 0.9409 - val_loss: 0.2557 - val_accuracy: 0.9215\n",
      "Epoch 12/50\n",
      "49/49 [==============================] - ETA: 0s - loss: 0.1685 - accuracy: 0.9438\n",
      "Epoch 12: val_loss did not improve from 0.25082\n",
      "49/49 [==============================] - 285s 6s/step - loss: 0.1685 - accuracy: 0.9438 - val_loss: 0.2534 - val_accuracy: 0.9217\n",
      "Epoch 13/50\n",
      "49/49 [==============================] - ETA: 0s - loss: 0.1601 - accuracy: 0.9463\n",
      "Epoch 13: val_loss did not improve from 0.25082\n",
      "49/49 [==============================] - 295s 6s/step - loss: 0.1601 - accuracy: 0.9463 - val_loss: 0.2539 - val_accuracy: 0.9227\n",
      "Epoch 14/50\n",
      "49/49 [==============================] - ETA: 0s - loss: 0.1528 - accuracy: 0.9483\n",
      "Epoch 14: val_loss did not improve from 0.25082\n",
      "49/49 [==============================] - 274s 6s/step - loss: 0.1528 - accuracy: 0.9483 - val_loss: 0.2516 - val_accuracy: 0.9241\n",
      "Epoch 15/50\n",
      "49/49 [==============================] - ETA: 0s - loss: 0.1448 - accuracy: 0.9511\n",
      "Epoch 15: val_loss did not improve from 0.25082\n",
      "49/49 [==============================] - 278s 6s/step - loss: 0.1448 - accuracy: 0.9511 - val_loss: 0.2514 - val_accuracy: 0.9236\n"
     ]
    }
   ],
   "source": [
    "# Train and evaluate the model\n",
    "LSTM_history, LSTM_model = LSTM_model(X_train_final, y_train_final, X_dev_final, y_dev_final)"
   ]
  },
  {
   "cell_type": "markdown",
   "metadata": {},
   "source": [
    "# TRAINING CURVES"
   ]
  },
  {
   "cell_type": "code",
   "execution_count": 30,
   "metadata": {},
   "outputs": [
    {
     "data": {
      "image/png": "[encoded data removed]",
      "text/plain": [
       "<Figure size 640x480 with 1 Axes>"
      ]
     },
     "metadata": {},
     "output_type": "display_data"
    },
    {
     "data": {
      "image/png": "[encoded data removed]",
      "text/plain": [
       "<Figure size 640x480 with 1 Axes>"
      ]
     },
     "metadata": {},
     "output_type": "display_data"
    }
   ],
   "source": [
    "%matplotlib inline\n",
    "import matplotlib.pyplot as plt\n",
    "\n",
    "# summarize history for accuracy\n",
    "plt.plot(LSTM_history.history['accuracy'])\n",
    "plt.plot(LSTM_history.history['val_accuracy'])\n",
    "plt.title('model accuracy')\n",
    "plt.ylabel('accuracy')\n",
    "plt.xlabel('epoch')\n",
    "plt.legend(['train', 'dev'], loc='upper left')\n",
    "plt.show()\n",
    "# summarize history for loss\n",
    "plt.plot(LSTM_history.history['loss'])\n",
    "plt.plot(LSTM_history.history['val_loss'])\n",
    "plt.title('model loss')\n",
    "plt.ylabel('loss')\n",
    "plt.xlabel('epoch')\n",
    "plt.legend(['train', 'dev'], loc='upper right')\n",
    "plt.show()"
   ]
  },
  {
   "cell_type": "markdown",
   "metadata": {},
   "source": [
    "### DISPLAY CLASSIFICATION REPORT"
   ]
  },
  {
   "cell_type": "code",
   "execution_count": 31,
   "metadata": {},
   "outputs": [
    {
     "name": "stdout",
     "output_type": "stream",
     "text": [
      "['noun', 'punct', 'verb', 'pron', 'adp', 'det', 'adj', 'aux', 'propn', 'adv', 'cconj', 'part', 'num', 'sconj', 'sym', 'intj', 'x']\n"
     ]
    }
   ],
   "source": [
    "# Create label names\n",
    "label_names = [key for key in tag_tokenizer.word_index]\n",
    "print(label_names)"
   ]
  },
  {
   "cell_type": "code",
   "execution_count": 32,
   "metadata": {},
   "outputs": [],
   "source": [
    "from sklearn.metrics import classification_report, precision_recall_curve, auc\n",
    "\n",
    "def classification_reports(predictions_train, predictions_dev, predictions_test, y_train, y_dev, y_test, class_names):\n",
    "    \"\"\"\n",
    "    Create a function for the classification report for the baseline model for all labels\n",
    "    :param predictions_train: np.array\n",
    "    :param predictions_dev: np.array\n",
    "    :param predictions_test: np.array\n",
    "    :param y_train: np.array\n",
    "    :param y_dev: np.array\n",
    "    :param y_test: np.array\n",
    "    :param class_names: array of strings\n",
    "    :return: null\n",
    "    \"\"\"\n",
    "\n",
    "    y_true_train = []\n",
    "    y_preds_train = []\n",
    "    for i in range(len(y_train)):\n",
    "      if y_train[i]>0:\n",
    "        y_true_train.append(y_train[i])\n",
    "        y_preds_train.append(predictions_train[i])\n",
    "        \n",
    "    y_true_dev = []\n",
    "    y_preds_dev = []\n",
    "    for i in range(len(y_dev)):\n",
    "      if y_dev[i]>0:\n",
    "        y_true_dev.append(y_dev[i])\n",
    "        y_preds_dev.append(predictions_dev[i])\n",
    "        \n",
    "    y_true_test = []\n",
    "    y_preds_test = []\n",
    "    for i in range(len(y_test)):\n",
    "      if y_test[i]>0:\n",
    "        y_true_test.append(y_test[i])\n",
    "        y_preds_test.append(predictions_test[i])\n",
    "    classification_report_train = classification_report(y_true_train, y_preds_train, target_names=class_names,zero_division=0)\n",
    "\n",
    "    classification_report_dev = classification_report(y_true_dev, y_preds_dev, target_names=class_names,zero_division=0)\n",
    "\n",
    "    classification_report_test = classification_report(y_true_test, y_preds_test, target_names=class_names,zero_division=0)\n",
    "\n",
    "    combined_cl_report = f'\\n\\t\\tClassification report on Training Set: \\n\\n{classification_report_train}'\n",
    "    combined_cl_report += f'\\n\\t\\tClassification report on Development Set: \\n\\n{classification_report_dev}'\n",
    "    combined_cl_report += f'\\n\\t\\tClassification report on Testing Set: \\n\\n{classification_report_test}'\n",
    "\n",
    "    print(combined_cl_report)"
   ]
  },
  {
   "cell_type": "code",
   "execution_count": 33,
   "metadata": {},
   "outputs": [
    {
     "name": "stdout",
     "output_type": "stream",
     "text": [
      "392/392 [==============================] - 142s 360ms/step\n",
      "63/63 [==============================] - 25s 373ms/step\n",
      "65/65 [==============================] - 24s 369ms/step\n",
      "\n",
      "\t\tClassification report on Training Set: \n",
      "\n",
      "              precision    recall  f1-score   support\n",
      "\n",
      "       PROPN       0.95      0.95      0.95     34787\n",
      "       PUNCT       1.00      1.00      1.00     23579\n",
      "         ADJ       0.96      0.97      0.97     22559\n",
      "        NOUN       0.99      0.99      0.99     18646\n",
      "        VERB       0.96      0.97      0.97     17778\n",
      "         DET       0.99      0.99      0.99     16292\n",
      "         ADP       0.93      0.92      0.93     13150\n",
      "         AUX       0.99      0.99      0.99     12808\n",
      "        PRON       0.91      0.90      0.90     12610\n",
      "        PART       0.93      0.92      0.93     10103\n",
      "       SCONJ       0.99      1.00      0.99      6682\n",
      "         NUM       0.98      0.99      0.99      5747\n",
      "         ADV       0.97      0.98      0.98      4126\n",
      "       CCONJ       0.90      0.89      0.89      3816\n",
      "        INTJ       0.91      0.91      0.91       721\n",
      "           X       0.96      0.91      0.94       693\n",
      "         SYM       0.95      0.59      0.73       355\n",
      "\n",
      "    accuracy                           0.96    204452\n",
      "   macro avg       0.96      0.93      0.94    204452\n",
      "weighted avg       0.96      0.96      0.96    204452\n",
      "\n",
      "\t\tClassification report on Development Set: \n",
      "\n",
      "              precision    recall  f1-score   support\n",
      "\n",
      "       PROPN       0.84      0.92      0.88      4216\n",
      "       PUNCT       0.95      0.99      0.97      3075\n",
      "         ADJ       0.92      0.94      0.93      2708\n",
      "        NOUN       0.99      0.98      0.99      2222\n",
      "        VERB       0.94      0.97      0.95      2038\n",
      "         DET       0.98      0.99      0.98      1901\n",
      "         ADP       0.90      0.88      0.89      1869\n",
      "         AUX       0.98      0.99      0.98      1567\n",
      "        PRON       0.88      0.63      0.73      1866\n",
      "        PART       0.88      0.87      0.87      1230\n",
      "       SCONJ       0.99      0.99      0.99       779\n",
      "         NUM       0.96      0.97      0.97       647\n",
      "         ADV       0.94      0.83      0.88       383\n",
      "       CCONJ       0.86      0.84      0.85       397\n",
      "        INTJ       0.84      0.70      0.76        83\n",
      "           X       0.88      0.73      0.80       115\n",
      "         SYM       0.88      0.13      0.23        53\n",
      "\n",
      "    accuracy                           0.92     25149\n",
      "   macro avg       0.92      0.84      0.86     25149\n",
      "weighted avg       0.92      0.92      0.92     25149\n",
      "\n",
      "\t\tClassification report on Testing Set: \n",
      "\n",
      "              precision    recall  f1-score   support\n",
      "\n",
      "       PROPN       0.84      0.92      0.88      4137\n",
      "       PUNCT       0.95      0.99      0.97      3096\n",
      "         ADJ       0.93      0.95      0.94      2605\n",
      "        NOUN       0.99      0.99      0.99      2161\n",
      "        VERB       0.95      0.97      0.96      2033\n",
      "         DET       0.99      0.99      0.99      1897\n",
      "         ADP       0.89      0.87      0.88      1787\n",
      "         AUX       0.98      0.99      0.99      1543\n",
      "        PRON       0.86      0.65      0.74      2077\n",
      "        PART       0.89      0.90      0.90      1178\n",
      "       SCONJ       1.00      0.99      0.99       737\n",
      "         NUM       0.95      0.98      0.97       649\n",
      "         ADV       0.95      0.76      0.84       542\n",
      "       CCONJ       0.90      0.84      0.87       384\n",
      "        INTJ       0.76      0.81      0.78       109\n",
      "           X       0.94      0.82      0.88       120\n",
      "         SYM       0.00      0.00      0.00        39\n",
      "\n",
      "    accuracy                           0.92     25094\n",
      "   macro avg       0.87      0.85      0.86     25094\n",
      "weighted avg       0.92      0.92      0.92     25094\n",
      "\n"
     ]
    }
   ],
   "source": [
    "# In order to load the model from the weights file, we need the architecture\n",
    "class_labels = train_pos.UPOS.unique()\n",
    "\n",
    "# Predict training, developement, testing sets\n",
    "predictions_train = np.argmax(LSTM_model.predict(np.array(X_train_final)), -1)\n",
    "predictions_dev = np.argmax(LSTM_model.predict(np.array(X_dev_final)), -1)\n",
    "predictions_test = np.argmax(LSTM_model.predict(np.array(X_test_final)), -1)\n",
    "\n",
    "\n",
    "\n",
    "predictions_train = predictions_train.flatten()\n",
    "predictions_dev =  predictions_dev.flatten()\n",
    "predictions_test =  predictions_test.flatten()\n",
    "\n",
    "# Provide classifcation reports\n",
    "classification_reports(predictions_train, predictions_dev, predictions_test, y_train_final.flatten(), y_dev_final.flatten(), y_test_final.flatten(), class_names=class_labels)\n"
   ]
  },
  {
   "cell_type": "code",
   "execution_count": 34,
   "metadata": {},
   "outputs": [
    {
     "name": "stdout",
     "output_type": "stream",
     "text": [
      "392/392 [==============================] - 137s 351ms/step\n",
      "63/63 [==============================] - 23s 365ms/step\n",
      "65/65 [==============================] - 24s 376ms/step\n"
     ]
    }
   ],
   "source": [
    "# Predict probabilities for each set\n",
    "model = LSTM_model\n",
    "\n",
    "# Predict probabilities for train, dev, and test sets\n",
    "train_probs = model.predict(np.array(X_train_final))\n",
    "dev_probs = model.predict(np.array(X_dev_final))\n",
    "test_probs = model.predict(np.array(X_test_final))\n",
    "\n",
    "y_train = y_train_final\n",
    "y_dev = y_dev_final\n",
    "y_test = y_test_final"
   ]
  },
  {
   "cell_type": "code",
   "execution_count": 37,
   "metadata": {},
   "outputs": [
    {
     "name": "stdout",
     "output_type": "stream",
     "text": [
      "PR-AUC Scores for Each Class Train:\n",
      "Class 1: 0.983\n",
      "Class 2: 0.999\n",
      "Class 3: 0.99\n",
      "Class 4: 0.997\n",
      "Class 5: 0.99\n",
      "Class 6: 0.998\n",
      "Class 7: 0.969\n",
      "Class 8: 0.996\n",
      "Class 9: 0.958\n",
      "Class 10: 0.97\n",
      "Class 11: 0.997\n",
      "Class 12: 0.998\n",
      "Class 13: 0.995\n",
      "Class 14: 0.954\n",
      "Class 15: 0.943\n",
      "Class 16: 0.949\n",
      "\n",
      "\n",
      "Macro-averaged Precision-Recall AUC on Training Set: 0.98\n",
      "\n",
      "\n",
      "PR-AUC Scores for Each Class Development:\n",
      "Class 1: 0.947\n",
      "Class 2: 0.997\n",
      "Class 3: 0.974\n",
      "Class 4: 0.996\n",
      "Class 5: 0.985\n",
      "Class 6: 0.996\n",
      "Class 7: 0.94\n",
      "Class 8: 0.993\n",
      "Class 9: 0.797\n",
      "Class 10: 0.94\n",
      "Class 11: 0.996\n",
      "Class 12: 0.989\n",
      "Class 13: 0.875\n",
      "Class 14: 0.918\n",
      "Class 15: 0.763\n",
      "Class 16: 0.761\n",
      "\n",
      "\n",
      "Macro-averaged Precision-Recall AUC on Dev Set: 0.929\n",
      "\n",
      "\n",
      "PR-AUC Scores for Each Class Test:\n",
      "Class 1: 0.944\n",
      "Class 2: 0.997\n",
      "Class 3: 0.975\n",
      "Class 4: 0.994\n",
      "Class 5: 0.987\n",
      "Class 6: 0.997\n",
      "Class 7: 0.935\n",
      "Class 8: 0.995\n",
      "Class 9: 0.816\n",
      "Class 10: 0.949\n",
      "Class 11: 0.995\n",
      "Class 12: 0.995\n",
      "Class 13: 0.829\n",
      "Class 14: 0.92\n",
      "Class 15: 0.851\n",
      "Class 16: 0.866\n",
      "\n",
      "\n",
      "Macro-averaged Precision-Recall AUC on Test Set: 0.94\n"
     ]
    }
   ],
   "source": [
    "# Predict \n",
    "from sklearn.metrics import precision_recall_curve, auc\n",
    "import numpy as np\n",
    "\n",
    "def compute_pr_auc(y_true, y_pred):\n",
    "    \"\"\"\n",
    "    :param y_true: np.array\n",
    "    :param y_pred: np.array\n",
    "    :return: pr auc scores for each class\n",
    "    \"\"\"\n",
    "    num_classes = 17\n",
    "    pr_auc_scores = {}\n",
    "    \n",
    "\n",
    "    for class_label in range(1,num_classes):\n",
    "        y_train_binary = (y_true == class_label).astype(int)\n",
    "\n",
    "        precision, recall, _ = precision_recall_curve(y_train_binary[:].flatten(), y_pred[:,:, class_label].flatten())\n",
    "        pr_auc_scores[class_label] = auc(recall, precision)\n",
    "\n",
    "    return pr_auc_scores\n",
    "\n",
    "\n",
    "pr_auc_scores_train = compute_pr_auc(y_train, train_probs)\n",
    "print(\"PR-AUC Scores for Each Class Train:\")\n",
    "for class_label, pr_auc in pr_auc_scores_train.items():\n",
    "    print(f\"Class {class_label}: {pr_auc:.3}\")\n",
    "mean_value = np.mean(list(pr_auc_scores_train.values()))\n",
    "print(f'\\n\\nMacro-averaged Precision-Recall AUC on Training Set: {mean_value:.3}')\n",
    "\n",
    "pr_auc_scores_dev = compute_pr_auc(y_dev, dev_probs)\n",
    "print(\"\\n\\nPR-AUC Scores for Each Class Development:\")\n",
    "for class_label, pr_auc in pr_auc_scores_dev.items():\n",
    "    print(f\"Class {class_label}: {pr_auc:.3}\")\n",
    "mean_value = np.mean(list(pr_auc_scores_dev.values()))\n",
    "print(f'\\n\\nMacro-averaged Precision-Recall AUC on Dev Set: {mean_value:.3}')\n",
    "pr_auc_scores_test = compute_pr_auc(y_test, test_probs)\n",
    "print(\"\\n\\nPR-AUC Scores for Each Class Test:\")\n",
    "for class_label, pr_auc in pr_auc_scores_test.items():\n",
    "    print(f\"Class {class_label}: {pr_auc:.3}\")\n",
    "mean_value = np.mean(list(pr_auc_scores_test.values()))\n",
    "print(f'\\n\\nMacro-averaged Precision-Recall AUC on Test Set: {mean_value:.3}')"
   ]
  },
  {
   "cell_type": "markdown",
   "metadata": {},
   "source": [
    "## EXAMPLE OF A RANDOM SENTENCE"
   ]
  },
  {
   "cell_type": "code",
   "execution_count": 38,
   "metadata": {},
   "outputs": [
    {
     "name": "stdout",
     "output_type": "stream",
     "text": [
      "1/1 [==============================] - 0s 206ms/step\n",
      "['the cat sat in the mat']\n"
     ]
    },
    {
     "data": {
      "text/plain": [
       "['det', 'noun', 'verb', 'adp', 'det', 'noun']"
      ]
     },
     "execution_count": 38,
     "metadata": {},
     "output_type": "execute_result"
    }
   ],
   "source": [
    "# Example sentence\n",
    "sentence = ['the cat sat in the mat']\n",
    "\n",
    "# Get predictions for the test set\n",
    "y_pred_exam = np.argmax(LSTM_model.predict(np.array(sentence)), axis=-1)\n",
    "\n",
    "words = [tag_tokenizer.index_word[token] for token in y_pred_exam.flatten()]\n",
    "\n",
    "print(sentence)\n",
    "words[:6]"
   ]
  },
  {
   "cell_type": "markdown",
   "metadata": {},
   "source": [
    "### COMMENTS\n",
    "\n",
    "As we can see from the above results our model is very efficient and tagging the words very accurately."
   ]
  },
  {
   "cell_type": "code",
   "execution_count": null,
   "metadata": {},
   "outputs": [],
   "source": []
  }
 ],
 "metadata": {
  "colab": {
   "provenance": []
  },
  "kernelspec": {
   "display_name": "Python 3 (ipykernel)",
   "language": "python",
   "name": "python3"
  },
  "language_info": {
   "codemirror_mode": {
    "name": "ipython",
    "version": 3
   },
   "file_extension": ".py",
   "mimetype": "text/x-python",
   "name": "python",
   "nbconvert_exporter": "python",
   "pygments_lexer": "ipython3",
   "version": "3.11.3"
  }
 },
 "nbformat": 4,
 "nbformat_minor": 4
}
