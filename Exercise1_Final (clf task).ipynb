{
 "cells": [
  {
   "cell_type": "markdown",
   "metadata": {
    "id": "C4UPSqmSQrCg"
   },
   "source": [
    "# EXERCISE 1 - BINARY CLASSIFICATION TASK WITH RNN CLASSIFIERS (LSTM-GRU LAYERS)"
   ]
  },
  {
   "cell_type": "markdown",
   "metadata": {
    "executionInfo": {
     "elapsed": 3350,
     "status": "ok",
     "timestamp": 1708525660100,
     "user": {
      "displayName": "Dimitris Stathopoulos",
      "userId": "13979344250441303776"
     },
     "user_tz": -120
    },
    "id": "h2vdsaSoQrCl"
   },
   "source": [
    "# Import libraries\n",
    "import numpy as np\n",
    "import pandas as pd\n",
    "import matplotlib.pyplot as plt\n",
    "import seaborn as sns\n",
    "import gzip\n",
    "import tarfile\n",
    "from sklearn.datasets import load_files"
   ]
  },
  {
   "cell_type": "markdown",
   "metadata": {},
   "source": [
    "### WAYS OF LOADING THE FILES"
   ]
  },
  {
   "cell_type": "code",
   "execution_count": 2,
   "metadata": {
    "colab": {
     "base_uri": "https://localhost:8080/"
    },
    "executionInfo": {
     "elapsed": 19822,
     "status": "ok",
     "timestamp": 1708525679883,
     "user": {
      "displayName": "Dimitris Stathopoulos",
      "userId": "13979344250441303776"
     },
     "user_tz": -120
    },
    "id": "Nv25qCf_QrCn",
    "outputId": "5aa8873c-bc06-42db-c117-f683d71e4ebd"
   },
   "outputs": [],
   "source": [
    "# # # Download Data when in google Collab\n",
    "# !wget https://ai.stanford.edu/~amaas/data/sentiment/aclImdb_v1.tar.gz\n",
    "# !tar xvzf aclImdb_v1.tar.gz > /dev/null && rm -rf aclImdb_v1.tar.gz # Extract contents and delete the zipped file"
   ]
  },
  {
   "cell_type": "markdown",
   "metadata": {
    "id": "N8EbLx0TR0mZ"
   },
   "source": [
    "Load files when in collab:"
   ]
  },
  {
   "cell_type": "code",
   "execution_count": 3,
   "metadata": {
    "executionInfo": {
     "elapsed": 2989,
     "status": "ok",
     "timestamp": 1708525682823,
     "user": {
      "displayName": "Dimitris Stathopoulos",
      "userId": "13979344250441303776"
     },
     "user_tz": -120
    },
    "id": "MYRVycDNQrCo"
   },
   "outputs": [],
   "source": [
    "# from sklearn.datasets import load_files\n",
    "\n",
    "# # Load the files when in Google Collab\n",
    "# movies_train = load_files(container_path=\"/content/aclImdb/train\", encoding=\"utf-8\")\n",
    "# movies_test = load_files(container_path=\"/content/aclImdb/test\", encoding=\"utf-8\")\n",
    "\n",
    "\n"
   ]
  },
  {
   "cell_type": "markdown",
   "metadata": {
    "id": "3qp1xyFyR4cs"
   },
   "source": [
    "Load file when running local:"
   ]
  },
  {
   "cell_type": "code",
   "execution_count": 4,
   "metadata": {
    "executionInfo": {
     "elapsed": 47,
     "status": "ok",
     "timestamp": 1708525682825,
     "user": {
      "displayName": "Dimitris Stathopoulos",
      "userId": "13979344250441303776"
     },
     "user_tz": -120
    },
    "id": "HszVUHyoRwqp"
   },
   "outputs": [],
   "source": [
    "# from sklearn.datasets import load_files\n",
    "\n",
    "# movies_train = load_files(container_path=\"../../../../../big_files_DS/aclImdb/train\", encoding=\"utf-8\")\n",
    "# movies_test = load_files(container_path=\"../../../../../big_files_DS/aclImdb/test\", encoding=\"utf-8\")\n",
    "# # print(type(movies_train))"
   ]
  },
  {
   "cell_type": "markdown",
   "metadata": {},
   "source": [
    "Load files when in wsl:"
   ]
  },
  {
   "cell_type": "code",
   "execution_count": 5,
   "metadata": {},
   "outputs": [],
   "source": [
    "from sklearn.datasets import load_files\n",
    "movies_train = load_files(container_path=\"//home/aclImdb/train\", encoding=\"utf-8\")\n",
    "movies_test = load_files(container_path=\"//home/aclImdb/test\", encoding=\"utf-8\")\n",
    "# print(type(movies_train))"
   ]
  },
  {
   "cell_type": "code",
   "execution_count": 6,
   "metadata": {
    "colab": {
     "base_uri": "https://localhost:8080/"
    },
    "executionInfo": {
     "elapsed": 43,
     "status": "ok",
     "timestamp": 1708525682827,
     "user": {
      "displayName": "Dimitris Stathopoulos",
      "userId": "13979344250441303776"
     },
     "user_tz": -120
    },
    "id": "MVIfEqUOQrCp",
    "outputId": "04757073-a99d-40dd-931e-3f625fb6bfd1"
   },
   "outputs": [
    {
     "name": "stdout",
     "output_type": "stream",
     "text": [
      "                                             reviews  sentiment\n",
      "0  Full of (then) unknown actors TSF is a great b...          2\n",
      "1  Amount of disappointment I am getting these da...          2\n",
      "2  The future, we are told, are what we make of i...          2\n",
      "3  Dan Katzir has produced a wonderful film that ...          1\n",
      "4  If you want Scream or anything like the big-st...          1\n",
      "5  Although its mold of 1949 appears somewhat mel...          2\n",
      "6  Gloomy Sunday - Ein Lied von Liebe und Tod dir...          2\n",
      "7  This movie was ridiculous. The plot is complet...          2\n",
      "8  Why was this movie made? No doubt to sucker in...          2\n",
      "9  Outlandish premise that rates low on plausibil...          0\n",
      "----------------------------------------------------------------------------------------\n",
      "                                             reviews  sentiment\n",
      "0  Don't hate Heather Graham because she's beauti...          1\n",
      "1  I don't know how this movie has received so ma...          0\n",
      "2  I caught this movie on the Horror Channel and ...          1\n",
      "3  NBC had a chance to make a powerful religious ...          0\n",
      "4  Looking for something shocking? Okay fine... t...          0\n",
      "5  \"Are You in the House Alone?\" belongs to the p...          1\n",
      "6  I think this is one hell of a movie..............          1\n",
      "7  I watched this movie a couple of weeks ago and...          0\n",
      "8  Ocean's Twelve: just plain stupid, bad and not...          0\n",
      "9  This excellent movie starring Elizabeth Montgo...          1\n"
     ]
    }
   ],
   "source": [
    "# Transform train dataset into a dataframe\n",
    "data_train = {'reviews': movies_train.data, 'sentiment': movies_train.target}\n",
    "df_train = pd.DataFrame(data_train)\n",
    "\n",
    "# Transform test dataset into a dataframe\n",
    "data_test = {'reviews': movies_test.data, 'sentiment': movies_test.target}\n",
    "df_test = pd.DataFrame(data_test)\n",
    "\n",
    "del movies_train, movies_test # free memory\n",
    "\n",
    "print(df_train.iloc[:10])\n",
    "print('----------------------------------------------------------------------------------------')\n",
    "print(df_test.iloc[:10])"
   ]
  },
  {
   "cell_type": "markdown",
   "metadata": {},
   "source": [
    "### CLEAN OUR DATA"
   ]
  },
  {
   "cell_type": "code",
   "execution_count": 7,
   "metadata": {
    "colab": {
     "base_uri": "https://localhost:8080/"
    },
    "executionInfo": {
     "elapsed": 29,
     "status": "ok",
     "timestamp": 1708525682828,
     "user": {
      "displayName": "Dimitris Stathopoulos",
      "userId": "13979344250441303776"
     },
     "user_tz": -120
    },
    "id": "UlxzlMaYQrCr",
    "outputId": "3020f9ae-7b4c-4748-df2e-28a9a336db5b"
   },
   "outputs": [
    {
     "name": "stdout",
     "output_type": "stream",
     "text": [
      "The size of training set is: 30000\n",
      "The size of test set is: 20000\n"
     ]
    }
   ],
   "source": [
    "# Drop rows where 'sentiment' is 2 from train & test sets\n",
    "df_train = df_train[df_train['sentiment'] != 2]\n",
    "df_test = df_test[df_test['sentiment'] != 2]\n",
    "\n",
    "\n",
    "df_test = df_test.reset_index(drop=True)\n",
    "df_train = df_train.reset_index(drop=True)\n",
    "\n",
    "# Define the train dataset with 5000 rows by test set\n",
    "df_train = pd.concat([df_train, df_test[:5000]])\n",
    "\n",
    "print(f'The size of training set is: {len(df_train)}')\n",
    "print(f'The size of test set is: {len(df_test[5000:])}')"
   ]
  },
  {
   "cell_type": "code",
   "execution_count": 8,
   "metadata": {
    "colab": {
     "base_uri": "https://localhost:8080/",
     "height": 206
    },
    "executionInfo": {
     "elapsed": 808,
     "status": "ok",
     "timestamp": 1708525683618,
     "user": {
      "displayName": "Dimitris Stathopoulos",
      "userId": "13979344250441303776"
     },
     "user_tz": -120
    },
    "id": "VAjxQftaQrCs",
    "outputId": "356e343e-01dd-4530-9972-0e1c854f380f"
   },
   "outputs": [
    {
     "data": {
      "text/html": [
       "<div>\n",
       "<style scoped>\n",
       "    .dataframe tbody tr th:only-of-type {\n",
       "        vertical-align: middle;\n",
       "    }\n",
       "\n",
       "    .dataframe tbody tr th {\n",
       "        vertical-align: top;\n",
       "    }\n",
       "\n",
       "    .dataframe thead th {\n",
       "        text-align: right;\n",
       "    }\n",
       "</style>\n",
       "<table border=\"1\" class=\"dataframe\">\n",
       "  <thead>\n",
       "    <tr style=\"text-align: right;\">\n",
       "      <th></th>\n",
       "      <th>reviews</th>\n",
       "      <th>sentiment</th>\n",
       "    </tr>\n",
       "  </thead>\n",
       "  <tbody>\n",
       "    <tr>\n",
       "      <th>0</th>\n",
       "      <td>Pretty good film from Preminger; labyrinthine ...</td>\n",
       "      <td>1</td>\n",
       "    </tr>\n",
       "    <tr>\n",
       "      <th>1</th>\n",
       "      <td>This is one of the worse movies that I have ev...</td>\n",
       "      <td>0</td>\n",
       "    </tr>\n",
       "    <tr>\n",
       "      <th>2</th>\n",
       "      <td>Perfect cast for a few-person drama. Simon is ...</td>\n",
       "      <td>1</td>\n",
       "    </tr>\n",
       "    <tr>\n",
       "      <th>3</th>\n",
       "      <td>Film makeovers of old TV shows seems to be the...</td>\n",
       "      <td>0</td>\n",
       "    </tr>\n",
       "    <tr>\n",
       "      <th>4</th>\n",
       "      <td>\"Bedknobs and Broomsticks\" is a magical advent...</td>\n",
       "      <td>1</td>\n",
       "    </tr>\n",
       "  </tbody>\n",
       "</table>\n",
       "</div>"
      ],
      "text/plain": [
       "                                             reviews  sentiment\n",
       "0  Pretty good film from Preminger; labyrinthine ...          1\n",
       "1  This is one of the worse movies that I have ev...          0\n",
       "2  Perfect cast for a few-person drama. Simon is ...          1\n",
       "3  Film makeovers of old TV shows seems to be the...          0\n",
       "4  \"Bedknobs and Broomsticks\" is a magical advent...          1"
      ]
     },
     "execution_count": 8,
     "metadata": {},
     "output_type": "execute_result"
    }
   ],
   "source": [
    "from sklearn.utils import shuffle\n",
    "\n",
    "# Shuffle dataframes because they are sorted.\n",
    "df_train = shuffle(df_train)\n",
    "df_train.reset_index(inplace=True, drop=True)\n",
    "df_test = shuffle(df_test)\n",
    "df_test.reset_index(inplace=True, drop=True)\n",
    "\n",
    "df_train.head()"
   ]
  },
  {
   "cell_type": "code",
   "execution_count": 9,
   "metadata": {
    "executionInfo": {
     "elapsed": 49,
     "status": "ok",
     "timestamp": 1708525683620,
     "user": {
      "displayName": "Dimitris Stathopoulos",
      "userId": "13979344250441303776"
     },
     "user_tz": -120
    },
    "id": "kmVr3qlIQrCt"
   },
   "outputs": [],
   "source": [
    "X_train = df_train.reviews\n",
    "y_train = df_train.sentiment"
   ]
  },
  {
   "cell_type": "code",
   "execution_count": 10,
   "metadata": {
    "colab": {
     "base_uri": "https://localhost:8080/"
    },
    "executionInfo": {
     "elapsed": 49,
     "status": "ok",
     "timestamp": 1708525683621,
     "user": {
      "displayName": "Dimitris Stathopoulos",
      "userId": "13979344250441303776"
     },
     "user_tz": -120
    },
    "id": "icsATDOZQrCu",
    "outputId": "537c3881-94f9-476b-dfa7-8fbf8d3bb716"
   },
   "outputs": [
    {
     "name": "stdout",
     "output_type": "stream",
     "text": [
      "Number of observations in dev set: 10000\n",
      "Number of observations in test set: 10000\n"
     ]
    }
   ],
   "source": [
    "# Split dev and test data\n",
    "from sklearn.model_selection import train_test_split\n",
    "\n",
    "X_dev, X_test, y_dev, y_test = train_test_split(df_test.reviews[5000:], df_test.sentiment[5000:], test_size=0.5, random_state=42)\n",
    "print(f\"Number of observations in dev set: {X_dev.shape[0]}\")\n",
    "print(f\"Number of observations in test set: {X_test.shape[0]}\")"
   ]
  },
  {
   "cell_type": "markdown",
   "metadata": {
    "id": "QwYjEUroQrCv"
   },
   "source": [
    "### PLOT THE SIZE OF THE LABELS (POSITIVE/NEGATIVE) FOR EACH SET"
   ]
  },
  {
   "cell_type": "code",
   "execution_count": 11,
   "metadata": {
    "colab": {
     "base_uri": "https://localhost:8080/",
     "height": 411
    },
    "executionInfo": {
     "elapsed": 603,
     "status": "ok",
     "timestamp": 1708525684187,
     "user": {
      "displayName": "Dimitris Stathopoulos",
      "userId": "13979344250441303776"
     },
     "user_tz": -120
    },
    "id": "Pk6xnDMWQrCw",
    "outputId": "c5a9f795-70ac-4516-b0b2-c0571f33f6d4"
   },
   "outputs": [
    {
     "data": {
      "image/png": "[encoded data removed]",
      "text/plain": [
       "<Figure size 1000x600 with 1 Axes>"
      ]
     },
     "metadata": {},
     "output_type": "display_data"
    }
   ],
   "source": [
    "\n",
    "# Count the values of the ground truth (sentiments)\n",
    "train_counts = y_train.value_counts()\n",
    "test_counts = y_test.value_counts()\n",
    "dev_counts = y_dev.value_counts()\n",
    "\n",
    "\n",
    "# Create a DataFrame with the counts\n",
    "counts_df = pd.DataFrame({'Train': train_counts, 'Test': test_counts, 'Dev': dev_counts})\n",
    "\n",
    "# Plot the bar plot\n",
    "counts_df.plot(kind='bar', figsize=(10, 6))\n",
    "plt.title('Value Counts of Target Variable in Different Dataframes')\n",
    "plt.xlabel('Target Variable')\n",
    "plt.ylabel('Count')\n",
    "plt.show()\n"
   ]
  },
  {
   "cell_type": "markdown",
   "metadata": {
    "id": "4FQGgJFEQrCw"
   },
   "source": [
    "### PLOT THE SIZE OF THE REVIEW TEXTS FOR EACH SET"
   ]
  },
  {
   "cell_type": "code",
   "execution_count": 12,
   "metadata": {
    "colab": {
     "base_uri": "https://localhost:8080/",
     "height": 224
    },
    "executionInfo": {
     "elapsed": 751,
     "status": "ok",
     "timestamp": 1708525684857,
     "user": {
      "displayName": "Dimitris Stathopoulos",
      "userId": "13979344250441303776"
     },
     "user_tz": -120
    },
    "id": "_kzYlSUbQrCx",
    "outputId": "f9905b07-7c7a-4250-8e38-d0a7a0a4c62a"
   },
   "outputs": [
    {
     "data": {
      "image/png": "[encoded data removed]",
      "text/plain": [
       "<Figure size 1200x400 with 3 Axes>"
      ]
     },
     "metadata": {},
     "output_type": "display_data"
    }
   ],
   "source": [
    "# Function to plot text lengths\n",
    "def plot_text_lengths(ax, texts, title):\n",
    "    text_lengths = [len(text) for text in texts]\n",
    "    ax.hist(text_lengths)\n",
    "    ax.set_xlabel('Length')\n",
    "    ax.set_ylabel('Text')\n",
    "    ax.set_title(title)\n",
    "\n",
    "# Create subplots\n",
    "fig, (ax1, ax2, ax3) = plt.subplots(1,3, figsize=(12, 4))\n",
    "\n",
    "# Plot for texts1\n",
    "plot_text_lengths(ax1, X_train, 'Train')\n",
    "\n",
    "# Plot for texts2\n",
    "plot_text_lengths(ax2, X_dev, 'Development')\n",
    "\n",
    "plot_text_lengths(ax3, X_test, 'Test')\n",
    "\n",
    "# Adjust layout for better spacing\n",
    "plt.tight_layout()\n",
    "\n",
    "# Show the plots\n",
    "plt.show()"
   ]
  },
  {
   "cell_type": "markdown",
   "metadata": {
    "id": "3R706GKUQrCy"
   },
   "source": [
    "## PREPROCESSING\n",
    "\n",
    "* Replace non-word characters and numbers with empty string.\n",
    "* Substitute multiple spaces with single space.\n",
    "* Convert to lowercase.\n",
    "* Remove stop words.\n",
    "* Stemming with WordNetLemmatizer."
   ]
  },
  {
   "cell_type": "code",
   "execution_count": 13,
   "metadata": {
    "colab": {
     "base_uri": "https://localhost:8080/"
    },
    "executionInfo": {
     "elapsed": 1260,
     "status": "ok",
     "timestamp": 1708525686103,
     "user": {
      "displayName": "Dimitris Stathopoulos",
      "userId": "13979344250441303776"
     },
     "user_tz": -120
    },
    "id": "aBzEvxb1QrCy",
    "outputId": "116e6595-eba6-4df2-edf1-89db50c41ad4"
   },
   "outputs": [
    {
     "name": "stderr",
     "output_type": "stream",
     "text": [
      "[nltk_data] Downloading package punkt to /home/meizeus/nltk_data...\n",
      "[nltk_data]   Package punkt is already up-to-date!\n",
      "[nltk_data] Downloading package wordnet to /home/meizeus/nltk_data...\n",
      "[nltk_data]   Package wordnet is already up-to-date!\n",
      "[nltk_data] Downloading package stopwords to\n",
      "[nltk_data]     /home/meizeus/nltk_data...\n",
      "[nltk_data]   Package stopwords is already up-to-date!\n"
     ]
    }
   ],
   "source": [
    "# Imports we need for preprocessing\n",
    "import re\n",
    "import nltk\n",
    "nltk.download('punkt')\n",
    "nltk.download('wordnet')\n",
    "nltk.download('stopwords')\n",
    "from nltk.tokenize import word_tokenize\n",
    "from nltk.stem import WordNetLemmatizer\n",
    "from nltk.stem import PorterStemmer\n",
    "\n",
    "stemmer = WordNetLemmatizer()\n",
    "\n",
    "# Import stop words for preprocessing\n",
    "from nltk.corpus import stopwords\n",
    "stop_words = set(stopwords.words('english'))"
   ]
  },
  {
   "cell_type": "code",
   "execution_count": 14,
   "metadata": {
    "executionInfo": {
     "elapsed": 28,
     "status": "ok",
     "timestamp": 1708525686110,
     "user": {
      "displayName": "Dimitris Stathopoulos",
      "userId": "13979344250441303776"
     },
     "user_tz": -120
    },
    "id": "Y40O1RRBQrCy"
   },
   "outputs": [],
   "source": [
    "import re\n",
    "def preprocess(contents):\n",
    "\n",
    "    \"\"\"\n",
    "        Preprocesses a list of texts by removing non-word characters, single characters, extra spaces,\n",
    "    converting to lowercase, splitting into words, lemmatizing, and reconstructing the documents.\n",
    "    :param contents: A list of texts to be preprocessed\n",
    "    :return: A Pandas Series containing preprocessed documents.\n",
    "    \"\"\"\n",
    "\n",
    "\n",
    "    docs = []\n",
    "\n",
    "    for doc in contents:\n",
    "        # Convert the text to lowercase\n",
    "        doc = doc.lower()\n",
    "\n",
    "        # Delete all the non-word characters for the data frame\n",
    "        document = re.sub(r'[^a-zA-Z\\s]', '', str(doc))\n",
    "\n",
    "\n",
    "        # Split the document based on whitespaces (--> List of words)\n",
    "        word_list = document.split()\n",
    "\n",
    "        word_list = [word for word in word_list if word not in (stop_words)]\n",
    "\n",
    "        # Lemmatization\n",
    "        word_list = [stemmer.lemmatize(word) for word in word_list]\n",
    "\n",
    "        # Reconstruct the document by joining the words on each whitespace\n",
    "        document = ' '.join(word_list)\n",
    "\n",
    "        # Append all documents into a list 'docs'\n",
    "        docs.append(document)\n",
    "    return pd.Series(docs)"
   ]
  },
  {
   "cell_type": "code",
   "execution_count": 15,
   "metadata": {
    "executionInfo": {
     "elapsed": 32799,
     "status": "ok",
     "timestamp": 1708525718883,
     "user": {
      "displayName": "Dimitris Stathopoulos",
      "userId": "13979344250441303776"
     },
     "user_tz": -120
    },
    "id": "nY6zMBrFQrCy"
   },
   "outputs": [],
   "source": [
    "# Preprocess texts\n",
    "X_train = preprocess(X_train)\n",
    "X_dev = preprocess(X_dev)\n",
    "X_test = preprocess(X_test)"
   ]
  },
  {
   "cell_type": "markdown",
   "metadata": {
    "id": "WaF5Rw48QrCy"
   },
   "source": [
    "### Example of a processed text"
   ]
  },
  {
   "cell_type": "code",
   "execution_count": 17,
   "metadata": {
    "colab": {
     "base_uri": "https://localhost:8080/"
    },
    "executionInfo": {
     "elapsed": 68,
     "status": "ok",
     "timestamp": 1708525718885,
     "user": {
      "displayName": "Dimitris Stathopoulos",
      "userId": "13979344250441303776"
     },
     "user_tz": -120
    },
    "id": "sKcNDZkgQrCy",
    "outputId": "dd3372ab-8f66-4c32-d250-53ec093ddf19"
   },
   "outputs": [
    {
     "name": "stdout",
     "output_type": "stream",
     "text": [
      "The non processed text:\n",
      " If any show in the last ten years deserves a 10, it is this rare gem. It allows us to escape back to a time when things were simpler and more fun. Filled with heart and laughs, this show keeps you laughing through the three decades of difference. The furniture was ugly, the clothes were colorful, and the even the drugs were tolerable. The hair was feathered, the music was accompanied by roller-skates, and in the words of Merle Haggard, \"a joint was a bad place to be\". Take a trip back to the greatest time in American history. Fall in love with characters and the feel good essence of the small town where people were nicer to each other. This classic is on television as much as \"Full House\". Don't miss it, and always remember to \"Shake your groove thing!!!\"\n",
      "------------------------------------------------------------------------------------\n",
      "VS\n",
      "------------------------------------------------------------------------------------\n",
      "The processed text:\n",
      " show last ten year deserves rare gem allows u escape back time thing simpler fun filled heart laugh show keep laughing three decade difference furniture ugly clothes colorful even drug tolerable hair feathered music accompanied rollerskates word merle haggard joint bad place take trip back greatest time american history fall love character feel good essence small town people nicer classic television much full house dont miss always remember shake groove thing\n"
     ]
    }
   ],
   "source": [
    "# Example of a preprocessed text\n",
    "print(f'The non processed text:\\n {df_train.reviews.iloc[10]}')\n",
    "print('------------------------------------------------------------------------------------')\n",
    "print('VS')\n",
    "print('------------------------------------------------------------------------------------')\n",
    "print(f'The processed text:\\n {X_train[10]}')"
   ]
  },
  {
   "cell_type": "markdown",
   "metadata": {
    "id": "MhYdvSTbQrCz"
   },
   "source": [
    "## Baseline Model-1 (LogisticRegression)\n",
    "\n",
    "* The dataset we are using in this notebook was used in exercise 9 part 3\n",
    "\n",
    "* So, we know that TF-IDF with SVD provide the best results for the baseline model.\n",
    "\n"
   ]
  },
  {
   "cell_type": "markdown",
   "metadata": {
    "id": "HE4lodh-QrCz"
   },
   "source": [
    "# TF-IDF Vectorization\n"
   ]
  },
  {
   "cell_type": "code",
   "execution_count": 17,
   "metadata": {
    "colab": {
     "base_uri": "https://localhost:8080/"
    },
    "executionInfo": {
     "elapsed": 52636,
     "status": "ok",
     "timestamp": 1708525771478,
     "user": {
      "displayName": "Dimitris Stathopoulos",
      "userId": "13979344250441303776"
     },
     "user_tz": -120
    },
    "id": "1-gKdDbQQrCz",
    "outputId": "ad840314-2fdb-459f-f879-0b79cbc914d3"
   },
   "outputs": [
    {
     "name": "stdout",
     "output_type": "stream",
     "text": [
      "(30000, 5000) <class 'scipy.sparse._csr.csr_matrix'>\n"
     ]
    }
   ],
   "source": [
    "from sklearn.feature_extraction.text import TfidfVectorizer\n",
    "\n",
    "# Use unigram & bi-gram tf*idf features\n",
    "vectorizer = TfidfVectorizer(ngram_range=(1, 3),\n",
    "                             max_features = 5000, sublinear_tf=True)\n",
    "\n",
    "X_train_tfidf = vectorizer.fit_transform(X_train)\n",
    "X_dev_tfidf = vectorizer.transform(X_dev)\n",
    "X_test_tfidf = vectorizer.transform(X_test)\n",
    "\n",
    "print(X_train_tfidf.shape, type(X_train_tfidf))"
   ]
  },
  {
   "cell_type": "markdown",
   "metadata": {
    "id": "-LYJZ0nvQrC0"
   },
   "source": [
    "## Dimensionality reduction via SVD method"
   ]
  },
  {
   "cell_type": "code",
   "execution_count": 18,
   "metadata": {
    "colab": {
     "base_uri": "https://localhost:8080/"
    },
    "executionInfo": {
     "elapsed": 55632,
     "status": "ok",
     "timestamp": 1708525827074,
     "user": {
      "displayName": "Dimitris Stathopoulos",
      "userId": "13979344250441303776"
     },
     "user_tz": -120
    },
    "id": "DEn86L_EQrC0",
    "outputId": "3ce62ab4-60ec-4f0d-e2ad-69569ab24a5e"
   },
   "outputs": [
    {
     "name": "stdout",
     "output_type": "stream",
     "text": [
      "(30000, 1000) <class 'numpy.ndarray'>\n"
     ]
    }
   ],
   "source": [
    "# Reduce dimensionality using SVD 5000 --> 500\n",
    "from sklearn.decomposition import TruncatedSVD\n",
    "\n",
    "svd = TruncatedSVD(n_components=1000, random_state=4321)\n",
    "X_train_svd = svd.fit_transform(X_train_tfidf)\n",
    "X_dev_svd = svd.transform(X_dev_tfidf)\n",
    "X_test_svd = svd.transform(X_test_tfidf)\n",
    "\n",
    "print(X_train_svd.shape, type(X_train_svd))"
   ]
  },
  {
   "cell_type": "markdown",
   "metadata": {
    "id": "GVRMLEOkQrC1"
   },
   "source": [
    "### (Baseline 1) Build a Logistic Regression Baseline\n"
   ]
  },
  {
   "cell_type": "code",
   "execution_count": 19,
   "metadata": {
    "colab": {
     "base_uri": "https://localhost:8080/"
    },
    "executionInfo": {
     "elapsed": 8186,
     "status": "ok",
     "timestamp": 1708525835224,
     "user": {
      "displayName": "Dimitris Stathopoulos",
      "userId": "13979344250441303776"
     },
     "user_tz": -120
    },
    "id": "vAJ1gYxTQrC1",
    "outputId": "94df64e5-efb5-4c9a-d885-15391d844c34"
   },
   "outputs": [
    {
     "name": "stdout",
     "output_type": "stream",
     "text": [
      "\t\tClassification Report for developement set:\n",
      "\n",
      "               precision    recall  f1-score   support\n",
      "\n",
      "           0       0.89      0.87      0.88      4989\n",
      "           1       0.88      0.90      0.89      5011\n",
      "\n",
      "    accuracy                           0.89     10000\n",
      "   macro avg       0.89      0.89      0.89     10000\n",
      "weighted avg       0.89      0.89      0.89     10000\n",
      "\n",
      "\n",
      "\n",
      "\t\tClassification Report for testing set:\n",
      "\n",
      "               precision    recall  f1-score   support\n",
      "\n",
      "           0       0.89      0.88      0.88      4973\n",
      "           1       0.88      0.89      0.89      5027\n",
      "\n",
      "    accuracy                           0.88     10000\n",
      "   macro avg       0.88      0.88      0.88     10000\n",
      "weighted avg       0.88      0.88      0.88     10000\n",
      "\n"
     ]
    }
   ],
   "source": [
    "from sklearn.linear_model import LogisticRegression\n",
    "from sklearn.metrics import classification_report\n",
    "from sklearn.metrics import precision_recall_curve, auc\n",
    "clf = LogisticRegression()\n",
    "clf.fit(X_train_svd.tolist(), y_train)\n",
    "\n",
    "# Validation set prediction\n",
    "predictions = clf.predict(X_dev_svd.tolist())\n",
    "print(f\"\\t\\tClassification Report for developement set:\\n\\n {classification_report(y_dev, predictions)}\")\n",
    "\n",
    "# Test set prediction\n",
    "predictions2 = clf.predict(X_test_svd.tolist())\n",
    "print(f\"\\n\\n\\t\\tClassification Report for testing set:\\n\\n {classification_report(y_test, predictions2)}\")\n",
    "\n"
   ]
  },
  {
   "cell_type": "markdown",
   "metadata": {
    "id": "lZb3rxhgQrC2"
   },
   "source": [
    "### Convert labels to 1-hot vectors(optinal for binary classification)"
   ]
  },
  {
   "cell_type": "code",
   "execution_count": 16,
   "metadata": {
    "colab": {
     "base_uri": "https://localhost:8080/"
    },
    "executionInfo": {
     "elapsed": 4187,
     "status": "ok",
     "timestamp": 1708525839358,
     "user": {
      "displayName": "Dimitris Stathopoulos",
      "userId": "13979344250441303776"
     },
     "user_tz": -120
    },
    "id": "SEyoJoJOQrC2",
    "outputId": "68bd382c-2a16-4f62-c23a-9239ce3bd5be"
   },
   "outputs": [
    {
     "name": "stderr",
     "output_type": "stream",
     "text": [
      "2024-02-28 17:36:40.465005: I tensorflow/core/platform/cpu_feature_guard.cc:193] This TensorFlow binary is optimized with oneAPI Deep Neural Network Library (oneDNN) to use the following CPU instructions in performance-critical operations:  AVX2 FMA\n",
      "To enable them in other operations, rebuild TensorFlow with the appropriate compiler flags.\n",
      "2024-02-28 17:36:40.600471: E tensorflow/stream_executor/cuda/cuda_blas.cc:2981] Unable to register cuBLAS factory: Attempting to register factory for plugin cuBLAS when one has already been registered\n",
      "2024-02-28 17:36:41.129749: W tensorflow/stream_executor/platform/default/dso_loader.cc:64] Could not load dynamic library 'libnvinfer.so.7'; dlerror: libnvinfer.so.7: cannot open shared object file: No such file or directory; LD_LIBRARY_PATH: :/home/meizeus/miniconda3/envs/tf_env/lib/\n",
      "2024-02-28 17:36:41.131402: W tensorflow/stream_executor/platform/default/dso_loader.cc:64] Could not load dynamic library 'libnvinfer_plugin.so.7'; dlerror: libnvinfer_plugin.so.7: cannot open shared object file: No such file or directory; LD_LIBRARY_PATH: :/home/meizeus/miniconda3/envs/tf_env/lib/\n",
      "2024-02-28 17:36:41.131411: W tensorflow/compiler/tf2tensorrt/utils/py_utils.cc:38] TF-TRT Warning: Cannot dlopen some TensorRT libraries. If you would like to use Nvidia GPU with TensorRT, please make sure the missing libraries mentioned above are installed properly.\n"
     ]
    },
    {
     "name": "stdout",
     "output_type": "stream",
     "text": [
      "Y_train 1 hot: [[0. 1.]\n",
      " [1. 0.]\n",
      " [0. 1.]\n",
      " ...\n",
      " [1. 0.]\n",
      " [0. 1.]\n",
      " [0. 1.]] \n",
      "\n",
      " Y_dev 1 hot:[[1. 0.]\n",
      " [1. 0.]\n",
      " [0. 1.]\n",
      " ...\n",
      " [1. 0.]\n",
      " [0. 1.]\n",
      " [1. 0.]]\n"
     ]
    }
   ],
   "source": [
    "import tensorflow as tf\n",
    "\n",
    "y_train_1_hot = tf.keras.utils.to_categorical(y_train, num_classes=2)\n",
    "y_dev_1_hot = tf.keras.utils.to_categorical(y_dev, num_classes=2)\n",
    "\n",
    "\n",
    "print(f\"Y_train 1 hot: {y_train_1_hot}\", \"\\n\\n\",f\"Y_dev 1 hot:{y_dev_1_hot}\")"
   ]
  },
  {
   "cell_type": "markdown",
   "metadata": {
    "id": "PqoXsVXQQrC2"
   },
   "source": [
    "### (Baseline 2) Build the MLP Model of exercise 9 Part 3"
   ]
  },
  {
   "cell_type": "code",
   "execution_count": 17,
   "metadata": {
    "executionInfo": {
     "elapsed": 52,
     "status": "ok",
     "timestamp": 1708525839360,
     "user": {
      "displayName": "Dimitris Stathopoulos",
      "userId": "13979344250441303776"
     },
     "user_tz": -120
    },
    "id": "Pv3IJq9tQrC3"
   },
   "outputs": [],
   "source": [
    "# Import libraries\n",
    "# Import libraries\n",
    "import keras\n",
    "from keras.layers import InputLayer\n",
    "from keras.layers import Activation, Dropout, Dense, Input,BatchNormalization, Flatten, Embedding\n",
    "from keras.models import Model, Sequential\n",
    "from keras.optimizers import Adam\n",
    "from keras.preprocessing.text import Tokenizer\n",
    "# from keras.preprocessing.sequence import pad_sequences\n",
    "from keras.callbacks import ModelCheckpoint, EarlyStopping, Callback\n",
    "from sklearn.preprocessing import LabelBinarizer\n",
    "from sklearn.model_selection import train_test_split\n",
    "\n",
    "\n",
    "def create_MLP_model(input_dim, activation_dense_layers):\n",
    "    \"\"\"\n",
    "    Create a deep feed forward network with Dense layers\n",
    "    Add techniques such as dropout and Batch Normalization\n",
    "    :param input_dum: integer for the dimension of the input layer)\n",
    "    :param  activation_dense_layers: string, for the activation function\n",
    "    :return: class keras.src.engine\n",
    "\n",
    "    \"\"\"\n",
    "    mlp_model = Sequential()\n",
    "\n",
    "    # Add InputLayer with specified input dimension\n",
    "    mlp_model.add(InputLayer(input_shape=(input_dim,)))\n",
    "\n",
    "    # First Layer\n",
    "    mlp_model.add(Dense(128, activation='relu'))\n",
    "    mlp_model.add(BatchNormalization())\n",
    "    mlp_model.add(Dropout(0.4))\n",
    "    # Second Layer\n",
    "    mlp_model.add(Dense(512, activation='relu'))\n",
    "    mlp_model.add(BatchNormalization())\n",
    "    mlp_model.add(Dropout(0.5))\n",
    "    # Third Layer\n",
    "    mlp_model.add(Dense(128, activation='relu'))\n",
    "    mlp_model.add(BatchNormalization())\n",
    "    mlp_model.add(Dropout(0.4))\n",
    "    # Output Layer\n",
    "    mlp_model.add(Dense(1, activation='sigmoid'))\n",
    "\n",
    "\n",
    "    return mlp_model\n"
   ]
  },
  {
   "cell_type": "markdown",
   "metadata": {
    "id": "KdKSQwDgQrC3"
   },
   "source": [
    "### Custom Keras callback for calculating F1, precision, recall at the end of each epoch"
   ]
  },
  {
   "cell_type": "code",
   "execution_count": 18,
   "metadata": {
    "executionInfo": {
     "elapsed": 49,
     "status": "ok",
     "timestamp": 1708525839361,
     "user": {
      "displayName": "Dimitris Stathopoulos",
      "userId": "13979344250441303776"
     },
     "user_tz": -120
    },
    "id": "Mrt0DrjfQrC3"
   },
   "outputs": [],
   "source": [
    "class Metrics(Callback):\n",
    "    def __init__(self, valid_data):\n",
    "        super(Metrics, self).__init__()\n",
    "        self.validation_data = valid_data\n",
    "\n",
    "    def on_epoch_end(self, epoch, logs=None):\n",
    "        logs = logs or {}\n",
    "        val_predict_proba = self.model.predict(self.validation_data[0])\n",
    "        val_predict = (val_predict_proba > 0.5).astype(int)  # Convert probabilities to classes\n",
    "\n",
    "        val_targ = self.validation_data[1]\n",
    "\n",
    "        _val_f1 = f1_score(val_targ, val_predict, average=\"binary\")\n",
    "        _val_recall = recall_score(val_targ, val_predict, average=\"binary\")\n",
    "        _val_precision = precision_score(val_targ, val_predict, average=\"binary\")\n",
    "\n",
    "        logs['val_f1'] = _val_f1\n",
    "        logs['val_recall'] = _val_recall\n",
    "        logs['val_precision'] = _val_precision\n",
    "        print(\" — val_f1: %.3f — val_precision: %.3f — val_recall: %.3f\" % (_val_f1, _val_precision, _val_recall))\n"
   ]
  },
  {
   "cell_type": "code",
   "execution_count": 23,
   "metadata": {
    "colab": {
     "base_uri": "https://localhost:8080/"
    },
    "executionInfo": {
     "elapsed": 185933,
     "status": "ok",
     "timestamp": 1708526025246,
     "user": {
      "displayName": "Dimitris Stathopoulos",
      "userId": "13979344250441303776"
     },
     "user_tz": -120
    },
    "id": "Bc44dQv9QrC5",
    "outputId": "b5817a42-cd19-422f-fc7a-68a799e7b8c7"
   },
   "outputs": [
    {
     "name": "stdout",
     "output_type": "stream",
     "text": [
      "WARNING:tensorflow:From c:\\Users\\drago\\anaconda3\\Lib\\site-packages\\keras\\src\\backend.py:873: The name tf.get_default_graph is deprecated. Please use tf.compat.v1.get_default_graph instead.\n",
      "\n",
      "Model: \"sequential\"\n",
      "_________________________________________________________________\n",
      " Layer (type)                Output Shape              Param #   \n",
      "=================================================================\n",
      " dense (Dense)               (None, 128)               128128    \n",
      "                                                                 \n",
      " batch_normalization (Batch  (None, 128)               512       \n",
      " Normalization)                                                  \n",
      "                                                                 \n",
      " dropout (Dropout)           (None, 128)               0         \n",
      "                                                                 \n",
      " dense_1 (Dense)             (None, 512)               66048     \n",
      "                                                                 \n",
      " batch_normalization_1 (Bat  (None, 512)               2048      \n",
      " chNormalization)                                                \n",
      "                                                                 \n",
      " dropout_1 (Dropout)         (None, 512)               0         \n",
      "                                                                 \n",
      " dense_2 (Dense)             (None, 128)               65664     \n",
      "                                                                 \n",
      " batch_normalization_2 (Bat  (None, 128)               512       \n",
      " chNormalization)                                                \n",
      "                                                                 \n",
      " dropout_2 (Dropout)         (None, 128)               0         \n",
      "                                                                 \n",
      " dense_3 (Dense)             (None, 1)                 129       \n",
      "                                                                 \n",
      "=================================================================\n",
      "Total params: 263041 (1.00 MB)\n",
      "Trainable params: 261505 (1021.50 KB)\n",
      "Non-trainable params: 1536 (6.00 KB)\n",
      "_________________________________________________________________\n",
      "None\n",
      "Epoch 1/65\n",
      "WARNING:tensorflow:From c:\\Users\\drago\\anaconda3\\Lib\\site-packages\\keras\\src\\utils\\tf_utils.py:492: The name tf.ragged.RaggedTensorValue is deprecated. Please use tf.compat.v1.ragged.RaggedTensorValue instead.\n",
      "\n",
      "WARNING:tensorflow:From c:\\Users\\drago\\anaconda3\\Lib\\site-packages\\keras\\src\\engine\\base_layer_utils.py:384: The name tf.executing_eagerly_outside_functions is deprecated. Please use tf.compat.v1.executing_eagerly_outside_functions instead.\n",
      "\n",
      "235/235 [==============================] - 4s 6ms/step - loss: 0.9218 - accuracy: 0.5241 - val_loss: 0.7969 - val_accuracy: 0.4989\n",
      "Epoch 2/65\n",
      "235/235 [==============================] - 1s 5ms/step - loss: 0.8401 - accuracy: 0.5581 - val_loss: 0.7413 - val_accuracy: 0.4999\n",
      "Epoch 3/65\n",
      "235/235 [==============================] - 1s 6ms/step - loss: 0.7804 - accuracy: 0.5881 - val_loss: 0.6215 - val_accuracy: 0.6345\n",
      "Epoch 4/65\n",
      "235/235 [==============================] - 1s 5ms/step - loss: 0.7408 - accuracy: 0.6131 - val_loss: 0.5546 - val_accuracy: 0.7097\n",
      "Epoch 5/65\n",
      "235/235 [==============================] - 1s 5ms/step - loss: 0.6850 - accuracy: 0.6484 - val_loss: 0.5060 - val_accuracy: 0.7500\n",
      "Epoch 6/65\n",
      "235/235 [==============================] - 1s 5ms/step - loss: 0.6317 - accuracy: 0.6859 - val_loss: 0.4667 - val_accuracy: 0.7770\n",
      "Epoch 7/65\n",
      "235/235 [==============================] - 1s 5ms/step - loss: 0.5895 - accuracy: 0.7133 - val_loss: 0.4301 - val_accuracy: 0.8030\n",
      "Epoch 8/65\n",
      "235/235 [==============================] - 1s 5ms/step - loss: 0.5547 - accuracy: 0.7363 - val_loss: 0.4010 - val_accuracy: 0.8164\n",
      "Epoch 9/65\n",
      "235/235 [==============================] - 1s 5ms/step - loss: 0.5126 - accuracy: 0.7622 - val_loss: 0.3772 - val_accuracy: 0.8279\n",
      "Epoch 10/65\n",
      "235/235 [==============================] - 1s 5ms/step - loss: 0.4834 - accuracy: 0.7770 - val_loss: 0.3594 - val_accuracy: 0.8370\n",
      "Epoch 11/65\n",
      "235/235 [==============================] - 1s 5ms/step - loss: 0.4632 - accuracy: 0.7917 - val_loss: 0.3424 - val_accuracy: 0.8456\n",
      "Epoch 12/65\n",
      "235/235 [==============================] - 1s 5ms/step - loss: 0.4355 - accuracy: 0.8033 - val_loss: 0.3278 - val_accuracy: 0.8531\n",
      "Epoch 13/65\n",
      "235/235 [==============================] - 1s 5ms/step - loss: 0.4157 - accuracy: 0.8139 - val_loss: 0.3189 - val_accuracy: 0.8576\n",
      "Epoch 14/65\n",
      "235/235 [==============================] - 1s 5ms/step - loss: 0.4038 - accuracy: 0.8211 - val_loss: 0.3113 - val_accuracy: 0.8616\n",
      "Epoch 15/65\n",
      "235/235 [==============================] - 1s 5ms/step - loss: 0.3872 - accuracy: 0.8284 - val_loss: 0.3024 - val_accuracy: 0.8668\n",
      "Epoch 16/65\n",
      "235/235 [==============================] - 1s 5ms/step - loss: 0.3740 - accuracy: 0.8380 - val_loss: 0.2973 - val_accuracy: 0.8686\n",
      "Epoch 17/65\n",
      "235/235 [==============================] - 1s 5ms/step - loss: 0.3681 - accuracy: 0.8411 - val_loss: 0.2943 - val_accuracy: 0.8700\n",
      "Epoch 18/65\n",
      "235/235 [==============================] - 1s 5ms/step - loss: 0.3556 - accuracy: 0.8459 - val_loss: 0.2902 - val_accuracy: 0.8718\n",
      "Epoch 19/65\n",
      "235/235 [==============================] - 1s 5ms/step - loss: 0.3439 - accuracy: 0.8521 - val_loss: 0.2861 - val_accuracy: 0.8737\n",
      "Epoch 20/65\n",
      "235/235 [==============================] - 1s 5ms/step - loss: 0.3347 - accuracy: 0.8580 - val_loss: 0.2834 - val_accuracy: 0.8759\n",
      "Epoch 21/65\n",
      "235/235 [==============================] - 1s 5ms/step - loss: 0.3322 - accuracy: 0.8567 - val_loss: 0.2826 - val_accuracy: 0.8766\n",
      "Epoch 22/65\n",
      "235/235 [==============================] - 1s 5ms/step - loss: 0.3307 - accuracy: 0.8580 - val_loss: 0.2800 - val_accuracy: 0.8770\n",
      "Epoch 23/65\n",
      "235/235 [==============================] - 1s 5ms/step - loss: 0.3198 - accuracy: 0.8651 - val_loss: 0.2797 - val_accuracy: 0.8766\n",
      "Epoch 24/65\n",
      "235/235 [==============================] - 1s 5ms/step - loss: 0.3175 - accuracy: 0.8649 - val_loss: 0.2770 - val_accuracy: 0.8795\n",
      "Epoch 25/65\n",
      "235/235 [==============================] - 1s 5ms/step - loss: 0.3086 - accuracy: 0.8681 - val_loss: 0.2771 - val_accuracy: 0.8788\n",
      "Epoch 26/65\n",
      "235/235 [==============================] - 1s 5ms/step - loss: 0.3035 - accuracy: 0.8715 - val_loss: 0.2756 - val_accuracy: 0.8796\n",
      "Epoch 27/65\n",
      "235/235 [==============================] - 1s 5ms/step - loss: 0.3019 - accuracy: 0.8730 - val_loss: 0.2751 - val_accuracy: 0.8802\n",
      "Epoch 28/65\n",
      "235/235 [==============================] - 1s 5ms/step - loss: 0.2918 - accuracy: 0.8766 - val_loss: 0.2738 - val_accuracy: 0.8811\n",
      "Epoch 29/65\n",
      "235/235 [==============================] - 1s 5ms/step - loss: 0.2899 - accuracy: 0.8779 - val_loss: 0.2730 - val_accuracy: 0.8816\n",
      "Epoch 30/65\n",
      "235/235 [==============================] - 1s 5ms/step - loss: 0.2911 - accuracy: 0.8789 - val_loss: 0.2714 - val_accuracy: 0.8841\n",
      "Epoch 31/65\n",
      "235/235 [==============================] - 1s 5ms/step - loss: 0.2820 - accuracy: 0.8818 - val_loss: 0.2724 - val_accuracy: 0.8833\n",
      "Epoch 32/65\n",
      "235/235 [==============================] - 1s 5ms/step - loss: 0.2835 - accuracy: 0.8816 - val_loss: 0.2709 - val_accuracy: 0.8847\n",
      "Epoch 33/65\n",
      "235/235 [==============================] - 1s 5ms/step - loss: 0.2774 - accuracy: 0.8842 - val_loss: 0.2702 - val_accuracy: 0.8841\n",
      "Epoch 34/65\n",
      "235/235 [==============================] - 1s 5ms/step - loss: 0.2745 - accuracy: 0.8845 - val_loss: 0.2689 - val_accuracy: 0.8847\n",
      "Epoch 35/65\n",
      "235/235 [==============================] - 1s 6ms/step - loss: 0.2718 - accuracy: 0.8849 - val_loss: 0.2693 - val_accuracy: 0.8852\n",
      "Epoch 36/65\n",
      "235/235 [==============================] - 1s 5ms/step - loss: 0.2684 - accuracy: 0.8872 - val_loss: 0.2680 - val_accuracy: 0.8852\n",
      "Epoch 37/65\n",
      "235/235 [==============================] - 1s 5ms/step - loss: 0.2689 - accuracy: 0.8874 - val_loss: 0.2684 - val_accuracy: 0.8848\n",
      "Epoch 38/65\n",
      "235/235 [==============================] - 1s 5ms/step - loss: 0.2648 - accuracy: 0.8878 - val_loss: 0.2673 - val_accuracy: 0.8851\n",
      "Epoch 39/65\n",
      "235/235 [==============================] - 1s 5ms/step - loss: 0.2600 - accuracy: 0.8910 - val_loss: 0.2676 - val_accuracy: 0.8846\n",
      "Epoch 40/65\n",
      "235/235 [==============================] - 1s 5ms/step - loss: 0.2545 - accuracy: 0.8937 - val_loss: 0.2676 - val_accuracy: 0.8848\n",
      "Epoch 41/65\n",
      "235/235 [==============================] - 1s 5ms/step - loss: 0.2563 - accuracy: 0.8939 - val_loss: 0.2664 - val_accuracy: 0.8860\n",
      "Epoch 42/65\n",
      "235/235 [==============================] - 1s 5ms/step - loss: 0.2524 - accuracy: 0.8946 - val_loss: 0.2661 - val_accuracy: 0.8862\n",
      "Epoch 43/65\n",
      "235/235 [==============================] - 1s 5ms/step - loss: 0.2495 - accuracy: 0.8974 - val_loss: 0.2663 - val_accuracy: 0.8860\n",
      "Epoch 44/65\n",
      "235/235 [==============================] - 1s 5ms/step - loss: 0.2483 - accuracy: 0.8970 - val_loss: 0.2665 - val_accuracy: 0.8863\n",
      "Epoch 45/65\n",
      "235/235 [==============================] - 1s 5ms/step - loss: 0.2416 - accuracy: 0.8988 - val_loss: 0.2657 - val_accuracy: 0.8872\n",
      "Epoch 46/65\n",
      "235/235 [==============================] - 1s 5ms/step - loss: 0.2407 - accuracy: 0.8992 - val_loss: 0.2651 - val_accuracy: 0.8878\n",
      "Epoch 47/65\n",
      "235/235 [==============================] - 1s 5ms/step - loss: 0.2377 - accuracy: 0.9021 - val_loss: 0.2653 - val_accuracy: 0.8877\n",
      "Epoch 48/65\n",
      "235/235 [==============================] - 1s 5ms/step - loss: 0.2350 - accuracy: 0.9037 - val_loss: 0.2659 - val_accuracy: 0.8872\n",
      "Epoch 49/65\n",
      "235/235 [==============================] - 1s 5ms/step - loss: 0.2317 - accuracy: 0.9033 - val_loss: 0.2661 - val_accuracy: 0.8878\n",
      "Epoch 50/65\n",
      "235/235 [==============================] - 1s 5ms/step - loss: 0.2308 - accuracy: 0.9048 - val_loss: 0.2657 - val_accuracy: 0.8882\n",
      "Epoch 51/65\n",
      "235/235 [==============================] - 1s 5ms/step - loss: 0.2261 - accuracy: 0.9085 - val_loss: 0.2655 - val_accuracy: 0.8879\n",
      "Epoch 52/65\n",
      "235/235 [==============================] - 1s 5ms/step - loss: 0.2240 - accuracy: 0.9069 - val_loss: 0.2651 - val_accuracy: 0.8882\n",
      "Epoch 53/65\n",
      "235/235 [==============================] - 1s 5ms/step - loss: 0.2200 - accuracy: 0.9089 - val_loss: 0.2660 - val_accuracy: 0.8885\n",
      "Epoch 54/65\n",
      "235/235 [==============================] - 1s 5ms/step - loss: 0.2198 - accuracy: 0.9098 - val_loss: 0.2657 - val_accuracy: 0.8895\n",
      "Epoch 55/65\n",
      "235/235 [==============================] - 1s 5ms/step - loss: 0.2158 - accuracy: 0.9113 - val_loss: 0.2661 - val_accuracy: 0.8895\n",
      "Epoch 56/65\n",
      "235/235 [==============================] - 1s 5ms/step - loss: 0.2112 - accuracy: 0.9119 - val_loss: 0.2667 - val_accuracy: 0.8884\n",
      "Epoch 57/65\n",
      "235/235 [==============================] - 1s 5ms/step - loss: 0.2099 - accuracy: 0.9145 - val_loss: 0.2677 - val_accuracy: 0.8899\n",
      "Epoch 58/65\n",
      "235/235 [==============================] - 1s 5ms/step - loss: 0.2073 - accuracy: 0.9156 - val_loss: 0.2674 - val_accuracy: 0.8910\n",
      "Epoch 59/65\n",
      "235/235 [==============================] - 1s 5ms/step - loss: 0.2038 - accuracy: 0.9181 - val_loss: 0.2678 - val_accuracy: 0.8915\n",
      "Epoch 60/65\n",
      "235/235 [==============================] - 1s 5ms/step - loss: 0.2002 - accuracy: 0.9185 - val_loss: 0.2683 - val_accuracy: 0.8917\n",
      "Epoch 61/65\n",
      "235/235 [==============================] - 1s 5ms/step - loss: 0.1974 - accuracy: 0.9194 - val_loss: 0.2693 - val_accuracy: 0.8911\n",
      "Epoch 62/65\n",
      "235/235 [==============================] - 1s 5ms/step - loss: 0.1950 - accuracy: 0.9216 - val_loss: 0.2708 - val_accuracy: 0.8906\n"
     ]
    }
   ],
   "source": [
    "from sklearn.metrics import f1_score, recall_score, precision_score\n",
    "\n",
    "adam = Adam(learning_rate = 0.00004)\n",
    "\n",
    "mlp = create_MLP_model(X_train_svd.shape[1],'relu')\n",
    "mlp.compile(\n",
    "    loss='binary_crossentropy',\n",
    "    optimizer=adam,\n",
    "    metrics=[\"accuracy\"]\n",
    "    )\n",
    "\n",
    "# Build the model and print the structure of our model before training\n",
    "mlp.build(X_train_svd.shape[1])  # We need to build our model in order to print the structure\n",
    "print(mlp.summary())\n",
    "\n",
    "# Add an early stopping callback to stop the epochs when we catch the best validation loss\n",
    "early_stopping_callback = EarlyStopping(\n",
    "    monitor='val_loss',  # Monitor validation loss for early stopping\n",
    "    patience=10,           # Number of epochs with no improvement after which training will be stopped\n",
    "    restore_best_weights=True  # Restore best model weights when early stopping is triggered\n",
    ")\n",
    "\n",
    "# Callback to save the Keras model or model weights at some frequency.\n",
    "MLP_checkpoint = ModelCheckpoint(\n",
    "    'checkpoints/weights.hdf5',\n",
    "    monitor='val_loss',\n",
    "    mode='min',\n",
    "    verbose=2,\n",
    "    save_best_only=True,\n",
    "    save_weights_only=True\n",
    "    )\n",
    "\n",
    "# Start our training\n",
    "history = mlp.fit(\n",
    "    X_train_svd,\n",
    "    y_train,\n",
    "    validation_data=(X_dev_svd, y_dev),\n",
    "    batch_size=128,\n",
    "    epochs=65,\n",
    "    shuffle=True,\n",
    "    callbacks=[early_stopping_callback]\n",
    ")"
   ]
  },
  {
   "cell_type": "code",
   "execution_count": 24,
   "metadata": {},
   "outputs": [],
   "source": [
    "from keras import backend as K\n",
    "K.clear_session()"
   ]
  },
  {
   "cell_type": "code",
   "execution_count": 25,
   "metadata": {
    "colab": {
     "base_uri": "https://localhost:8080/"
    },
    "executionInfo": {
     "elapsed": 20148,
     "status": "ok",
     "timestamp": 1708526045354,
     "user": {
      "displayName": "Dimitris Stathopoulos",
      "userId": "13979344250441303776"
     },
     "user_tz": -120
    },
    "id": "rYBvUef3QrC5",
    "outputId": "f8225ab0-8a4c-4555-d14b-2007a2ca18d5"
   },
   "outputs": [
    {
     "name": "stdout",
     "output_type": "stream",
     "text": [
      "313/313 [==============================] - 0s 1ms/step - loss: 0.2722 - accuracy: 0.8889\n",
      "Test Set Evaluation:\n",
      "The loss of the test set is: 0.272,\n",
      "The accuracy of the test set is: 88.890%\n"
     ]
    }
   ],
   "source": [
    "# Evaluate in test set\n",
    "evaluation = mlp.evaluate(X_test_svd, y_test)\n",
    "\n",
    "print('Test Set Evaluation:')\n",
    "print(f\"The loss of the test set is:{evaluation[0]: .3f},\\nThe accuracy of the test set is:{evaluation[1]*100: .3f}%\")\n",
    "\n",
    "# del mlp,clf # Save up memory"
   ]
  },
  {
   "cell_type": "markdown",
   "metadata": {},
   "source": [
    "### Tokenize X_train, X_dev, X_test"
   ]
  },
  {
   "cell_type": "code",
   "execution_count": 16,
   "metadata": {},
   "outputs": [],
   "source": [
    "def is_number(s):\n",
    "    try:\n",
    "        float(s)\n",
    "        return True\n",
    "    except ValueError:\n",
    "        return False"
   ]
  },
  {
   "cell_type": "code",
   "execution_count": 17,
   "metadata": {},
   "outputs": [
    {
     "name": "stderr",
     "output_type": "stream",
     "text": [
      "100%|██████████| 30000/30000 [03:05<00:00, 161.33it/s]\n",
      "100%|██████████| 10000/10000 [00:57<00:00, 172.86it/s]\n",
      "100%|██████████| 10000/10000 [01:07<00:00, 148.71it/s]\n"
     ]
    }
   ],
   "source": [
    "import spacy\n",
    "import string\n",
    "import numpy as np\n",
    "from tqdm import tqdm\n",
    "\n",
    "nlp = spacy.load('en_core_web_sm', disable=[\"tagger\", \"parser\", \"ner\", \"lemmatizer\"])\n",
    "from spacy.lang.en.stop_words import STOP_WORDS\n",
    "nlp.add_pipe('sentencizer')\n",
    "\n",
    "\n",
    "# Create a function that uses spacy to tokenize sentences and returns a nested list of tokenized sentences\n",
    "def tokenize_data (data):\n",
    "  \"\"\"\n",
    "    \n",
    "    :param data: list of documents\n",
    "    :return: nested list of the tokenized documents\n",
    "    \"\"\"\n",
    "  data_tokenized = []\n",
    "  for idx in tqdm(range(len(data))):\n",
    "    doc = nlp(data[idx])\n",
    "    tokens = []\n",
    "    for sent in doc.sents:\n",
    "      for tok in sent:\n",
    "        if '\\n' in tok.text or \"\\t\" in tok.text or \"--\" in tok.text or \"*\" in tok.text or\\\n",
    "        tok.text.lower() in STOP_WORDS or tok.text in string.punctuation or\\\n",
    "          all(x in string.punctuation for x in tok.text) or is_number(tok.text):\n",
    "          continue\n",
    "        if tok.text.strip():\n",
    "          tokens.append(tok.text.replace('\"',\"'\").strip().lower())\n",
    "    data_tokenized.append(tokens)\n",
    "  return data_tokenized\n",
    "\n",
    "X_train_tokenized = tokenize_data(X_train) \n",
    "X_dev_tokenized = tokenize_data(X_dev)\n",
    "X_test_tokenized = tokenize_data(X_test)\n",
    "\n"
   ]
  },
  {
   "cell_type": "markdown",
   "metadata": {},
   "source": [
    "### CHECK THE SEQUENCE LENGTH\n",
    "\n",
    "* We are going to check the length of each review and drop the reviews that exceed the max sequence length that we will add to our RNN model."
   ]
  },
  {
   "cell_type": "code",
   "execution_count": 18,
   "metadata": {},
   "outputs": [
    {
     "name": "stdout",
     "output_type": "stream",
     "text": [
      "Mean:  106.18\n",
      "Std:  81.05\n"
     ]
    }
   ],
   "source": [
    "mean_words = np.mean([len(x) for x in X_train_tokenized])\n",
    "std_of_words = np.std([len(x) for x in X_train_tokenized])\n",
    "               \n",
    "# Get mean and std of sequence length on trainning set\n",
    "print(f\"Mean: {np.mean([len(x) for x in X_train_tokenized]): .2f}\")\n",
    "print(f\"Std: {np.std([len(x) for x in X_train_tokenized]): .2f}\")"
   ]
  },
  {
   "cell_type": "markdown",
   "metadata": {},
   "source": [
    "### KEEP THE REVIEWS WITH MAX LENGTH= mean_words * (2 * std_of_word_counts)"
   ]
  },
  {
   "cell_type": "code",
   "execution_count": null,
   "metadata": {},
   "outputs": [],
   "source": [
    "print(f\"{[len(x) for x in X_train_tokenized]}\")\n",
    "\n",
    "# Define a function that drops the rows not meeting the criteria\n",
    "def estimate_max_seq_len(data_tokenized, targets, mean_w=mean_words, std_w=std_of_words):\n",
    "    # Create a DataFrame to work with\n",
    "    data = pd.DataFrame(columns=['data_tokenized', 'word_counts', 'targets'])\n",
    "\n",
    "    # Assign the tokenized text to a column inside the dataframe\n",
    "    data.data_tokenized =  data_tokenized\n",
    "    # Assign the word counts for each row in a second column\n",
    "    data.word_counts = [len(x) for x in data_tokenized]\n",
    "\n",
    "    # Assign target variables\n",
    "    data.targets = targets\n",
    "\n",
    "    display(data.head())\n",
    "\n",
    "    # Custom formula of estimating the MAX_words_Length\n",
    "    MAX_words_length = mean_w + 2*std_w\n",
    "\n",
    "    # Drop the rows not meeting the criteria\n",
    "    data = data[data.word_counts <= MAX_words_length]\n",
    "\n",
    "    return [' '.join(x) for x in data.data_tokenized], data.targets\n",
    "\n",
    "X_train, y_train = estimate_max_seq_len(X_train_tokenized, y_train)\n",
    "# X_dev = estimate_max_seq_len(X_dev_tokenized, y_dev)\n",
    "# X_test = estimate_max_seq_len(X_test_tokenized, y_test)"
   ]
  },
  {
   "cell_type": "markdown",
   "metadata": {
    "id": "PzNmkY7MQrC5"
   },
   "source": [
    "### Convert text (sequence of words) to sequence of indexes and PAD the sequences\n",
    "Using Keras's <a href='https://keras.io/api/layers/preprocessing_layers/core_preprocessing_layers/text_vectorization/'>TextVectorization layer </a>"
   ]
  },
  {
   "cell_type": "code",
   "execution_count": 17,
   "metadata": {
    "executionInfo": {
     "elapsed": 5158,
     "status": "ok",
     "timestamp": 1708526050462,
     "user": {
      "displayName": "Dimitris Stathopoulos",
      "userId": "13979344250441303776"
     },
     "user_tz": -120
    },
    "id": "ImRtnnIAQrC6"
   },
   "outputs": [
    {
     "name": "stderr",
     "output_type": "stream",
     "text": [
      "2024-02-28 17:36:41.951595: I tensorflow/stream_executor/cuda/cuda_gpu_executor.cc:966] could not open file to read NUMA node: /sys/bus/pci/devices/0000:08:00.0/numa_node\n",
      "Your kernel may have been built without NUMA support.\n",
      "2024-02-28 17:36:41.981946: I tensorflow/stream_executor/cuda/cuda_gpu_executor.cc:966] could not open file to read NUMA node: /sys/bus/pci/devices/0000:08:00.0/numa_node\n",
      "Your kernel may have been built without NUMA support.\n",
      "2024-02-28 17:36:41.982022: I tensorflow/stream_executor/cuda/cuda_gpu_executor.cc:966] could not open file to read NUMA node: /sys/bus/pci/devices/0000:08:00.0/numa_node\n",
      "Your kernel may have been built without NUMA support.\n",
      "2024-02-28 17:36:41.982874: I tensorflow/core/platform/cpu_feature_guard.cc:193] This TensorFlow binary is optimized with oneAPI Deep Neural Network Library (oneDNN) to use the following CPU instructions in performance-critical operations:  AVX2 FMA\n",
      "To enable them in other operations, rebuild TensorFlow with the appropriate compiler flags.\n",
      "2024-02-28 17:36:41.983790: I tensorflow/stream_executor/cuda/cuda_gpu_executor.cc:966] could not open file to read NUMA node: /sys/bus/pci/devices/0000:08:00.0/numa_node\n",
      "Your kernel may have been built without NUMA support.\n",
      "2024-02-28 17:36:41.983864: I tensorflow/stream_executor/cuda/cuda_gpu_executor.cc:966] could not open file to read NUMA node: /sys/bus/pci/devices/0000:08:00.0/numa_node\n",
      "Your kernel may have been built without NUMA support.\n",
      "2024-02-28 17:36:41.983911: I tensorflow/stream_executor/cuda/cuda_gpu_executor.cc:966] could not open file to read NUMA node: /sys/bus/pci/devices/0000:08:00.0/numa_node\n",
      "Your kernel may have been built without NUMA support.\n",
      "2024-02-28 17:36:42.145908: I tensorflow/stream_executor/cuda/cuda_gpu_executor.cc:966] could not open file to read NUMA node: /sys/bus/pci/devices/0000:08:00.0/numa_node\n",
      "Your kernel may have been built without NUMA support.\n",
      "2024-02-28 17:36:42.146000: I tensorflow/stream_executor/cuda/cuda_gpu_executor.cc:966] could not open file to read NUMA node: /sys/bus/pci/devices/0000:08:00.0/numa_node\n",
      "Your kernel may have been built without NUMA support.\n",
      "2024-02-28 17:36:42.146009: I tensorflow/core/common_runtime/gpu/gpu_device.cc:1700] Could not identify NUMA node of platform GPU id 0, defaulting to 0.  Your kernel may not have been built with NUMA support.\n",
      "2024-02-28 17:36:42.146063: I tensorflow/stream_executor/cuda/cuda_gpu_executor.cc:966] could not open file to read NUMA node: /sys/bus/pci/devices/0000:08:00.0/numa_node\n",
      "Your kernel may have been built without NUMA support.\n",
      "2024-02-28 17:36:42.146098: I tensorflow/core/common_runtime/gpu/gpu_device.cc:1616] Created device /job:localhost/replica:0/task:0/device:GPU:0 with 4047 MB memory:  -> device: 0, name: NVIDIA GeForce RTX 2060, pci bus id: 0000:08:00.0, compute capability: 7.5\n"
     ]
    }
   ],
   "source": [
    "import tensorflow as tf\n",
    "MAX_WORDS = 100000\n",
    "MAX_SEQUENCE_LENGTH = 266 # mean + (2 * std)\n",
    "EMBEDDING_DIM = 300\n",
    "\n",
    "vectorizer = tf.keras.layers.TextVectorization(max_tokens=MAX_WORDS, output_mode='int',\n",
    "                                               ngrams=1, output_sequence_length=MAX_SEQUENCE_LENGTH)\n",
    "\n",
    "vectorizer.adapt(X_train)"
   ]
  },
  {
   "cell_type": "markdown",
   "metadata": {
    "id": "Gg8lLBHXQrDB"
   },
   "source": [
    "#### Initialize embedding matrix with fasttext pre-trained embedings"
   ]
  },
  {
   "cell_type": "code",
   "execution_count": 18,
   "metadata": {
    "colab": {
     "background_save": true,
     "base_uri": "https://localhost:8080/"
    },
    "id": "CuoDcGnUQrDC",
    "outputId": "e2c5d966-e3ab-4117-bde2-dab05c0fc3c0"
   },
   "outputs": [
    {
     "name": "stderr",
     "output_type": "stream",
     "text": [
      "Warning : `load_model` does not return WordVectorModel or SupervisedModel any more, but a `FastText` object which is very similar.\n"
     ]
    }
   ],
   "source": [
    "# !pip install fasttext-wheel\n",
    "\n",
    "import fasttext\n",
    "import numpy as np\n",
    "import fasttext.util\n",
    "\n",
    "\n",
    "# Download model when running local\n",
    "\"\"\"\n",
    "First go to the directory of your choice(using command <cd> from terminal)\n",
    " and download the model via:\n",
    "$ python\n",
    "\n",
    ">>>pip install fasttext-wheel\n",
    "\n",
    ">>>import fasttext\n",
    ">>>import numpy as np\n",
    ">>> import fasttext.util\n",
    ">>>fasttext.util.download_model('en', if_exists='ignore') # English\n",
    "\n",
    "Then uncomment the following code and load from the desired folder it was\n",
    "downloaded!\n",
    "\"\"\"\n",
    "fasttext_model = fasttext.load_model('../../../../../big_files_DS/cc.en.300.bin')\n",
    "\n",
    "# On laptop\n",
    "# fasttext_model = fasttext.load_model('C:/Users/stath/Desktop/big_files_DS/cc.en.300.bin')\n",
    "\n",
    "\n",
    "\"\"\" When in google collab we just need to download and load\"\"\"\n",
    "\n",
    "# # Download model when in Google Collab\n",
    "# fasttext.util.download_model('en', if_exists='ignore') # English\n",
    "# fasttext_model =  fasttext.load_model('cc.en.300.bin')\n",
    "\n",
    "\n",
    "\n",
    "\n",
    "embedding_matrix = np.zeros(shape=(MAX_WORDS, 300))\n",
    "\n",
    "for w2idx, _word in enumerate(vectorizer.get_vocabulary()):\n",
    "    # Skip PAD and UNK tokens\n",
    "    if w2idx >= 2:\n",
    "      embedding_matrix[w2idx] = fasttext_model.get_word_vector(_word)\n"
   ]
  },
  {
   "cell_type": "code",
   "execution_count": 19,
   "metadata": {
    "id": "eKRhbKPxQrDC"
   },
   "outputs": [
    {
     "name": "stdout",
     "output_type": "stream",
     "text": [
      "[0. 0. 0. 0. 0. 0. 0. 0. 0. 0. 0. 0. 0. 0. 0. 0. 0. 0. 0. 0. 0. 0. 0. 0.\n",
      " 0. 0. 0. 0. 0. 0. 0. 0. 0. 0. 0. 0. 0. 0. 0. 0. 0. 0. 0. 0. 0. 0. 0. 0.\n",
      " 0. 0. 0. 0. 0. 0. 0. 0. 0. 0. 0. 0. 0. 0. 0. 0. 0. 0. 0. 0. 0. 0. 0. 0.\n",
      " 0. 0. 0. 0. 0. 0. 0. 0. 0. 0. 0. 0. 0. 0. 0. 0. 0. 0. 0. 0. 0. 0. 0. 0.\n",
      " 0. 0. 0. 0. 0. 0. 0. 0. 0. 0. 0. 0. 0. 0. 0. 0. 0. 0. 0. 0. 0. 0. 0. 0.\n",
      " 0. 0. 0. 0. 0. 0. 0. 0. 0. 0. 0. 0. 0. 0. 0. 0. 0. 0. 0. 0. 0. 0. 0. 0.\n",
      " 0. 0. 0. 0. 0. 0. 0. 0. 0. 0. 0. 0. 0. 0. 0. 0. 0. 0. 0. 0. 0. 0. 0. 0.\n",
      " 0. 0. 0. 0. 0. 0. 0. 0. 0. 0. 0. 0. 0. 0. 0. 0. 0. 0. 0. 0. 0. 0. 0. 0.\n",
      " 0. 0. 0. 0. 0. 0. 0. 0. 0. 0. 0. 0. 0. 0. 0. 0. 0. 0. 0. 0. 0. 0. 0. 0.\n",
      " 0. 0. 0. 0. 0. 0. 0. 0. 0. 0. 0. 0. 0. 0. 0. 0. 0. 0. 0. 0. 0. 0. 0. 0.\n",
      " 0. 0. 0. 0. 0. 0. 0. 0. 0. 0. 0. 0. 0. 0. 0. 0. 0. 0. 0. 0. 0. 0. 0. 0.\n",
      " 0. 0. 0. 0. 0. 0. 0. 0. 0. 0. 0. 0. 0. 0. 0. 0. 0. 0. 0. 0. 0. 0. 0. 0.\n",
      " 0. 0. 0. 0. 0. 0. 0. 0. 0. 0. 0. 0.]\n"
     ]
    }
   ],
   "source": [
    "# Example of the embeddings matrix\n",
    "print(embedding_matrix[0,:])\n",
    "\n",
    "del fasttext_model"
   ]
  },
  {
   "cell_type": "markdown",
   "metadata": {
    "id": "xDqIFJDkQrDC"
   },
   "source": [
    "* Class with functions that produce the training history for each epoch"
   ]
  },
  {
   "cell_type": "code",
   "execution_count": 20,
   "metadata": {
    "id": "WOM53rxHQrDC"
   },
   "outputs": [],
   "source": [
    "from sklearn.metrics import f1_score, recall_score, precision_score\n",
    "import os\n",
    "\n",
    "\n",
    "class Metrics(tf.keras.callbacks.Callback):\n",
    "    def __init__(self, valid_data):\n",
    "        super(Metrics, self).__init__()\n",
    "        self.validation_data = valid_data\n",
    "\n",
    "    def on_epoch_end(self, epoch, logs=None):\n",
    "        logs = logs or {}\n",
    "        val_predict = np.argmax(self.model.predict(self.validation_data[0]), -1)\n",
    "        val_targ = self.validation_data[1]\n",
    "        val_targ = tf.cast(val_targ,dtype=tf.float32)\n",
    "        if len(val_targ.shape) == 2 and val_targ.shape[1] != 1:\n",
    "          val_targ = np.argmax(val_targ, -1)\n",
    "\n",
    "\n",
    "        _val_f1 = f1_score(val_targ, val_predict,average=\"weighted\")\n",
    "        _val_recall = recall_score(val_targ, val_predict,average=\"weighted\")\n",
    "        _val_precision = precision_score(val_targ, val_predict,average=\"weighted\")\n",
    "\n",
    "        logs['val_f1'] = _val_f1\n",
    "        logs['val_recall'] = _val_recall\n",
    "        logs['val_precision'] = _val_precision\n",
    "        print(\" — val_f1: %f — val_precision: %f — val_recall: %f\" % (_val_f1, _val_precision, _val_recall))\n",
    "        return"
   ]
  },
  {
   "cell_type": "markdown",
   "metadata": {},
   "source": [
    "#### Create a function that calculates both the acurracy and loss history for an RNN model "
   ]
  },
  {
   "cell_type": "code",
   "execution_count": 21,
   "metadata": {
    "id": "QW0gIdgBQrDD"
   },
   "outputs": [],
   "source": [
    "def accuracy_loss_history(history):\n",
    "    \n",
    "\n",
    "    # summarize history for accuracy\n",
    "    plt.plot(history.history['accuracy'])\n",
    "    plt.plot(history.history['val_accuracy'])\n",
    "    plt.title('model accuracy')\n",
    "    plt.ylabel('accuracy')\n",
    "    plt.xlabel('epoch')\n",
    "    plt.legend(['train', 'dev'], loc='upper left')\n",
    "    plt.xticks([x_tick for x_tick in range(0,len(history.history['accuracy'])+2,2)])\n",
    "    plt.show()\n",
    "    # summarize history for loss\n",
    "    plt.plot(history.history['loss'])\n",
    "    plt.plot(history.history['val_loss'])\n",
    "    plt.title('model loss')\n",
    "    plt.ylabel('loss')\n",
    "    plt.xlabel('epoch')\n",
    "    plt.legend(['train', 'dev'], loc='upper right')\n",
    "    plt.xticks([x_tick for x_tick in range(0,len(history.history['accuracy'])+2,2)])\n",
    "    plt.show()\n"
   ]
  },
  {
   "cell_type": "markdown",
   "metadata": {},
   "source": [
    "### Create functions that initialize the Self Attention Mechanism given an RNN model "
   ]
  },
  {
   "cell_type": "code",
   "execution_count": 22,
   "metadata": {},
   "outputs": [],
   "source": [
    "class SelfAttention(tf.keras.layers.Layer):\n",
    "  def __init__(self, mlp_layers=0, units=0, dropout_rate=0, return_attention=False, **kwargs):\n",
    "    super(SelfAttention, self).__init__(**kwargs)\n",
    "    self.mlp_layers = mlp_layers\n",
    "    self.mlp_units = units\n",
    "    self.return_attention = return_attention\n",
    "    self.dropout_rate = dropout_rate\n",
    "    self.attention_mlp = self.build_mlp()\n",
    "\n",
    "  def build_mlp(self):\n",
    "    mlp = tf.keras.Sequential()\n",
    "    for i in range(self.mlp_layers):\n",
    "      mlp.add(tf.keras.layers.Dense(self.mlp_units, activation='relu'))\n",
    "      mlp.add(tf.keras.layers.Dropout(self.dropout_rate))\n",
    "    mlp.add(tf.keras.layers.Dense(1))\n",
    "    return mlp\n",
    "\n",
    "  def call(self, x, mask=None):\n",
    "    a = self.attention_mlp(x)\n",
    "    a = tf.squeeze(a, axis=-1)\n",
    "\n",
    "    if mask is not None:\n",
    "      mask = tf.keras.backend.cast(mask, tf.keras.backend.floatx())\n",
    "      a -= 100000.0 * (1.0 - mask)\n",
    "\n",
    "    a = tf.keras.backend.expand_dims(tf.keras.backend.softmax(a, axis=-1))\n",
    "    weighted_input = x * a\n",
    "    result = tf.keras.backend.sum(weighted_input, axis=1)\n",
    "\n",
    "    if self.return_attention:\n",
    "      return [result, a]\n",
    "    return result\n"
   ]
  },
  {
   "cell_type": "markdown",
   "metadata": {
    "id": "9pEeJbmAQrDH"
   },
   "source": [
    "###  Build BiLSTM + Linear self-attention with functional API\n",
    "* The Keras functional API is a way to create models that are more flexible than the keras. Sequential API. The functional API can handle models with non-linear topology, shared layers, and even multiple inputs or outputs. The main idea is that a deep learning model is usually a directed acyclic graph (DAG) of layers."
   ]
  },
  {
   "cell_type": "code",
   "execution_count": 36,
   "metadata": {},
   "outputs": [],
   "source": [
    "# %%capture\n",
    "# !pip install numba"
   ]
  },
  {
   "cell_type": "code",
   "execution_count": 37,
   "metadata": {
    "id": "QtbheCF0QrDH"
   },
   "outputs": [
    {
     "name": "stdout",
     "output_type": "stream",
     "text": [
      "Model: \"model\"\n",
      "_________________________________________________________________\n",
      " Layer (type)                Output Shape              Param #   \n",
      "=================================================================\n",
      " input_1 (InputLayer)        [(None, 1)]               0         \n",
      "                                                                 \n",
      " text_vectorization (TextVe  (None, 266)               0         \n",
      " ctorization)                                                    \n",
      "                                                                 \n",
      " embedding (Embedding)       (None, 266, 300)          30000000  \n",
      "                                                                 \n",
      " dropout (Dropout)           (None, 266, 300)          0         \n",
      "                                                                 \n",
      " bidirectional (Bidirection  (None, 266, 600)          1442400   \n",
      " al)                                                             \n",
      "                                                                 \n",
      " dropout_1 (Dropout)         (None, 266, 600)          0         \n",
      "                                                                 \n",
      " bidirectional_1 (Bidirecti  (None, 266, 600)          2162400   \n",
      " onal)                                                           \n",
      "                                                                 \n",
      " dropout_2 (Dropout)         (None, 266, 600)          0         \n",
      "                                                                 \n",
      " self_attention (SelfAttent  [(None, 600),             601       \n",
      " ion)                         (None, 266, 1)]                    \n",
      "                                                                 \n",
      " dense_1 (Dense)             (None, 1000)              601000    \n",
      "                                                                 \n",
      " dropout_3 (Dropout)         (None, 1000)              0         \n",
      "                                                                 \n",
      " dense_2 (Dense)             (None, 1)                 1001      \n",
      "                                                                 \n",
      "=================================================================\n",
      "Total params: 34207402 (130.49 MB)\n",
      "Trainable params: 4207402 (16.05 MB)\n",
      "Non-trainable params: 30000000 (114.44 MB)\n",
      "_________________________________________________________________\n",
      "None\n",
      "Epoch 1/10\n",
      "313/313 [==============================] - 146s 464ms/step\n",
      " — val_f1: 0.332112 — val_precision: 0.248901 — val_recall: 0.498900\n",
      "118/118 [==============================] - 960s 8s/step - loss: 0.5199 - accuracy: 0.7433 - val_loss: 0.4258 - val_accuracy: 0.8131 - val_f1: 0.3321 - val_recall: 0.4989 - val_precision: 0.2489\n",
      "Epoch 2/10\n"
     ]
    },
    {
     "name": "stderr",
     "output_type": "stream",
     "text": [
      "c:\\Users\\drago\\anaconda3\\Lib\\site-packages\\sklearn\\metrics\\_classification.py:1469: UndefinedMetricWarning: Precision is ill-defined and being set to 0.0 in labels with no predicted samples. Use `zero_division` parameter to control this behavior.\n",
      "  _warn_prf(average, modifier, msg_start, len(result))\n"
     ]
    },
    {
     "name": "stdout",
     "output_type": "stream",
     "text": [
      "313/313 [==============================] - 163s 521ms/step\n",
      " — val_f1: 0.332112 — val_precision: 0.248901 — val_recall: 0.498900\n",
      "118/118 [==============================] - 954s 8s/step - loss: 0.4260 - accuracy: 0.8066 - val_loss: 0.3933 - val_accuracy: 0.8278 - val_f1: 0.3321 - val_recall: 0.4989 - val_precision: 0.2489\n",
      "Epoch 3/10\n"
     ]
    },
    {
     "name": "stderr",
     "output_type": "stream",
     "text": [
      "c:\\Users\\drago\\anaconda3\\Lib\\site-packages\\sklearn\\metrics\\_classification.py:1469: UndefinedMetricWarning: Precision is ill-defined and being set to 0.0 in labels with no predicted samples. Use `zero_division` parameter to control this behavior.\n",
      "  _warn_prf(average, modifier, msg_start, len(result))\n"
     ]
    },
    {
     "name": "stdout",
     "output_type": "stream",
     "text": [
      "313/313 [==============================] - 153s 488ms/step\n",
      " — val_f1: 0.332112 — val_precision: 0.248901 — val_recall: 0.498900\n",
      "118/118 [==============================] - 952s 8s/step - loss: 0.4131 - accuracy: 0.8125 - val_loss: 0.4052 - val_accuracy: 0.8162 - val_f1: 0.3321 - val_recall: 0.4989 - val_precision: 0.2489\n",
      "Epoch 4/10\n"
     ]
    },
    {
     "name": "stderr",
     "output_type": "stream",
     "text": [
      "c:\\Users\\drago\\anaconda3\\Lib\\site-packages\\sklearn\\metrics\\_classification.py:1469: UndefinedMetricWarning: Precision is ill-defined and being set to 0.0 in labels with no predicted samples. Use `zero_division` parameter to control this behavior.\n",
      "  _warn_prf(average, modifier, msg_start, len(result))\n"
     ]
    },
    {
     "name": "stdout",
     "output_type": "stream",
     "text": [
      "313/313 [==============================] - 141s 450ms/step\n",
      " — val_f1: 0.332112 — val_precision: 0.248901 — val_recall: 0.498900\n",
      "118/118 [==============================] - 946s 8s/step - loss: 0.4028 - accuracy: 0.8165 - val_loss: 0.3755 - val_accuracy: 0.8345 - val_f1: 0.3321 - val_recall: 0.4989 - val_precision: 0.2489\n",
      "Epoch 5/10\n"
     ]
    },
    {
     "name": "stderr",
     "output_type": "stream",
     "text": [
      "c:\\Users\\drago\\anaconda3\\Lib\\site-packages\\sklearn\\metrics\\_classification.py:1469: UndefinedMetricWarning: Precision is ill-defined and being set to 0.0 in labels with no predicted samples. Use `zero_division` parameter to control this behavior.\n",
      "  _warn_prf(average, modifier, msg_start, len(result))\n"
     ]
    },
    {
     "name": "stdout",
     "output_type": "stream",
     "text": [
      "313/313 [==============================] - 144s 459ms/step\n",
      " — val_f1: 0.332112 — val_precision: 0.248901 — val_recall: 0.498900\n",
      "118/118 [==============================] - 944s 8s/step - loss: 0.3946 - accuracy: 0.8236 - val_loss: 0.3690 - val_accuracy: 0.8428 - val_f1: 0.3321 - val_recall: 0.4989 - val_precision: 0.2489\n",
      "Epoch 6/10\n"
     ]
    },
    {
     "name": "stderr",
     "output_type": "stream",
     "text": [
      "c:\\Users\\drago\\anaconda3\\Lib\\site-packages\\sklearn\\metrics\\_classification.py:1469: UndefinedMetricWarning: Precision is ill-defined and being set to 0.0 in labels with no predicted samples. Use `zero_division` parameter to control this behavior.\n",
      "  _warn_prf(average, modifier, msg_start, len(result))\n"
     ]
    },
    {
     "name": "stdout",
     "output_type": "stream",
     "text": [
      "313/313 [==============================] - 177s 564ms/step\n",
      " — val_f1: 0.332112 — val_precision: 0.248901 — val_recall: 0.498900\n",
      "118/118 [==============================] - 980s 8s/step - loss: 0.3901 - accuracy: 0.8252 - val_loss: 0.3641 - val_accuracy: 0.8358 - val_f1: 0.3321 - val_recall: 0.4989 - val_precision: 0.2489\n",
      "Epoch 7/10\n"
     ]
    },
    {
     "name": "stderr",
     "output_type": "stream",
     "text": [
      "c:\\Users\\drago\\anaconda3\\Lib\\site-packages\\sklearn\\metrics\\_classification.py:1469: UndefinedMetricWarning: Precision is ill-defined and being set to 0.0 in labels with no predicted samples. Use `zero_division` parameter to control this behavior.\n",
      "  _warn_prf(average, modifier, msg_start, len(result))\n"
     ]
    },
    {
     "name": "stdout",
     "output_type": "stream",
     "text": [
      "313/313 [==============================] - 188s 600ms/step\n",
      " — val_f1: 0.332112 — val_precision: 0.248901 — val_recall: 0.498900\n",
      "118/118 [==============================] - 993s 8s/step - loss: 0.3854 - accuracy: 0.8264 - val_loss: 0.3600 - val_accuracy: 0.8388 - val_f1: 0.3321 - val_recall: 0.4989 - val_precision: 0.2489\n",
      "Epoch 8/10\n"
     ]
    },
    {
     "name": "stderr",
     "output_type": "stream",
     "text": [
      "c:\\Users\\drago\\anaconda3\\Lib\\site-packages\\sklearn\\metrics\\_classification.py:1469: UndefinedMetricWarning: Precision is ill-defined and being set to 0.0 in labels with no predicted samples. Use `zero_division` parameter to control this behavior.\n",
      "  _warn_prf(average, modifier, msg_start, len(result))\n"
     ]
    },
    {
     "name": "stdout",
     "output_type": "stream",
     "text": [
      "313/313 [==============================] - 171s 548ms/step\n",
      " — val_f1: 0.332112 — val_precision: 0.248901 — val_recall: 0.498900\n",
      "118/118 [==============================] - 979s 8s/step - loss: 0.3798 - accuracy: 0.8316 - val_loss: 0.3581 - val_accuracy: 0.8404 - val_f1: 0.3321 - val_recall: 0.4989 - val_precision: 0.2489\n",
      "Epoch 9/10\n"
     ]
    },
    {
     "name": "stderr",
     "output_type": "stream",
     "text": [
      "c:\\Users\\drago\\anaconda3\\Lib\\site-packages\\sklearn\\metrics\\_classification.py:1469: UndefinedMetricWarning: Precision is ill-defined and being set to 0.0 in labels with no predicted samples. Use `zero_division` parameter to control this behavior.\n",
      "  _warn_prf(average, modifier, msg_start, len(result))\n"
     ]
    },
    {
     "name": "stdout",
     "output_type": "stream",
     "text": [
      "313/313 [==============================] - 140s 448ms/step\n",
      " — val_f1: 0.332112 — val_precision: 0.248901 — val_recall: 0.498900\n",
      "118/118 [==============================] - 950s 8s/step - loss: 0.3763 - accuracy: 0.8309 - val_loss: 0.3456 - val_accuracy: 0.8481 - val_f1: 0.3321 - val_recall: 0.4989 - val_precision: 0.2489\n",
      "Epoch 10/10\n"
     ]
    },
    {
     "name": "stderr",
     "output_type": "stream",
     "text": [
      "c:\\Users\\drago\\anaconda3\\Lib\\site-packages\\sklearn\\metrics\\_classification.py:1469: UndefinedMetricWarning: Precision is ill-defined and being set to 0.0 in labels with no predicted samples. Use `zero_division` parameter to control this behavior.\n",
      "  _warn_prf(average, modifier, msg_start, len(result))\n"
     ]
    },
    {
     "name": "stdout",
     "output_type": "stream",
     "text": [
      "313/313 [==============================] - 196s 625ms/step\n",
      " — val_f1: 0.332112 — val_precision: 0.248901 — val_recall: 0.498900\n",
      "118/118 [==============================] - 998s 8s/step - loss: 0.3741 - accuracy: 0.8335 - val_loss: 0.3462 - val_accuracy: 0.8483 - val_f1: 0.3321 - val_recall: 0.4989 - val_precision: 0.2489\n"
     ]
    },
    {
     "name": "stderr",
     "output_type": "stream",
     "text": [
      "c:\\Users\\drago\\anaconda3\\Lib\\site-packages\\sklearn\\metrics\\_classification.py:1469: UndefinedMetricWarning: Precision is ill-defined and being set to 0.0 in labels with no predicted samples. Use `zero_division` parameter to control this behavior.\n",
      "  _warn_prf(average, modifier, msg_start, len(result))\n"
     ]
    }
   ],
   "source": [
    "# Modules\n",
    "import tensorflow as tf\n",
    "import numpy as np\n",
    "from tensorflow.keras.callbacks import EarlyStopping, ModelCheckpoint\n",
    "\n",
    "LSTM_SIZE = 300\n",
    "DENSE = 1000\n",
    "\n",
    "\n",
    "inputs = tf.keras.layers.Input(shape=(1, ), dtype=tf.string)\n",
    "\n",
    "# Add layers using functional API\n",
    "x = vectorizer(inputs)\n",
    "x = tf.keras.layers.Embedding(MAX_WORDS, EMBEDDING_DIM, weights=[embedding_matrix],\n",
    "                              input_length=MAX_SEQUENCE_LENGTH, mask_zero=True, trainable=False)(x)\n",
    "x = tf.keras.layers.Dropout(0.33)(x)\n",
    "# add a bidirrectional lstm layer with 0.33 variational (recurrent) dropout\n",
    "x = tf.keras.layers.Bidirectional(tf.keras.layers.LSTM(LSTM_SIZE, return_sequences=True, recurrent_dropout=0.33))(x)\n",
    "x = tf.keras.layers.Dropout(0.33)(x)\n",
    "\n",
    "# add a second bidirrectional lstm layer with 0.33 variational (recurrent) dropout\n",
    "x = tf.keras.layers.Bidirectional(tf.keras.layers.LSTM(LSTM_SIZE, return_sequences=True, recurrent_dropout=0.33))(x)\n",
    "x = tf.keras.layers.Dropout(0.33)(x)\n",
    "\n",
    "# # # add a third bidirrectional lstm layer with 0.33 variational (recurrent) dropout\n",
    "# x = tf.keras.layers.Bidirectional(tf.keras.layers.LSTM(LSTM_SIZE, return_sequences=True, recurrent_dropout=0.33))(x)\n",
    "# x = tf.keras.layers.Dropout(0.33)(x)\n",
    "\n",
    "x, attention_weights = SelfAttention(mlp_layers=0, return_attention=True)(x)\n",
    "\n",
    "x = tf.keras.layers.Dense(units=DENSE, activation='relu')(x)\n",
    "x = tf.keras.layers.Dropout(0.33)(x)\n",
    "\n",
    "outputs = tf.keras.layers.Dense(1, activation='sigmoid')(x)\n",
    "\n",
    "# Define the model\n",
    "stacked_bilstm_selfattn = tf.keras.Model(inputs=inputs, outputs=outputs)\n",
    "\n",
    "model_for_attention = tf.keras.Model(inputs=inputs, outputs=attention_weights)\n",
    "\n",
    "print(stacked_bilstm_selfattn.summary())\n",
    "\n",
    "\n",
    "stacked_bilstm_selfattn.compile(loss='binary_crossentropy',\n",
    "               optimizer=tf.keras.optimizers.Adam(learning_rate=0.0001),\n",
    "               metrics=[\"accuracy\"])\n",
    "\n",
    "early_stopping_callback = EarlyStopping(\n",
    "    monitor='val_loss',\n",
    "    patience=15,\n",
    "    restore_best_weights=True\n",
    ")\n",
    "\n",
    "# Callback to save the Keras model or model weights at some frequency.\n",
    "MLP_checkpoint = ModelCheckpoint(\n",
    "    'checkpoints/weights3',\n",
    "    monitor='val_loss',\n",
    "    mode='min',\n",
    "    verbose=2,\n",
    "    save_best_only=True,\n",
    "    save_weights_only=True,\n",
    "    save_format='tf'\n",
    ")\n",
    "\n",
    "\n",
    "history2 = stacked_bilstm_selfattn.fit(np.array(X_train), y_train,\n",
    "              validation_data=(np.array(X_dev), y_dev),\n",
    "              batch_size=256,\n",
    "              epochs=10,\n",
    "              shuffle=True,\n",
    "              callbacks=[Metrics(valid_data=(np.array(X_dev), y_dev))])"
   ]
  },
  {
   "cell_type": "markdown",
   "metadata": {
    "id": "2YPDOCDrQrDH"
   },
   "source": [
    "#### Build BiLSTM + Linear self-attention with functional API -- Training History"
   ]
  },
  {
   "cell_type": "code",
   "execution_count": 38,
   "metadata": {},
   "outputs": [
    {
     "data": {
      "image/png": "[encoded data removed]",
      "text/plain": [
       "<Figure size 640x480 with 1 Axes>"
      ]
     },
     "metadata": {},
     "output_type": "display_data"
    },
    {
     "data": {
      "image/png": "[encoded data removed]",
      "text/plain": [
       "<Figure size 640x480 with 1 Axes>"
      ]
     },
     "metadata": {},
     "output_type": "display_data"
    }
   ],
   "source": [
    "%matplotlib inline\n",
    "import matplotlib.pyplot as plt\n",
    "accuracy_loss_history(history2)"
   ]
  },
  {
   "cell_type": "markdown",
   "metadata": {},
   "source": [
    "#### Build BiLSTM + Linear self-attention with functional API -- Classification report\n"
   ]
  },
  {
   "cell_type": "code",
   "execution_count": 39,
   "metadata": {},
   "outputs": [
    {
     "name": "stdout",
     "output_type": "stream",
     "text": [
      "313/313 [==============================] - 200s 638ms/step\n",
      "              precision    recall  f1-score   support\n",
      "\n",
      "           0       0.84      0.85      0.85      4989\n",
      "           1       0.85      0.84      0.85      5011\n",
      "\n",
      "    accuracy                           0.85     10000\n",
      "   macro avg       0.85      0.85      0.85     10000\n",
      "weighted avg       0.85      0.85      0.85     10000\n",
      "\n"
     ]
    }
   ],
   "source": [
    "predictions = stacked_bilstm_selfattn.predict(np.array(X_dev))\n",
    "predictions = np.array([[1] if pred >= 0.5 else [0] for pred in predictions])\n",
    "print(classification_report(y_dev, predictions))"
   ]
  },
  {
   "cell_type": "markdown",
   "metadata": {},
   "source": [
    "### BiGRU + deep self-attention"
   ]
  },
  {
   "cell_type": "code",
   "execution_count": 40,
   "metadata": {},
   "outputs": [
    {
     "name": "stdout",
     "output_type": "stream",
     "text": [
      "Model: \"sequential_1\"\n",
      "_________________________________________________________________\n",
      " Layer (type)                Output Shape              Param #   \n",
      "=================================================================\n",
      " text_vectorization (TextVe  (None, 266)               0         \n",
      " ctorization)                                                    \n",
      "                                                                 \n",
      " embedding_1 (Embedding)     (None, 266, 300)          30000000  \n",
      "                                                                 \n",
      " dropout_4 (Dropout)         (None, 266, 300)          0         \n",
      "                                                                 \n",
      " bidirectional_2 (Bidirecti  (None, 266, 600)          1083600   \n",
      " onal)                                                           \n",
      "                                                                 \n",
      " self_attention_1 (SelfAtte  (None, 600)               721801    \n",
      " ntion)                                                          \n",
      "                                                                 \n",
      " dense_6 (Dense)             (None, 1000)              601000    \n",
      "                                                                 \n",
      " dropout_7 (Dropout)         (None, 1000)              0         \n",
      "                                                                 \n",
      " dense_7 (Dense)             (None, 1)                 1001      \n",
      "                                                                 \n",
      "=================================================================\n",
      "Total params: 32407402 (123.62 MB)\n",
      "Trainable params: 2407402 (9.18 MB)\n",
      "Non-trainable params: 30000000 (114.44 MB)\n",
      "_________________________________________________________________\n",
      "None\n",
      "Epoch 1/20\n",
      "313/313 [==============================] - 47s 144ms/step\n",
      " — val_f1: 0.332112 — val_precision: 0.248901 — val_recall: 0.498900\n",
      "118/118 [==============================] - 357s 3s/step - loss: 0.4253 - accuracy: 0.7985 - val_loss: 0.3403 - val_accuracy: 0.8509 - val_f1: 0.3321 - val_recall: 0.4989 - val_precision: 0.2489\n",
      "Epoch 2/20\n"
     ]
    },
    {
     "name": "stderr",
     "output_type": "stream",
     "text": [
      "c:\\Users\\drago\\anaconda3\\Lib\\site-packages\\sklearn\\metrics\\_classification.py:1469: UndefinedMetricWarning: Precision is ill-defined and being set to 0.0 in labels with no predicted samples. Use `zero_division` parameter to control this behavior.\n",
      "  _warn_prf(average, modifier, msg_start, len(result))\n"
     ]
    },
    {
     "name": "stdout",
     "output_type": "stream",
     "text": [
      "313/313 [==============================] - 44s 141ms/step\n",
      " — val_f1: 0.332112 — val_precision: 0.248901 — val_recall: 0.498900\n",
      "118/118 [==============================] - 345s 3s/step - loss: 0.3249 - accuracy: 0.8623 - val_loss: 0.2973 - val_accuracy: 0.8753 - val_f1: 0.3321 - val_recall: 0.4989 - val_precision: 0.2489\n",
      "Epoch 3/20\n"
     ]
    },
    {
     "name": "stderr",
     "output_type": "stream",
     "text": [
      "c:\\Users\\drago\\anaconda3\\Lib\\site-packages\\sklearn\\metrics\\_classification.py:1469: UndefinedMetricWarning: Precision is ill-defined and being set to 0.0 in labels with no predicted samples. Use `zero_division` parameter to control this behavior.\n",
      "  _warn_prf(average, modifier, msg_start, len(result))\n"
     ]
    },
    {
     "name": "stdout",
     "output_type": "stream",
     "text": [
      "313/313 [==============================] - 44s 141ms/step\n",
      " — val_f1: 0.332112 — val_precision: 0.248901 — val_recall: 0.498900\n",
      "118/118 [==============================] - 344s 3s/step - loss: 0.3095 - accuracy: 0.8707 - val_loss: 0.3049 - val_accuracy: 0.8673 - val_f1: 0.3321 - val_recall: 0.4989 - val_precision: 0.2489\n",
      "Epoch 4/20\n"
     ]
    },
    {
     "name": "stderr",
     "output_type": "stream",
     "text": [
      "c:\\Users\\drago\\anaconda3\\Lib\\site-packages\\sklearn\\metrics\\_classification.py:1469: UndefinedMetricWarning: Precision is ill-defined and being set to 0.0 in labels with no predicted samples. Use `zero_division` parameter to control this behavior.\n",
      "  _warn_prf(average, modifier, msg_start, len(result))\n"
     ]
    },
    {
     "name": "stdout",
     "output_type": "stream",
     "text": [
      "313/313 [==============================] - 44s 142ms/step\n",
      " — val_f1: 0.332112 — val_precision: 0.248901 — val_recall: 0.498900\n",
      "118/118 [==============================] - 345s 3s/step - loss: 0.2915 - accuracy: 0.8801 - val_loss: 0.2685 - val_accuracy: 0.8853 - val_f1: 0.3321 - val_recall: 0.4989 - val_precision: 0.2489\n",
      "Epoch 5/20\n"
     ]
    },
    {
     "name": "stderr",
     "output_type": "stream",
     "text": [
      "c:\\Users\\drago\\anaconda3\\Lib\\site-packages\\sklearn\\metrics\\_classification.py:1469: UndefinedMetricWarning: Precision is ill-defined and being set to 0.0 in labels with no predicted samples. Use `zero_division` parameter to control this behavior.\n",
      "  _warn_prf(average, modifier, msg_start, len(result))\n"
     ]
    },
    {
     "name": "stdout",
     "output_type": "stream",
     "text": [
      "313/313 [==============================] - 50s 160ms/step\n",
      " — val_f1: 0.332112 — val_precision: 0.248901 — val_recall: 0.498900\n",
      "118/118 [==============================] - 351s 3s/step - loss: 0.2845 - accuracy: 0.8822 - val_loss: 0.2660 - val_accuracy: 0.8895 - val_f1: 0.3321 - val_recall: 0.4989 - val_precision: 0.2489\n",
      "Epoch 6/20\n"
     ]
    },
    {
     "name": "stderr",
     "output_type": "stream",
     "text": [
      "c:\\Users\\drago\\anaconda3\\Lib\\site-packages\\sklearn\\metrics\\_classification.py:1469: UndefinedMetricWarning: Precision is ill-defined and being set to 0.0 in labels with no predicted samples. Use `zero_division` parameter to control this behavior.\n",
      "  _warn_prf(average, modifier, msg_start, len(result))\n"
     ]
    },
    {
     "name": "stdout",
     "output_type": "stream",
     "text": [
      "313/313 [==============================] - 60s 192ms/step\n",
      " — val_f1: 0.332112 — val_precision: 0.248901 — val_recall: 0.498900\n",
      "118/118 [==============================] - 361s 3s/step - loss: 0.2726 - accuracy: 0.8873 - val_loss: 0.2622 - val_accuracy: 0.8931 - val_f1: 0.3321 - val_recall: 0.4989 - val_precision: 0.2489\n",
      "Epoch 7/20\n"
     ]
    },
    {
     "name": "stderr",
     "output_type": "stream",
     "text": [
      "c:\\Users\\drago\\anaconda3\\Lib\\site-packages\\sklearn\\metrics\\_classification.py:1469: UndefinedMetricWarning: Precision is ill-defined and being set to 0.0 in labels with no predicted samples. Use `zero_division` parameter to control this behavior.\n",
      "  _warn_prf(average, modifier, msg_start, len(result))\n"
     ]
    },
    {
     "name": "stdout",
     "output_type": "stream",
     "text": [
      "313/313 [==============================] - 84s 268ms/step\n",
      " — val_f1: 0.332112 — val_precision: 0.248901 — val_recall: 0.498900\n",
      "118/118 [==============================] - 387s 3s/step - loss: 0.2662 - accuracy: 0.8898 - val_loss: 0.2564 - val_accuracy: 0.8961 - val_f1: 0.3321 - val_recall: 0.4989 - val_precision: 0.2489\n",
      "Epoch 8/20\n"
     ]
    },
    {
     "name": "stderr",
     "output_type": "stream",
     "text": [
      "c:\\Users\\drago\\anaconda3\\Lib\\site-packages\\sklearn\\metrics\\_classification.py:1469: UndefinedMetricWarning: Precision is ill-defined and being set to 0.0 in labels with no predicted samples. Use `zero_division` parameter to control this behavior.\n",
      "  _warn_prf(average, modifier, msg_start, len(result))\n"
     ]
    },
    {
     "name": "stdout",
     "output_type": "stream",
     "text": [
      "313/313 [==============================] - 82s 263ms/step\n",
      " — val_f1: 0.332112 — val_precision: 0.248901 — val_recall: 0.498900\n",
      "118/118 [==============================] - 386s 3s/step - loss: 0.2580 - accuracy: 0.8941 - val_loss: 0.2569 - val_accuracy: 0.8942 - val_f1: 0.3321 - val_recall: 0.4989 - val_precision: 0.2489\n",
      "Epoch 9/20\n"
     ]
    },
    {
     "name": "stderr",
     "output_type": "stream",
     "text": [
      "c:\\Users\\drago\\anaconda3\\Lib\\site-packages\\sklearn\\metrics\\_classification.py:1469: UndefinedMetricWarning: Precision is ill-defined and being set to 0.0 in labels with no predicted samples. Use `zero_division` parameter to control this behavior.\n",
      "  _warn_prf(average, modifier, msg_start, len(result))\n"
     ]
    },
    {
     "name": "stdout",
     "output_type": "stream",
     "text": [
      "313/313 [==============================] - 82s 262ms/step\n",
      " — val_f1: 0.332112 — val_precision: 0.248901 — val_recall: 0.498900\n",
      "118/118 [==============================] - 386s 3s/step - loss: 0.2531 - accuracy: 0.8969 - val_loss: 0.2594 - val_accuracy: 0.8931 - val_f1: 0.3321 - val_recall: 0.4989 - val_precision: 0.2489\n",
      "Epoch 10/20\n"
     ]
    },
    {
     "name": "stderr",
     "output_type": "stream",
     "text": [
      "c:\\Users\\drago\\anaconda3\\Lib\\site-packages\\sklearn\\metrics\\_classification.py:1469: UndefinedMetricWarning: Precision is ill-defined and being set to 0.0 in labels with no predicted samples. Use `zero_division` parameter to control this behavior.\n",
      "  _warn_prf(average, modifier, msg_start, len(result))\n"
     ]
    },
    {
     "name": "stdout",
     "output_type": "stream",
     "text": [
      "313/313 [==============================] - 82s 264ms/step\n",
      " — val_f1: 0.332112 — val_precision: 0.248901 — val_recall: 0.498900\n",
      "118/118 [==============================] - 386s 3s/step - loss: 0.2438 - accuracy: 0.8983 - val_loss: 0.2488 - val_accuracy: 0.8987 - val_f1: 0.3321 - val_recall: 0.4989 - val_precision: 0.2489\n",
      "Epoch 11/20\n"
     ]
    },
    {
     "name": "stderr",
     "output_type": "stream",
     "text": [
      "c:\\Users\\drago\\anaconda3\\Lib\\site-packages\\sklearn\\metrics\\_classification.py:1469: UndefinedMetricWarning: Precision is ill-defined and being set to 0.0 in labels with no predicted samples. Use `zero_division` parameter to control this behavior.\n",
      "  _warn_prf(average, modifier, msg_start, len(result))\n"
     ]
    },
    {
     "name": "stdout",
     "output_type": "stream",
     "text": [
      "313/313 [==============================] - 84s 269ms/step\n",
      " — val_f1: 0.332112 — val_precision: 0.248901 — val_recall: 0.498900\n",
      "118/118 [==============================] - 389s 3s/step - loss: 0.2411 - accuracy: 0.8992 - val_loss: 0.2456 - val_accuracy: 0.9011 - val_f1: 0.3321 - val_recall: 0.4989 - val_precision: 0.2489\n",
      "Epoch 12/20\n"
     ]
    },
    {
     "name": "stderr",
     "output_type": "stream",
     "text": [
      "c:\\Users\\drago\\anaconda3\\Lib\\site-packages\\sklearn\\metrics\\_classification.py:1469: UndefinedMetricWarning: Precision is ill-defined and being set to 0.0 in labels with no predicted samples. Use `zero_division` parameter to control this behavior.\n",
      "  _warn_prf(average, modifier, msg_start, len(result))\n"
     ]
    },
    {
     "name": "stdout",
     "output_type": "stream",
     "text": [
      "313/313 [==============================] - 65s 207ms/step\n",
      " — val_f1: 0.332112 — val_precision: 0.248901 — val_recall: 0.498900\n",
      "118/118 [==============================] - 369s 3s/step - loss: 0.2329 - accuracy: 0.9054 - val_loss: 0.2493 - val_accuracy: 0.9018 - val_f1: 0.3321 - val_recall: 0.4989 - val_precision: 0.2489\n",
      "Epoch 13/20\n"
     ]
    },
    {
     "name": "stderr",
     "output_type": "stream",
     "text": [
      "c:\\Users\\drago\\anaconda3\\Lib\\site-packages\\sklearn\\metrics\\_classification.py:1469: UndefinedMetricWarning: Precision is ill-defined and being set to 0.0 in labels with no predicted samples. Use `zero_division` parameter to control this behavior.\n",
      "  _warn_prf(average, modifier, msg_start, len(result))\n"
     ]
    },
    {
     "name": "stdout",
     "output_type": "stream",
     "text": [
      "313/313 [==============================] - 70s 225ms/step\n",
      " — val_f1: 0.332112 — val_precision: 0.248901 — val_recall: 0.498900\n",
      "118/118 [==============================] - 373s 3s/step - loss: 0.2212 - accuracy: 0.9100 - val_loss: 0.2531 - val_accuracy: 0.8987 - val_f1: 0.3321 - val_recall: 0.4989 - val_precision: 0.2489\n",
      "Epoch 14/20\n"
     ]
    },
    {
     "name": "stderr",
     "output_type": "stream",
     "text": [
      "c:\\Users\\drago\\anaconda3\\Lib\\site-packages\\sklearn\\metrics\\_classification.py:1469: UndefinedMetricWarning: Precision is ill-defined and being set to 0.0 in labels with no predicted samples. Use `zero_division` parameter to control this behavior.\n",
      "  _warn_prf(average, modifier, msg_start, len(result))\n"
     ]
    },
    {
     "name": "stdout",
     "output_type": "stream",
     "text": [
      "313/313 [==============================] - 70s 225ms/step\n",
      " — val_f1: 0.332112 — val_precision: 0.248901 — val_recall: 0.498900\n",
      "118/118 [==============================] - 373s 3s/step - loss: 0.2165 - accuracy: 0.9129 - val_loss: 0.2534 - val_accuracy: 0.9015 - val_f1: 0.3321 - val_recall: 0.4989 - val_precision: 0.2489\n",
      "Epoch 15/20\n"
     ]
    },
    {
     "name": "stderr",
     "output_type": "stream",
     "text": [
      "c:\\Users\\drago\\anaconda3\\Lib\\site-packages\\sklearn\\metrics\\_classification.py:1469: UndefinedMetricWarning: Precision is ill-defined and being set to 0.0 in labels with no predicted samples. Use `zero_division` parameter to control this behavior.\n",
      "  _warn_prf(average, modifier, msg_start, len(result))\n"
     ]
    },
    {
     "name": "stdout",
     "output_type": "stream",
     "text": [
      "313/313 [==============================] - 52s 166ms/step\n",
      " — val_f1: 0.332112 — val_precision: 0.248901 — val_recall: 0.498900\n",
      "118/118 [==============================] - 355s 3s/step - loss: 0.2033 - accuracy: 0.9179 - val_loss: 0.2458 - val_accuracy: 0.9017 - val_f1: 0.3321 - val_recall: 0.4989 - val_precision: 0.2489\n",
      "Epoch 16/20\n"
     ]
    },
    {
     "name": "stderr",
     "output_type": "stream",
     "text": [
      "c:\\Users\\drago\\anaconda3\\Lib\\site-packages\\sklearn\\metrics\\_classification.py:1469: UndefinedMetricWarning: Precision is ill-defined and being set to 0.0 in labels with no predicted samples. Use `zero_division` parameter to control this behavior.\n",
      "  _warn_prf(average, modifier, msg_start, len(result))\n"
     ]
    },
    {
     "name": "stdout",
     "output_type": "stream",
     "text": [
      "313/313 [==============================] - 51s 163ms/step\n",
      " — val_f1: 0.332112 — val_precision: 0.248901 — val_recall: 0.498900\n",
      "118/118 [==============================] - 352s 3s/step - loss: 0.1987 - accuracy: 0.9213 - val_loss: 0.2492 - val_accuracy: 0.9003 - val_f1: 0.3321 - val_recall: 0.4989 - val_precision: 0.2489\n",
      "Epoch 17/20\n"
     ]
    },
    {
     "name": "stderr",
     "output_type": "stream",
     "text": [
      "c:\\Users\\drago\\anaconda3\\Lib\\site-packages\\sklearn\\metrics\\_classification.py:1469: UndefinedMetricWarning: Precision is ill-defined and being set to 0.0 in labels with no predicted samples. Use `zero_division` parameter to control this behavior.\n",
      "  _warn_prf(average, modifier, msg_start, len(result))\n"
     ]
    },
    {
     "name": "stdout",
     "output_type": "stream",
     "text": [
      "313/313 [==============================] - 45s 143ms/step\n",
      " — val_f1: 0.332112 — val_precision: 0.248901 — val_recall: 0.498900\n",
      "118/118 [==============================] - 345s 3s/step - loss: 0.1954 - accuracy: 0.9216 - val_loss: 0.2520 - val_accuracy: 0.9019 - val_f1: 0.3321 - val_recall: 0.4989 - val_precision: 0.2489\n",
      "Epoch 18/20\n"
     ]
    },
    {
     "name": "stderr",
     "output_type": "stream",
     "text": [
      "c:\\Users\\drago\\anaconda3\\Lib\\site-packages\\sklearn\\metrics\\_classification.py:1469: UndefinedMetricWarning: Precision is ill-defined and being set to 0.0 in labels with no predicted samples. Use `zero_division` parameter to control this behavior.\n",
      "  _warn_prf(average, modifier, msg_start, len(result))\n"
     ]
    },
    {
     "name": "stdout",
     "output_type": "stream",
     "text": [
      "313/313 [==============================] - 45s 144ms/step\n",
      " — val_f1: 0.332112 — val_precision: 0.248901 — val_recall: 0.498900\n",
      "118/118 [==============================] - 346s 3s/step - loss: 0.1871 - accuracy: 0.9245 - val_loss: 0.2515 - val_accuracy: 0.9058 - val_f1: 0.3321 - val_recall: 0.4989 - val_precision: 0.2489\n",
      "Epoch 19/20\n"
     ]
    },
    {
     "name": "stderr",
     "output_type": "stream",
     "text": [
      "c:\\Users\\drago\\anaconda3\\Lib\\site-packages\\sklearn\\metrics\\_classification.py:1469: UndefinedMetricWarning: Precision is ill-defined and being set to 0.0 in labels with no predicted samples. Use `zero_division` parameter to control this behavior.\n",
      "  _warn_prf(average, modifier, msg_start, len(result))\n"
     ]
    },
    {
     "name": "stdout",
     "output_type": "stream",
     "text": [
      "313/313 [==============================] - 56s 178ms/step\n",
      " — val_f1: 0.332112 — val_precision: 0.248901 — val_recall: 0.498900\n",
      "118/118 [==============================] - 356s 3s/step - loss: 0.1797 - accuracy: 0.9269 - val_loss: 0.2477 - val_accuracy: 0.9068 - val_f1: 0.3321 - val_recall: 0.4989 - val_precision: 0.2489\n",
      "Epoch 20/20\n"
     ]
    },
    {
     "name": "stderr",
     "output_type": "stream",
     "text": [
      "c:\\Users\\drago\\anaconda3\\Lib\\site-packages\\sklearn\\metrics\\_classification.py:1469: UndefinedMetricWarning: Precision is ill-defined and being set to 0.0 in labels with no predicted samples. Use `zero_division` parameter to control this behavior.\n",
      "  _warn_prf(average, modifier, msg_start, len(result))\n"
     ]
    },
    {
     "name": "stdout",
     "output_type": "stream",
     "text": [
      "313/313 [==============================] - 56s 179ms/step\n",
      " — val_f1: 0.332112 — val_precision: 0.248901 — val_recall: 0.498900\n",
      "118/118 [==============================] - 357s 3s/step - loss: 0.1726 - accuracy: 0.9311 - val_loss: 0.2441 - val_accuracy: 0.9055 - val_f1: 0.3321 - val_recall: 0.4989 - val_precision: 0.2489\n"
     ]
    },
    {
     "name": "stderr",
     "output_type": "stream",
     "text": [
      "c:\\Users\\drago\\anaconda3\\Lib\\site-packages\\sklearn\\metrics\\_classification.py:1469: UndefinedMetricWarning: Precision is ill-defined and being set to 0.0 in labels with no predicted samples. Use `zero_division` parameter to control this behavior.\n",
      "  _warn_prf(average, modifier, msg_start, len(result))\n"
     ]
    }
   ],
   "source": [
    "GRU_SIZE = 300\n",
    "DENSE = 1000\n",
    "\n",
    "# create empty sequential model\n",
    "biGRU_deep_selfatt = tf.keras.Sequential()\n",
    "biGRU_deep_selfatt.add(tf.keras.layers.Input(shape=(1,), dtype=tf.string))\n",
    "biGRU_deep_selfatt.add(vectorizer)\n",
    "# add an embedding layer\n",
    "biGRU_deep_selfatt.add(tf.keras.layers.Embedding(MAX_WORDS, EMBEDDING_DIM, weights=[embedding_matrix],\n",
    "                    input_length=MAX_SEQUENCE_LENGTH, mask_zero=True, trainable=False))\n",
    "\n",
    "# Use 0.33 dropout probabillity\n",
    "biGRU_deep_selfatt.add(tf.keras.layers.Dropout(0.33))\n",
    "# add a bidirectional gru layer\n",
    "biGRU_deep_selfatt.add(tf.keras.layers.Bidirectional(tf.keras.layers.GRU(GRU_SIZE, return_sequences=True)))\n",
    "\n",
    "# Add a self-attention MLP (2 hidden layers)\n",
    "biGRU_deep_selfatt.add(SelfAttention(mlp_layers=2, units=GRU_SIZE*2, dropout_rate=0.33 ))\n",
    "\n",
    "\n",
    "# add an MLP output layer\n",
    "biGRU_deep_selfatt.add(tf.keras.layers.Dense(units=DENSE, activation='relu' ))\n",
    "biGRU_deep_selfatt.add(tf.keras.layers.Dropout(0.33))\n",
    "biGRU_deep_selfatt.add(tf.keras.layers.Dense(1, activation='sigmoid'))\n",
    "print(biGRU_deep_selfatt.summary())\n",
    "\n",
    "biGRU_deep_selfatt.compile(loss='binary_crossentropy',\n",
    "               optimizer=tf.keras.optimizers.Adam(learning_rate=0.001),\n",
    "               metrics=[\"accuracy\"])\n",
    "\n",
    "\n",
    "early_stopping_callback = EarlyStopping(\n",
    "    monitor='val_loss',\n",
    "    patience=15,\n",
    "    restore_best_weights=True\n",
    ")\n",
    "\n",
    "# Callback to save the Keras model or model weights at some frequency.\n",
    "MLP_checkpoint = ModelCheckpoint(\n",
    "    'checkpoints/weights3',\n",
    "    monitor='val_loss',\n",
    "    mode='min',\n",
    "    verbose=2,\n",
    "    save_best_only=True,\n",
    "    save_weights_only=True,\n",
    "    save_format='tf'\n",
    ")\n",
    "\n",
    "\n",
    "history3 = biGRU_deep_selfatt.fit(np.array(X_train), y_train,\n",
    "              validation_data=(np.array(X_dev), y_dev),\n",
    "              batch_size=256,\n",
    "              epochs=20,\n",
    "              shuffle=True,\n",
    "              callbacks=[Metrics(valid_data=(np.array(X_dev), y_dev))])"
   ]
  },
  {
   "cell_type": "markdown",
   "metadata": {},
   "source": [
    "#### BiGRU + deep self-attention -- Training History"
   ]
  },
  {
   "cell_type": "code",
   "execution_count": 41,
   "metadata": {},
   "outputs": [
    {
     "data": {
      "image/png": "[encoded data removed]",
      "text/plain": [
       "<Figure size 640x480 with 1 Axes>"
      ]
     },
     "metadata": {},
     "output_type": "display_data"
    },
    {
     "data": {
      "image/png": "[encoded data removed]",
      "text/plain": [
       "<Figure size 640x480 with 1 Axes>"
      ]
     },
     "metadata": {},
     "output_type": "display_data"
    }
   ],
   "source": [
    "%matplotlib inline\n",
    "import matplotlib.pyplot as plt\n",
    "accuracy_loss_history(history3)"
   ]
  },
  {
   "cell_type": "markdown",
   "metadata": {},
   "source": [
    "#### BiGRU + deep self-attention -- Classification Report"
   ]
  },
  {
   "cell_type": "code",
   "execution_count": 42,
   "metadata": {},
   "outputs": [
    {
     "name": "stdout",
     "output_type": "stream",
     "text": [
      "313/313 [==============================] - 58s 184ms/step\n",
      "              precision    recall  f1-score   support\n",
      "\n",
      "           0       0.91      0.90      0.90      4989\n",
      "           1       0.90      0.91      0.91      5011\n",
      "\n",
      "    accuracy                           0.91     10000\n",
      "   macro avg       0.91      0.91      0.91     10000\n",
      "weighted avg       0.91      0.91      0.91     10000\n",
      "\n"
     ]
    }
   ],
   "source": [
    "predictions = biGRU_deep_selfatt.predict(np.array(X_dev))\n",
    "predictions = np.array([[1] if pred >= 0.5 else [0] for pred in predictions])\n",
    "\n",
    "print(classification_report(y_dev, predictions))"
   ]
  },
  {
   "cell_type": "markdown",
   "metadata": {},
   "source": [
    "# Results\n",
    "* We will calculate precision, recall, F1, PR-auc scores first for each class and then macro average."
   ]
  },
  {
   "cell_type": "code",
   "execution_count": 45,
   "metadata": {},
   "outputs": [
    {
     "name": "stdout",
     "output_type": "stream",
     "text": [
      "313/313 [==============================] - 0s 1ms/step\n",
      "313/313 [==============================] - 59s 189ms/step\n",
      "313/313 [==============================] - 145s 462ms/step\n"
     ]
    },
    {
     "data": {
      "text/plain": [
       "<matplotlib.legend.Legend at 0x1e6681cc650>"
      ]
     },
     "execution_count": 45,
     "metadata": {},
     "output_type": "execute_result"
    },
    {
     "data": {
      "image/png": "[encoded data removed]",
      "text/plain": [
       "<Figure size 640x480 with 1 Axes>"
      ]
     },
     "metadata": {},
     "output_type": "display_data"
    }
   ],
   "source": [
    "# Calculate model predictions (Multi Layer Perceptron Baseline-2)\n",
    "y_pred = mlp.predict(X_test_svd)\n",
    "precision, recall, thresholds = precision_recall_curve(y_test, y_pred)\n",
    "\n",
    "# Compute PR AUC\n",
    "pr_auc = auc(recall, precision)\n",
    "\n",
    "# Plot the PR curve for our model\n",
    "plt.figure()\n",
    "plt.plot(recall, precision, label='PR AUC MLP = %0.2f' % pr_auc)\n",
    "plt.xlabel('Recall')\n",
    "plt.ylabel('Precision')\n",
    "plt.title('Precision-Recall Curve')\n",
    "plt.legend(loc='lower left')\n",
    "\n",
    "\n",
    "# Predict probabilities (Logistic Regression Baseline-1)\n",
    "probs = clf.predict_proba(X_test_svd)[:, 1]\n",
    "\n",
    "# Calculate precision and recall\n",
    "precision, recall, thresholds = precision_recall_curve(y_test, probs)\n",
    "\n",
    "# Calculate area under the curve (AUC) for PR curve\n",
    "pr_auc = auc(recall, precision)\n",
    "\n",
    "# Plot PR curve for baseline model\n",
    "plt.plot(recall, precision, label=f'PR AUC LogisticRegression = {pr_auc:.2f}')\n",
    "plt.xlabel('Recall')\n",
    "plt.ylabel('Precision')\n",
    "plt.title('Precision-Recall Curve')\n",
    "plt.legend(loc='lower left')\n",
    "plt.grid(True)\n",
    "\n",
    "\n",
    "\n",
    "# Predict probabilities of X_test using BiDirectional GRU + deep Self attention\n",
    "y_pred = biGRU_deep_selfatt.predict(np.array(X_test))\n",
    "precision, recall, thresholds = precision_recall_curve(y_test, y_pred)\n",
    "\n",
    "# Compute PR AUC\n",
    "pr_auc = auc(recall, precision)\n",
    "\n",
    "# Plot the PR curve for our model\n",
    "plt.plot(recall, precision, label='PR AUC BiGRU RNN = %0.2f' % pr_auc)\n",
    "plt.xlabel('Recall')\n",
    "plt.ylabel('Precision')\n",
    "plt.title('Precision-Recall Curve')\n",
    "plt.legend(loc='lower left')\n",
    "\n",
    "\n",
    "\n",
    "# Predict probabilities of X_test using BiDirectional LSTM + linear Self attention\n",
    "y_pred = stacked_bilstm_selfattn.predict(np.array(X_test))\n",
    "precision, recall, thresholds = precision_recall_curve(y_test, y_pred)\n",
    "\n",
    "# Compute PR AUC\n",
    "pr_auc = auc(recall, precision)\n",
    "\n",
    "# Plot the PR curve for our model\n",
    "plt.plot(recall, precision, label='PR AUC BiLSTM RNN  = %0.2f' % pr_auc)\n",
    "plt.xlabel('Recall')\n",
    "plt.ylabel('Precision')\n",
    "plt.title('Precision-Recall Curve')\n",
    "plt.legend(loc='lower left')\n",
    "\n",
    "\n"
   ]
  },
  {
   "cell_type": "markdown",
   "metadata": {},
   "source": [
    "## Sum up Classification Reports + AUC Scores"
   ]
  },
  {
   "cell_type": "code",
   "execution_count": 48,
   "metadata": {},
   "outputs": [
    {
     "name": "stdout",
     "output_type": "stream",
     "text": [
      "938/938 [==============================] - 806s 859ms/step\n",
      "313/313 [==============================] - 269s 860ms/step\n",
      "313/313 [==============================] - 268s 857ms/step\n",
      "938/938 [==============================] - 1816s 2s/step\n",
      "313/313 [==============================] - 499s 2s/step\n",
      "313/313 [==============================] - 525s 2s/step\n"
     ]
    }
   ],
   "source": [
    "import numpy as np\n",
    "import pandas as pd\n",
    "from sklearn.metrics import precision_score, recall_score, f1_score, auc, precision_recall_curve, roc_auc_score\n",
    "\n",
    "# Calculate predictions for clf\n",
    "train_preds_clf = clf.predict_proba(X_train_svd)\n",
    "train_preds_bin_clf = clf.predict(X_train_svd)\n",
    "\n",
    "dev_preds_clf = clf.predict_proba(X_dev_svd)\n",
    "dev_preds_bin_clf = clf.predict(X_dev_svd)\n",
    "\n",
    "test_preds_clf = clf.predict_proba(X_test_svd)\n",
    "test_preds_bin_clf = clf.predict(X_test_svd)\n",
    "\n",
    "\n",
    "\n",
    "\n",
    "# Calculate predictions for BiGRU with deep self attention \n",
    "# predict train data\n",
    "train_preds_biGRU = biGRU_deep_selfatt.predict(np.array(X_train))\n",
    "train_preds_bin_biGRU = np.array([[1] if pred >= 0.5 else [0] for pred in train_preds_biGRU])\n",
    "\n",
    "# predict dev data\n",
    "dev_preds_biGRU = biGRU_deep_selfatt.predict(np.array(X_dev))\n",
    "dev_preds_bin_biGRU = np.array([[1] if pred >= 0.5 else [0] for pred in dev_preds_biGRU])\n",
    "\n",
    "# predict test data\n",
    "test_preds_biGRU = biGRU_deep_selfatt.predict(np.array(X_test))\n",
    "test_preds_bin_biGRU = np.array([[1] if pred >= 0.5 else [0] for pred in test_preds_biGRU])\n",
    "\n",
    "\n",
    "\n",
    "# Calculate predictions for BiLSTM with linear self attention \n",
    "# predict train data\n",
    "train_preds_biLSTM = stacked_bilstm_selfattn.predict(np.array(X_train))\n",
    "train_preds_bin_biLSTM = np.array([[1] if pred >= 0.5 else [0] for pred in train_preds_biLSTM])\n",
    "\n",
    "# predict dev data\n",
    "dev_preds_biLSTM = stacked_bilstm_selfattn.predict(np.array(X_dev))\n",
    "dev_preds_bin_biLSTM = np.array([[1] if pred >= 0.5 else [0] for pred in dev_preds_biLSTM])\n",
    "\n",
    "# predict test data\n",
    "test_preds_biLSTM = stacked_bilstm_selfattn.predict(np.array(X_test))\n",
    "test_preds_bin_biLSTM = np.array([[1] if pred >= 0.5 else [0] for pred in test_preds_biLSTM])\n",
    "\n"
   ]
  },
  {
   "cell_type": "code",
   "execution_count": 50,
   "metadata": {},
   "outputs": [
    {
     "name": "stdout",
     "output_type": "stream",
     "text": [
      "938/938 [==============================] - 2s 2ms/step\n",
      "313/313 [==============================] - 0s 2ms/step\n",
      "313/313 [==============================] - 1s 2ms/step\n"
     ]
    }
   ],
   "source": [
    "# Calculate predictions for MLP\n",
    "# predict train data\n",
    "train_preds_mlp = mlp.predict(X_train_svd)\n",
    "train_preds_bin_mlp = np.array([[1] if pred >= 0.5 else [0] for pred in train_preds_mlp])\n",
    "\n",
    "# predict dev data\n",
    "dev_preds_mlp = mlp.predict(X_dev_svd)\n",
    "dev_preds_bin_mlp = np.array([[1] if pred >= 0.5 else [0] for pred in dev_preds_mlp])\n",
    "\n",
    "# predict test data\n",
    "test_preds_mlp = mlp.predict(X_test_svd)\n",
    "test_preds_bin_mlp = np.array([[1] if pred >= 0.5 else [0] for pred in test_preds_mlp])\n"
   ]
  },
  {
   "cell_type": "code",
   "execution_count": 54,
   "metadata": {},
   "outputs": [
    {
     "name": "stdout",
     "output_type": "stream",
     "text": [
      "Training Class Metrics:\n",
      "+----+--------------+---------------------+---------------------+------------------+------------------+--------------------+--------------------+------------------+------------------+\n",
      "|    | Classifier   |   Class 0 Precision |   Class 1 Precision |   Class 0 Recall |   Class 1 Recall |   Class 0 F1-score |   Class 1 F1-score |   PR AUC Class 0 |   PR AUC Class 1 |\n",
      "|----+--------------+---------------------+---------------------+------------------+------------------+--------------------+--------------------+------------------+------------------|\n",
      "|  0 | LR           |            0.900292 |            0.88501  |         0.882702 |         0.902293 |           0.89141  |           0.893568 |         0.960301 |         0.958453 |\n",
      "|  1 | MLP          |            0.927662 |            0.95137  |         0.952654 |         0.925753 |           0.939992 |           0.938387 |         0.985251 |         0.985183 |\n",
      "|  2 | biLSTM       |            0.854084 |            0.85834  |         0.859096 |         0.853306 |           0.856582 |           0.855816 |         0.930612 |         0.930473 |\n",
      "|  3 | biGRU        |            0.965716 |            0.960119 |         0.959856 |         0.965942 |           0.962777 |           0.963022 |         0.993474 |         0.993177 |\n",
      "+----+--------------+---------------------+---------------------+------------------+------------------+--------------------+--------------------+------------------+------------------+\n",
      "\n",
      "Development Class Metrics:\n",
      "+----+--------------+---------------------+---------------------+------------------+------------------+--------------------+--------------------+------------------+------------------+\n",
      "|    | Classifier   |   Class 0 Precision |   Class 1 Precision |   Class 0 Recall |   Class 1 Recall |   Class 0 F1-score |   Class 1 F1-score |   PR AUC Class 0 |   PR AUC Class 1 |\n",
      "|----+--------------+---------------------+---------------------+------------------+------------------+--------------------+--------------------+------------------+------------------|\n",
      "|  0 | LR           |            0.894294 |            0.876755 |         0.873321 |         0.897226 |           0.883683 |           0.886872 |         0.956421 |         0.953649 |\n",
      "|  1 | MLP          |            0.875461 |            0.901754 |         0.90459  |         0.871882 |           0.889787 |           0.886567 |         0.960365 |         0.958003 |\n",
      "|  2 | biLSTM       |            0.844035 |            0.852644 |         0.853678 |         0.842946 |           0.848829 |           0.847767 |         0.927129 |         0.927519 |\n",
      "|  3 | biGRU        |            0.912316 |            0.89894  |         0.896773 |         0.914189 |           0.904478 |           0.9065   |         0.964238 |         0.963894 |\n",
      "+----+--------------+---------------------+---------------------+------------------+------------------+--------------------+--------------------+------------------+------------------+\n",
      "\n",
      "Test Class Metrics:\n",
      "+----+--------------+---------------------+---------------------+------------------+------------------+--------------------+--------------------+------------------+------------------+\n",
      "|    | Classifier   |   Class 0 Precision |   Class 1 Precision |   Class 0 Recall |   Class 1 Recall |   Class 0 F1-score |   Class 1 F1-score |   PR AUC Class 0 |   PR AUC Class 1 |\n",
      "|----+--------------+---------------------+---------------------+------------------+------------------+--------------------+--------------------+------------------+------------------|\n",
      "|  0 | LR           |            0.889502 |            0.878918 |         0.875729 |         0.892381 |           0.882562 |           0.885599 |         0.956121 |         0.952135 |\n",
      "|  1 | MLP          |            0.870918 |            0.908427 |         0.911723 |         0.866322 |           0.890854 |           0.886875 |         0.959874 |         0.955242 |\n",
      "|  2 | biLSTM       |            0.840669 |            0.848966 |         0.848783 |         0.840859 |           0.844707 |           0.844893 |         0.924497 |         0.922107 |\n",
      "|  3 | biGRU        |            0.905756 |            0.900513 |         0.9075   |         0.9075   |           0.844893 |           0.844893 |         0.924497 |         0.924497 |\n",
      "+----+--------------+---------------------+---------------------+------------------+------------------+--------------------+--------------------+------------------+------------------+\n"
     ]
    }
   ],
   "source": [
    "from operator import pos\n",
    "from sklearn.metrics import precision_recall_curve, average_precision_score\n",
    "\n",
    "# Define a function to calculate metrics for each class including PR-AUC for MLP\n",
    "def calculate_class_metrics_model(y_true, y_pred, y_probs):\n",
    "    report = classification_report(y_true, y_pred, output_dict=True)\n",
    "    # For class 1\n",
    "    class_0_metrics = report['0']\n",
    "    # For class 2\n",
    "    class_1_metrics = report['1']\n",
    "\n",
    "    # Calculate PR-AUC for each class\n",
    "    precision, recall, _ = precision_recall_curve(y_true, y_probs, pos_label=1)\n",
    "    pr_auc_class_1 = auc(recall, precision)\n",
    "\n",
    "    # Its binary problem so 1-probability is the probability for class 0\n",
    "    y_probs = 1-y_probs\n",
    "    precision, recall, _ = precision_recall_curve(y_true, y_probs, pos_label=0)\n",
    "    pr_auc_class_0 = auc(recall, precision)\n",
    "\n",
    "    return class_0_metrics, class_1_metrics, pr_auc_class_0, pr_auc_class_1\n",
    "\n",
    "# Define a function to calculate metrics for each class including PR-AUC for Logistic\n",
    "def calculate_class_metrics_clf(y_true, y_pred, y_probs):\n",
    "    report = classification_report(y_true, y_pred, output_dict=True)\n",
    "    class_0_metrics = report['0']\n",
    "    class_1_metrics = report['1']\n",
    "\n",
    "    # Calculate PR-AUC for each class\n",
    "    precision, recall, _ = precision_recall_curve(y_true, y_probs[:, 1],pos_label=1)\n",
    "    pr_auc_class_1 = auc(recall, precision)\n",
    "\n",
    "    precision, recall, _ = precision_recall_curve(y_true, y_probs[:, 0],pos_label=0)\n",
    "    pr_auc_class_0 = auc(recall, precision)\n",
    "\n",
    "    return class_0_metrics, class_1_metrics, pr_auc_class_0, pr_auc_class_1\n",
    "\n",
    "\n",
    "\n",
    "# Calculate class metrics for clf\n",
    "class_0_metrics_train_clf, class_1_metrics_train_clf, pr_auc_0_train_clf, pr_auc_1_train_clf = calculate_class_metrics_clf(y_train, train_preds_bin_clf, train_preds_clf)\n",
    "class_0_metrics_dev_clf, class_1_metrics_dev_clf, pr_auc_0_dev_clf, pr_auc_1_dev_clf = calculate_class_metrics_clf(y_dev, dev_preds_bin_clf, dev_preds_clf)\n",
    "class_0_metrics_test_clf, class_1_metrics_test_clf, pr_auc_0_test_clf, pr_auc_1_test_clf = calculate_class_metrics_clf(y_test, test_preds_bin_clf, test_preds_clf)\n",
    "\n",
    "# Calculate class metrics for MLP\n",
    "class_0_metrics_train_mlp, class_1_metrics_train_mlp, pr_auc_0_train_mlp, pr_auc_1_train_mlp = calculate_class_metrics_model(y_train, train_preds_bin_mlp, train_preds_mlp)\n",
    "class_0_metrics_dev_mlp, class_1_metrics_dev_mlp, pr_auc_0_dev_mlp, pr_auc_1_dev_mlp = calculate_class_metrics_model(y_dev, dev_preds_bin_mlp, dev_preds_mlp)\n",
    "class_0_metrics_test_mlp, class_1_metrics_test_mlp, pr_auc_0_test_mlp, pr_auc_1_test_mlp = calculate_class_metrics_model(y_test, test_preds_bin_mlp,test_preds_mlp)\n",
    "\n",
    "# Calculate class metrics for BiLSTM\n",
    "class_0_metrics_train_biLSTM, class_1_metrics_train_biLSTM, pr_auc_0_train_biLSTM, pr_auc_1_train_biLSTM = calculate_class_metrics_model(y_train, train_preds_bin_biLSTM, train_preds_biLSTM)\n",
    "class_0_metrics_dev_biLSTM, class_1_metrics_dev_biLSTM, pr_auc_0_dev_biLSTM, pr_auc_1_dev_biLSTM = calculate_class_metrics_model(y_dev, dev_preds_bin_biLSTM, dev_preds_biLSTM)\n",
    "class_0_metrics_test_biLSTM, class_1_metrics_test_biLSTM, pr_auc_0_test_biLSTM, pr_auc_1_test_biLSTM = calculate_class_metrics_model(y_test, test_preds_bin_biLSTM,test_preds_biLSTM)\n",
    "\n",
    "\n",
    "# Calculate class metrics for BiGRU\n",
    "class_0_metrics_train_biGRU, class_1_metrics_train_biGRU, pr_auc_0_train_biGRU, pr_auc_1_train_biGRU = calculate_class_metrics_model(y_train, train_preds_bin_biGRU, train_preds_biGRU)\n",
    "class_0_metrics_dev_biGRU, class_1_metrics_dev_biGRU, pr_auc_0_dev_biGRU, pr_auc_1_dev_biGRU = calculate_class_metrics_model(y_dev, dev_preds_bin_biGRU, dev_preds_biGRU)\n",
    "class_0_metrics_test_biGRU, class_1_metrics_test_biGRU, pr_auc_0_test_biGRU, pr_auc_1_test_biGRU = calculate_class_metrics_model(y_test, test_preds_bin_biGRU,test_preds_biGRU)\n",
    "\n",
    "\n",
    "# Create separate DataFrames for training, development, and test results for each class\n",
    "train_class_metrics_df = pd.DataFrame({\n",
    "    'Classifier': ['LR', 'MLP', 'biLSTM','biGRU'],\n",
    "    'Class 0 Precision': [class_0_metrics_train_clf['precision'], class_0_metrics_train_mlp['precision'],class_0_metrics_train_biLSTM['precision'],class_0_metrics_train_biGRU['precision']],\n",
    "    'Class 1 Precision': [class_1_metrics_train_clf['precision'], class_1_metrics_train_mlp['precision'],class_1_metrics_train_biLSTM['precision'],class_1_metrics_train_biGRU['precision']],\n",
    "    'Class 0 Recall': [class_0_metrics_train_clf['recall'], class_0_metrics_train_mlp['recall'],class_0_metrics_train_biLSTM['recall'],class_0_metrics_train_biGRU['recall']],\n",
    "    'Class 1 Recall': [class_1_metrics_train_clf['recall'], class_1_metrics_train_mlp['recall'],class_1_metrics_train_biLSTM['recall'],class_1_metrics_train_biGRU['recall']],\n",
    "    'Class 0 F1-score': [class_0_metrics_train_clf['f1-score'], class_0_metrics_train_mlp['f1-score'],class_0_metrics_train_biLSTM['f1-score'],class_0_metrics_train_biGRU['f1-score']],\n",
    "    'Class 1 F1-score': [class_1_metrics_train_clf['f1-score'], class_1_metrics_train_mlp['f1-score'],class_1_metrics_train_biLSTM['f1-score'],class_1_metrics_train_biGRU['f1-score']],\n",
    "    'PR AUC Class 0': [pr_auc_0_train_clf, pr_auc_0_train_mlp,pr_auc_0_train_biLSTM,pr_auc_0_train_biGRU],\n",
    "    'PR AUC Class 1': [pr_auc_1_train_clf, pr_auc_1_train_mlp,pr_auc_1_train_biLSTM,pr_auc_1_train_biGRU]\n",
    "})\n",
    "\n",
    "dev_class_metrics_df = pd.DataFrame({\n",
    "    'Classifier': ['LR', 'MLP', 'biLSTM', 'biGRU'],\n",
    "    'Class 0 Precision': [class_0_metrics_dev_clf['precision'], class_0_metrics_dev_mlp['precision'],class_0_metrics_dev_biLSTM['precision'],class_0_metrics_dev_biGRU['precision']],\n",
    "    'Class 1 Precision': [class_1_metrics_dev_clf['precision'], class_1_metrics_dev_mlp['precision'],class_1_metrics_dev_biLSTM['precision'],class_1_metrics_dev_biGRU['precision']],\n",
    "    'Class 0 Recall': [class_0_metrics_dev_clf['recall'], class_0_metrics_dev_mlp['recall'],class_0_metrics_dev_biLSTM['recall'],class_0_metrics_dev_biGRU['recall']],\n",
    "    'Class 1 Recall': [class_1_metrics_dev_clf['recall'], class_1_metrics_dev_mlp['recall'],class_1_metrics_dev_biLSTM['recall'],class_1_metrics_dev_biGRU['recall']],\n",
    "    'Class 0 F1-score': [class_0_metrics_dev_clf['f1-score'], class_0_metrics_dev_mlp['f1-score'],class_0_metrics_dev_biLSTM['f1-score'],class_0_metrics_dev_biGRU['f1-score']],\n",
    "    'Class 1 F1-score': [class_1_metrics_dev_clf['f1-score'], class_1_metrics_dev_mlp['f1-score'],class_1_metrics_dev_biLSTM['f1-score'],class_1_metrics_dev_biGRU['f1-score']],\n",
    "    'PR AUC Class 0': [pr_auc_0_dev_clf, pr_auc_0_dev_mlp,pr_auc_0_dev_biLSTM,pr_auc_0_dev_biGRU],\n",
    "    'PR AUC Class 1': [pr_auc_1_dev_clf, pr_auc_1_dev_mlp,pr_auc_1_dev_biLSTM,pr_auc_1_dev_biGRU]\n",
    "})\n",
    "\n",
    "test_class_metrics_df = pd.DataFrame({\n",
    "    'Classifier': ['LR', 'MLP', 'biLSTM', 'biGRU'],\n",
    "    'Class 0 Precision': [class_0_metrics_test_clf['precision'], class_0_metrics_test_mlp['precision'], class_0_metrics_test_biLSTM['precision'],class_0_metrics_test_biGRU['precision']],\n",
    "    'Class 1 Precision': [class_1_metrics_test_clf['precision'], class_1_metrics_test_mlp['precision'],class_1_metrics_test_biLSTM['precision'],class_1_metrics_test_biGRU['precision']],\n",
    "    'Class 0 Recall': [class_0_metrics_test_clf['recall'], class_0_metrics_test_mlp['recall'],class_0_metrics_test_biLSTM['recall'],class_1_metrics_test_biGRU['recall']],\n",
    "    'Class 1 Recall': [class_1_metrics_test_clf['recall'], class_1_metrics_test_mlp['recall'],class_1_metrics_test_biLSTM['recall'],class_1_metrics_test_biGRU['recall']],\n",
    "    'Class 0 F1-score': [class_0_metrics_test_clf['f1-score'], class_0_metrics_test_mlp['f1-score'],class_0_metrics_test_biLSTM['f1-score'],class_1_metrics_test_biLSTM['f1-score']],\n",
    "    'Class 1 F1-score': [class_1_metrics_test_clf['f1-score'], class_1_metrics_test_mlp['f1-score'],class_1_metrics_test_biLSTM['f1-score'],class_1_metrics_test_biLSTM['f1-score']],\n",
    "    'PR AUC Class 0': [pr_auc_0_test_clf, pr_auc_0_test_mlp,pr_auc_0_test_biLSTM,pr_auc_0_test_biLSTM],\n",
    "    'PR AUC Class 1': [pr_auc_1_test_clf, pr_auc_1_test_mlp,pr_auc_1_test_biLSTM,pr_auc_0_test_biLSTM]\n",
    "})\n",
    "\n",
    "from tabulate import tabulate\n",
    "\n",
    "# Print training class metrics\n",
    "print(\"Training Class Metrics:\")\n",
    "print(tabulate(train_class_metrics_df, headers='keys', tablefmt='psql'))\n",
    "\n",
    "# Print development class metrics\n",
    "print(\"\\nDevelopment Class Metrics:\")\n",
    "print(tabulate(dev_class_metrics_df, headers='keys', tablefmt='psql'))\n",
    "\n",
    "# Print test class metrics\n",
    "print(\"\\nTest Class Metrics:\")\n",
    "print(tabulate(test_class_metrics_df, headers='keys', tablefmt='psql'))\n"
   ]
  },
  {
   "cell_type": "code",
   "execution_count": 56,
   "metadata": {},
   "outputs": [
    {
     "name": "stdout",
     "output_type": "stream",
     "text": [
      "Training Class Metrics:\n",
      "+----+--------------+-------------+----------+----------+----------+\n",
      "|    | Classifier   |   Precision |   Recall |       F1 |   PR AUC |\n",
      "|----+--------------+-------------+----------+----------+----------|\n",
      "|  0 | LR           |    0.892651 | 0.892497 | 0.892489 | 0.958453 |\n",
      "|  1 | MLP          |    0.939516 | 0.939204 | 0.939189 | 0.985183 |\n",
      "|  2 | biLSTM       |    0.856212 | 0.856201 | 0.856199 | 0.930473 |\n",
      "|  3 | biGRU        |    0.962918 | 0.962899 | 0.9629   | 0.993177 |\n",
      "+----+--------------+-------------+----------+----------+----------+\n",
      "\n",
      "Development Class Metrics:\n",
      "+----+--------------+-------------+----------+----------+----------+\n",
      "|    | Classifier   |   Precision |   Recall |       F1 |   PR AUC |\n",
      "|----+--------------+-------------+----------+----------+----------|\n",
      "|  0 | LR           |    0.892651 | 0.885274 | 0.885278 | 0.953649 |\n",
      "|  1 | MLP          |    0.888608 | 0.888236 | 0.888177 | 0.958003 |\n",
      "|  2 | biLSTM       |    0.84834  | 0.848312 | 0.848298 | 0.927519 |\n",
      "|  3 | biGRU        |    0.905628 | 0.905481 | 0.905489 | 0.963894 |\n",
      "+----+--------------+-------------+----------+----------+----------+\n",
      "\n",
      "Test Class Metrics:\n",
      "+----+--------------+-------------+----------+----------+----------+\n",
      "|    | Classifier   |   Precision |   Recall |       F1 |   PR AUC |\n",
      "|----+--------------+-------------+----------+----------+----------|\n",
      "|  0 | LR           |    0.88421  | 0.884055 | 0.88408  | 0.952135 |\n",
      "|  1 | MLP          |    0.889673 | 0.889023 | 0.888864 | 0.955242 |\n",
      "|  2 | biLSTM       |    0.844817 | 0.844821 | 0.8448   | 0.922107 |\n",
      "|  3 | biGRU        |    0.903135 | 0.903076 | 0.903092 | 0.961951 |\n",
      "+----+--------------+-------------+----------+----------+----------+\n"
     ]
    }
   ],
   "source": [
    "from sklearn.metrics import precision_recall_curve, average_precision_score, precision_score, recall_score, f1_score, auc\n",
    "import pandas as pd\n",
    "\n",
    "def calculate_metrics(y_true, y_pred, y_probs):\n",
    "    precision = precision_score(y_true, y_pred, average='macro')\n",
    "    recall = recall_score(y_true, y_pred, average='macro')\n",
    "    f1 = f1_score(y_true, y_pred, average='macro')\n",
    "    precision_auc, recall_auc, _ = precision_recall_curve(y_true, y_probs)\n",
    "    pr_auc = auc(recall_auc, precision_auc)\n",
    "    return precision, recall, f1, pr_auc\n",
    "\n",
    "# Calculate class metrics for clf\n",
    "precision_train_clf, recall_train_clf, f1_train_clf, pr_auc_train_clf = calculate_metrics(y_train, train_preds_bin_clf, train_preds_clf[:,1])\n",
    "precision_dev_clf, recall_dev_clf, f1_dev_clf, pr_auc_dev_clf = calculate_metrics(y_dev, dev_preds_bin_clf, dev_preds_clf[:,1])\n",
    "precision_test_clf, recall_test_clf, f1_test_clf, pr_auc_test_clf = calculate_metrics(y_test, test_preds_bin_clf, test_preds_clf[:,1])\n",
    "\n",
    "# Calculate class metrics for model\n",
    "precision_train_mlp, recall_train_mlp, f1_train_mlp, pr_auc_train_mlp = calculate_metrics(y_train, train_preds_bin_mlp, train_preds_mlp)\n",
    "precision_dev_mlp, recall_dev_mlp, f1_dev_mlp, pr_auc_dev_mlp = calculate_metrics(y_dev, dev_preds_bin_mlp, dev_preds_mlp)\n",
    "precision_test_mlp, recall_test_mlp, f1_test_mlp, pr_auc_test_mlp = calculate_metrics(y_test, test_preds_bin_mlp,test_preds_mlp)\n",
    "\n",
    "# Calculate class metrics for biLSTM\n",
    "precision_train_biLSTM, recall_train_biLSTM, f1_train_biLSTM, pr_auc_train_biLSTM = calculate_metrics(y_train, train_preds_bin_biLSTM, train_preds_biLSTM)\n",
    "precision_dev_biLSTM, recall_dev_biLSTM, f1_dev_biLSTM, pr_auc_dev_biLSTM = calculate_metrics(y_dev, dev_preds_bin_biLSTM, dev_preds_biLSTM)\n",
    "precision_test_biLSTM, recall_test_biLSTM, f1_test_biLSTM, pr_auc_test_biLSTM = calculate_metrics(y_test, test_preds_bin_biLSTM,test_preds_biLSTM)\n",
    "\n",
    "\n",
    "# Calculate class metrics for biGRU\n",
    "precision_train_biGRU, recall_train_biGRU, f1_train_biGRU, pr_auc_train_biGRU = calculate_metrics(y_train, train_preds_bin_biGRU, train_preds_biGRU)\n",
    "precision_dev_biGRU, recall_dev_biGRU, f1_dev_biGRU, pr_auc_dev_biGRU = calculate_metrics(y_dev, dev_preds_bin_biGRU, dev_preds_biGRU)\n",
    "precision_test_biGRU, recall_test_biGRU, f1_test_biGRU, pr_auc_test_biGRU = calculate_metrics(y_test, test_preds_bin_biGRU,test_preds_biGRU)\n",
    "\n",
    "\n",
    "\n",
    "\n",
    "# Create separate DataFrames for training, development, and test results for each class\n",
    "train_class_metrics_df = pd.DataFrame({\n",
    "    'Classifier': ['LR', 'MLP', 'biLSTM', 'biGRU'],\n",
    "    'Precision': [precision_train_clf, precision_train_mlp,precision_train_biLSTM,precision_train_biGRU],\n",
    "    'Recall': [recall_train_clf, recall_train_mlp,recall_train_biLSTM,recall_train_biGRU],\n",
    "    'F1': [f1_train_clf, f1_train_mlp,f1_train_biLSTM,f1_train_biGRU],\n",
    "    'PR AUC': [pr_auc_train_clf, pr_auc_train_mlp,pr_auc_train_biLSTM,pr_auc_train_biGRU]\n",
    "})\n",
    "\n",
    "dev_class_metrics_df = pd.DataFrame({\n",
    "    'Classifier': ['LR', 'MLP', 'biLSTM', 'biGRU'],\n",
    "    'Precision': [precision_train_clf, precision_dev_mlp, precision_dev_biLSTM,precision_dev_biGRU],\n",
    "    'Recall': [recall_dev_clf, recall_dev_mlp,recall_dev_biLSTM,recall_dev_biGRU],\n",
    "    'F1': [f1_dev_clf, f1_dev_mlp,f1_dev_biLSTM,f1_dev_biGRU],\n",
    "    'PR AUC': [pr_auc_dev_clf, pr_auc_dev_mlp,pr_auc_dev_biLSTM,pr_auc_dev_biGRU]\n",
    "})\n",
    "\n",
    "test_class_metrics_df = pd.DataFrame({\n",
    "    'Classifier': ['LR', 'MLP', 'biLSTM', 'biGRU'],\n",
    "    'Precision': [precision_test_clf, precision_test_mlp,precision_test_biLSTM,precision_test_biGRU],\n",
    "    'Recall': [recall_test_clf, recall_test_mlp,recall_test_biLSTM,recall_test_biGRU],\n",
    "    'F1': [f1_test_clf, f1_test_mlp,f1_test_biLSTM,f1_test_biGRU],\n",
    "    'PR AUC': [pr_auc_test_clf, pr_auc_test_mlp,pr_auc_test_biLSTM,pr_auc_test_biGRU]\n",
    "})\n",
    "\n",
    "from tabulate import tabulate\n",
    "\n",
    "# Print training class metrics\n",
    "print(\"Training Class Metrics:\")\n",
    "print(tabulate(train_class_metrics_df, headers='keys', tablefmt='psql'))\n",
    "\n",
    "# Print development class metrics\n",
    "print(\"\\nDevelopment Class Metrics:\")\n",
    "print(tabulate(dev_class_metrics_df, headers='keys', tablefmt='psql'))\n",
    "\n",
    "# Print test class metrics\n",
    "print(\"\\nTest Class Metrics:\")\n",
    "print(tabulate(test_class_metrics_df, headers='keys', tablefmt='psql'))\n"
   ]
  },
  {
   "cell_type": "code",
   "execution_count": null,
   "metadata": {},
   "outputs": [],
   "source": [
    "# %%capture\n",
    "# !pip install -U keras-tuner"
   ]
  },
  {
   "cell_type": "markdown",
   "metadata": {},
   "source": [
    "## Tune BiGRU + deep self-attention Tuned via -- Keras Tuner\n",
    "\n"
   ]
  },
  {
   "cell_type": "markdown",
   "metadata": {},
   "source": [
    "The parameter space here is :\n",
    "\n",
    "* embedding_dropout: Dropout rate after the embedding layer.\n",
    "* gru_units: Number of units in the Bidirectional GRU layer.\n",
    "* gru_dropout: Dropout rate after the Bidirectional GRU layer.\n",
    "* num_attention_layers: Number of self-attention layers.\n",
    "* attention_units: Number of units in the self-attention mechanism.\n",
    "* attention_dropout: Dropout rate in the self-attention mechanism.\n",
    "* dense_activation: Activation function in the dense layer before the output layer.\n",
    "* dense_dropout: Dropout rate before the output layer.\n",
    "* learning_rate: Learning rate for the Adam optimizer.\n"
   ]
  },
  {
   "cell_type": "code",
   "execution_count": 23,
   "metadata": {},
   "outputs": [
    {
     "name": "stdout",
     "output_type": "stream",
     "text": [
      "Reloading Tuner from KT_dir/biGRU_tuning/tuner0.json\n",
      "Optimal Hyperparameters: <keras_tuner.src.engine.hyperparameters.hyperparameters.HyperParameters object at 0x7ff86013fd60>\n"
     ]
    }
   ],
   "source": [
    "import tensorflow as tf\n",
    "from tensorflow.keras.layers import Bidirectional, Dense, Dropout, Embedding, GRU, Input\n",
    "from tensorflow.keras.callbacks import EarlyStopping, ModelCheckpoint\n",
    "import keras_tuner as kt\n",
    " \n",
    "GRU_SIZE = 300\n",
    "DENSE = 1000\n",
    "\n",
    "def build_gru_model(hp):\n",
    "    model = tf.keras.Sequential()\n",
    "\n",
    "    model.add(Input(shape=(1,), dtype=tf.string))\n",
    "    model.add(vectorizer)\n",
    "    model.add(Embedding(MAX_WORDS, EMBEDDING_DIM, weights=[embedding_matrix],\n",
    "                        input_length=MAX_SEQUENCE_LENGTH, mask_zero=True, trainable=False))\n",
    "    \n",
    "    model.add(Dropout(hp.Float('embedding_dropout', min_value=0.1, max_value=0.5, step=0.1)))\n",
    "\n",
    "    model.add(Bidirectional(GRU(hp.Int('gru_units_1', min_value=128, max_value=1152, step=128), return_sequences=True)))\n",
    "    model.add(Dropout(hp.Float('gru_dropout', min_value=0.1, max_value=0.5, step=0.1)))\n",
    "\n",
    "    # We can add one more layer(but gpu dedicated memory caps out)\n",
    "    # model.add(Bidirectional(GRU(hp.Int('gru_units_2', min_value=128, max_value=1000, step=64), return_sequences=True)))\n",
    "    \n",
    "    model.add(SelfAttention(mlp_layers=hp.Choice('num_attention_layers', values=[1, 2, 3]),\n",
    "                             units=hp.Int('attention_units', min_value=128, max_value=1152, step=128),\n",
    "                             dropout_rate=hp.Float('attention_dropout', min_value=0.1, max_value=0.5, step=0.1)))\n",
    "    \n",
    "    model.add(Dense(units=DENSE, activation=hp.Choice('dense_activation', values=['relu', 'tanh'])))\n",
    "    model.add(Dropout(hp.Float('dense_dropout', min_value=0.1, max_value=0.5, step=0.1)))\n",
    "    \n",
    "    model.add(Dense(1, activation='sigmoid'))\n",
    "\n",
    "    model.compile(loss='binary_crossentropy',\n",
    "                  optimizer=tf.keras.optimizers.Adam(learning_rate=hp.Choice('learning_rate', values=[1e-3, 1e-4])),\n",
    "                  metrics=[\"accuracy\"])\n",
    "\n",
    "    return model\n",
    "\n",
    "\n",
    "tuner = kt.RandomSearch(build_gru_model,\n",
    "                        objective=kt.Objective('val_accuracy', direction='max'),\n",
    "                        max_trials=5,\n",
    "                        directory=\"KT_dir\",\n",
    "                        project_name='biGRU_tuning') # Make dir KT_dir/biGRU_tuning that holds the model evaluated during tuning\n",
    "\n",
    "early_stopping_callback = EarlyStopping(\n",
    "    monitor='val_loss',\n",
    "    patience=15,\n",
    "    restore_best_weights=True\n",
    ")\n",
    "\n",
    "MLP_checkpoint = ModelCheckpoint(\n",
    "    'checkpoints/weights3',\n",
    "    monitor='val_loss',\n",
    "    mode='min',\n",
    "    verbose=2,\n",
    "    save_best_only=True,\n",
    "    save_weights_only=True,\n",
    "    save_format='tf'\n",
    ")\n",
    "\n",
    "tuner.search(np.array(X_train), y_train,\n",
    "             validation_data=(np.array(X_dev), y_dev),\n",
    "             batch_size=256,\n",
    "             epochs=20,\n",
    "             shuffle=True,\n",
    "             callbacks=[early_stopping_callback, MLP_checkpoint])\n",
    "\n",
    "# Get the optimal hyperparameters\n",
    "best_hps = tuner.get_best_hyperparameters(num_trials=1)[0] # num_trials=1 retrieves the single best hyperparameters.\n",
    "print(f\"Optimal Hyperparameters: {best_hps}\")\n"
   ]
  },
  {
   "cell_type": "markdown",
   "metadata": {},
   "source": [
    "* Extract the first model from the list of model, which is apparently the best model because this list is sorted!"
   ]
  },
  {
   "cell_type": "code",
   "execution_count": 24,
   "metadata": {},
   "outputs": [
    {
     "name": "stdout",
     "output_type": "stream",
     "text": [
      "Model: \"sequential\"\n",
      "_________________________________________________________________\n",
      " Layer (type)                Output Shape              Param #   \n",
      "=================================================================\n",
      " text_vectorization (TextVec  (None, 266)              0         \n",
      " torization)                                                     \n",
      "                                                                 \n",
      " embedding (Embedding)       (None, 266, 300)          30000000  \n",
      "                                                                 \n",
      " dropout (Dropout)           (None, 266, 300)          0         \n",
      "                                                                 \n",
      " bidirectional (Bidirectiona  (None, 266, 512)         857088    \n",
      " l)                                                              \n",
      "                                                                 \n",
      " dropout_1 (Dropout)         (None, 266, 512)          0         \n",
      "                                                                 \n",
      " self_attention (SelfAttenti  (None, 512)              525825    \n",
      " on)                                                             \n",
      "                                                                 \n",
      " dense_3 (Dense)             (None, 1000)              513000    \n",
      "                                                                 \n",
      " dropout_4 (Dropout)         (None, 1000)              0         \n",
      "                                                                 \n",
      " dense_4 (Dense)             (None, 1)                 1001      \n",
      "                                                                 \n",
      "=================================================================\n",
      "Total params: 31,896,914\n",
      "Trainable params: 1,896,914\n",
      "Non-trainable params: 30,000,000\n",
      "_________________________________________________________________\n"
     ]
    }
   ],
   "source": [
    "best_model = tuner.get_best_models(num_models=1)[0]\n",
    "best_model.summary()"
   ]
  },
  {
   "cell_type": "markdown",
   "metadata": {},
   "source": [
    "* Classification Report for the best model with tuned parameters in developement set"
   ]
  },
  {
   "cell_type": "code",
   "execution_count": 25,
   "metadata": {},
   "outputs": [
    {
     "name": "stdout",
     "output_type": "stream",
     "text": [
      "  2/313 [..............................] - ETA: 18s "
     ]
    },
    {
     "name": "stderr",
     "output_type": "stream",
     "text": [
      "2024-02-28 17:37:23.208125: I tensorflow/stream_executor/cuda/cuda_dnn.cc:384] Loaded cuDNN version 8800\n"
     ]
    },
    {
     "name": "stdout",
     "output_type": "stream",
     "text": [
      "313/313 [==============================] - 15s 43ms/step\n",
      "              precision    recall  f1-score   support\n",
      "\n",
      "           0       0.90      0.90      0.90      4960\n",
      "           1       0.90      0.90      0.90      5040\n",
      "\n",
      "    accuracy                           0.90     10000\n",
      "   macro avg       0.90      0.90      0.90     10000\n",
      "weighted avg       0.90      0.90      0.90     10000\n",
      "\n"
     ]
    }
   ],
   "source": [
    "from sklearn.metrics import classification_report\n",
    "\n",
    "predictions_dev = best_model.predict(np.array(X_dev))\n",
    "predictions_dev = np.array([[1] if pred >= 0.5 else [0] for pred in predictions_dev])\n",
    "\n",
    "print(classification_report(y_dev, predictions_dev))"
   ]
  },
  {
   "cell_type": "markdown",
   "metadata": {},
   "source": [
    "* Classification Report for the best model with tuned parameters in testing set"
   ]
  },
  {
   "cell_type": "code",
   "execution_count": 27,
   "metadata": {},
   "outputs": [
    {
     "name": "stdout",
     "output_type": "stream",
     "text": [
      "313/313 [==============================] - 13s 41ms/step\n",
      "              precision    recall  f1-score   support\n",
      "\n",
      "           0       0.90      0.91      0.90      5008\n",
      "           1       0.91      0.90      0.90      4992\n",
      "\n",
      "    accuracy                           0.90     10000\n",
      "   macro avg       0.90      0.90      0.90     10000\n",
      "weighted avg       0.90      0.90      0.90     10000\n",
      "\n"
     ]
    }
   ],
   "source": [
    "predictions_test = best_model.predict(np.array(X_test))\n",
    "predictions_test = np.array([[1] if pred >= 0.5 else [0] for pred in predictions_test])\n",
    "\n",
    "print(classification_report(y_test, predictions_test))\n"
   ]
  }
 ],
 "metadata": {
  "colab": {
   "provenance": []
  },
  "kernelspec": {
   "display_name": "Python 3 (ipykernel)",
   "language": "python",
   "name": "python3"
  },
  "language_info": {
   "codemirror_mode": {
    "name": "ipython",
    "version": 3
   },
   "file_extension": ".py",
   "mimetype": "text/x-python",
   "name": "python",
   "nbconvert_exporter": "python",
   "pygments_lexer": "ipython3",
   "version": "3.11.3"
  }
 },
 "nbformat": 4,
 "nbformat_minor": 4
}
